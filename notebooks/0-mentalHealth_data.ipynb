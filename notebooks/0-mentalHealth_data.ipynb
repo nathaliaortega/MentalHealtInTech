{
 "metadata": {
  "language_info": {
   "codemirror_mode": {
    "name": "ipython",
    "version": 3
   },
   "file_extension": ".py",
   "mimetype": "text/x-python",
   "name": "python",
   "nbconvert_exporter": "python",
   "pygments_lexer": "ipython3",
   "version": "3.8.3-final"
  },
  "orig_nbformat": 2,
  "kernelspec": {
   "name": "Python 3.8.3 64-bit",
   "display_name": "Python 3.8.3 64-bit",
   "metadata": {
    "interpreter": {
     "hash": "bc744bf36f45ff7bd3b0ebafda52b31b6c48c96286efbf90fe3cb91ccc1b4516"
    }
   }
  }
 },
 "nbformat": 4,
 "nbformat_minor": 2,
 "cells": [
  {
   "source": [
    "## Instalar e importar librerías"
   ],
   "cell_type": "markdown",
   "metadata": {}
  },
  {
   "cell_type": "code",
   "execution_count": 53,
   "metadata": {},
   "outputs": [
    {
     "output_type": "stream",
     "name": "stdout",
     "text": [
      "Requirement already satisfied: pandas in c:\\users\\natya\\appdata\\local\\programs\\python\\python38\\lib\\site-packages (1.1.2)Note: you may need to restart the kernel to use updated packages.\n",
      "Requirement already satisfied: numpy>=1.15.4 in c:\\users\\natya\\appdata\\local\\programs\\python\\python38\\lib\\site-packages (from pandas) (1.19.2)\n",
      "\n",
      "Requirement already satisfied: pytz>=2017.2 in c:\\users\\natya\\appdata\\local\\programs\\python\\python38\\lib\\site-packages (from pandas) (2020.1)\n",
      "Requirement already satisfied: python-dateutil>=2.7.3 in c:\\users\\natya\\appdata\\local\\programs\\python\\python38\\lib\\site-packages (from pandas) (2.8.1)\n",
      "Requirement already satisfied: six>=1.5 in c:\\users\\natya\\appdata\\roaming\\python\\python38\\site-packages (from python-dateutil>=2.7.3->pandas) (1.15.0)\n",
      "WARNING: You are using pip version 20.1.1; however, version 20.2.3 is available.\n",
      "You should consider upgrading via the 'C:\\Users\\natya\\AppData\\Local\\Programs\\Python\\Python38\\python.exe -m pip install --upgrade pip' command.\n"
     ]
    }
   ],
   "source": [
    "pip install pandas"
   ]
  },
  {
   "cell_type": "code",
   "execution_count": 54,
   "metadata": {},
   "outputs": [
    {
     "output_type": "stream",
     "name": "stdout",
     "text": [
      "Requirement already satisfied: numpy in c:\\users\\natya\\appdata\\local\\programs\\python\\python38\\lib\\site-packages (1.19.2)\n",
      "Note: you may need to restart the kernel to use updated packages.\n",
      "WARNING: You are using pip version 20.1.1; however, version 20.2.3 is available.\n",
      "You should consider upgrading via the 'C:\\Users\\natya\\AppData\\Local\\Programs\\Python\\Python38\\python.exe -m pip install --upgrade pip' command.\n"
     ]
    }
   ],
   "source": [
    "pip install numpy"
   ]
  },
  {
   "cell_type": "code",
   "execution_count": 55,
   "metadata": {},
   "outputs": [
    {
     "output_type": "stream",
     "name": "stdout",
     "text": [
      "Requirement already satisfied: matplotlib in c:\\users\\natya\\appdata\\local\\programs\\python\\python38\\lib\\site-packages (3.3.2)\n",
      "Requirement already satisfied: kiwisolver>=1.0.1 in c:\\users\\natya\\appdata\\local\\programs\\python\\python38\\lib\\site-packages (from matplotlib) (1.2.0)\n",
      "Requirement already satisfied: python-dateutil>=2.1 in c:\\users\\natya\\appdata\\local\\programs\\python\\python38\\lib\\site-packages (from matplotlib) (2.8.1)\n",
      "Requirement already satisfied: pillow>=6.2.0 in c:\\users\\natya\\appdata\\local\\programs\\python\\python38\\lib\\site-packages (from matplotlib) (8.0.0)\n",
      "Requirement already satisfied: cycler>=0.10 in c:\\users\\natya\\appdata\\local\\programs\\python\\python38\\lib\\site-packages (from matplotlib) (0.10.0)\n",
      "Requirement already satisfied: pyparsing!=2.0.4,!=2.1.2,!=2.1.6,>=2.0.3 in c:\\users\\natya\\appdata\\local\\programs\\python\\python38\\lib\\site-packages (from matplotlib) (2.4.7)\n",
      "Requirement already satisfied: certifi>=2020.06.20 in c:\\users\\natya\\appdata\\local\\programs\\python\\python38\\lib\\site-packages (from matplotlib) (2020.6.20)\n",
      "Requirement already satisfied: numpy>=1.15 in c:\\users\\natya\\appdata\\local\\programs\\python\\python38\\lib\\site-packages (from matplotlib) (1.19.2)\n",
      "Requirement already satisfied: six>=1.5 in c:\\users\\natya\\appdata\\roaming\\python\\python38\\site-packages (from python-dateutil>=2.1->matplotlib) (1.15.0)\n",
      "Note: you may need to restart the kernel to use updated packages.\n",
      "WARNING: You are using pip version 20.1.1; however, version 20.2.3 is available.\n",
      "You should consider upgrading via the 'C:\\Users\\natya\\AppData\\Local\\Programs\\Python\\Python38\\python.exe -m pip install --upgrade pip' command.\n"
     ]
    }
   ],
   "source": [
    "pip install matplotlib"
   ]
  },
  {
   "cell_type": "code",
   "execution_count": 56,
   "metadata": {},
   "outputs": [],
   "source": [
    "import pandas as pd\n",
    "import numpy as np"
   ]
  },
  {
   "cell_type": "code",
   "execution_count": 57,
   "metadata": {},
   "outputs": [],
   "source": [
    "import matplotlib.pyplot as pyplot"
   ]
  },
  {
   "source": [
    "## Cargar los datos"
   ],
   "cell_type": "markdown",
   "metadata": {}
  },
  {
   "cell_type": "code",
   "execution_count": 58,
   "metadata": {},
   "outputs": [],
   "source": [
    "data_raw = pd.read_csv(\"../data/raw/enfermedadesMentales2017-2018.csv\")"
   ]
  },
  {
   "source": [
    "## Cambio nombres columnas"
   ],
   "cell_type": "markdown",
   "metadata": {}
  },
  {
   "cell_type": "code",
   "execution_count": 59,
   "metadata": {},
   "outputs": [
    {
     "output_type": "stream",
     "name": "stdout",
     "text": [
      "<class 'pandas.core.frame.DataFrame'>\nRangeIndex: 1173 entries, 0 to 1172\nData columns (total 98 columns):\n #   Column                                                                                                                                                                                                                                   Non-Null Count  Dtype  \n---  ------                                                                                                                                                                                                                                   --------------  -----  \n 0   #                                                                                                                                                                                                                                        1173 non-null   object \n 1   <strong>Are you self-employed?</strong>                                                                                                                                                                                                  1173 non-null   int64  \n 2   How many employees does your company or organization have?                                                                                                                                                                               1004 non-null   object \n 3   Is your employer primarily a tech company/organization?                                                                                                                                                                                  1004 non-null   float64\n 4   Is your primary role within your company related to tech/IT?                                                                                                                                                                             1004 non-null   float64\n 5   Does your employer provide mental health benefits as part of healthcare coverage?                                                                                                                                                        1004 non-null   object \n 6   Do you know the options for mental health care available under your employer-provided health coverage?                                                                                                                                   900 non-null    object \n 7   Has your employer ever formally discussed mental health (for example, as part of a wellness campaign or other official communication)?                                                                                                   1004 non-null   object \n 8   Does your employer offer resources to learn more about mental health disorders and options for seeking help?                                                                                                                             1004 non-null   object \n 9   Is your anonymity protected if you choose to take advantage of mental health or substance abuse treatment resources provided by your employer?                                                                                           1004 non-null   object \n 10  If a mental health issue prompted you to request a medical leave from work, how easy or difficult would it be to ask for that leave?                                                                                                     1004 non-null   object \n 11  Would you feel more comfortable talking to your coworkers about your physical health or your mental health?                                                                                                                              1004 non-null   object \n 12  Would you feel comfortable discussing a mental health issue with your direct supervisor(s)?                                                                                                                                              1004 non-null   object \n 13  Have you ever discussed your mental health with your employer?                                                                                                                                                                           1004 non-null   float64\n 14  Describe the conversation you had with your employer about your mental health, including their reactions and what actions were taken to address your mental health issue/questions.                                                      268 non-null    object \n 15  Would you feel comfortable discussing a mental health issue with your coworkers?                                                                                                                                                         1004 non-null   object \n 16  Have you ever discussed your mental health with coworkers?                                                                                                                                                                               1003 non-null   float64\n 17  Describe the conversation with coworkers you had about your mental health including their reactions.                                                                                                                                     332 non-null    object \n 18  Have you ever had a coworker discuss their or another coworker's mental health with you?                                                                                                                                                 998 non-null    float64\n 19  Describe the conversation your coworker had with you about their mental health (please do not use names).                                                                                                                                354 non-null    object \n 20  Overall, how much importance does your employer place on physical health?                                                                                                                                                                1004 non-null   float64\n 21  Overall, how much importance does your employer place on mental health?                                                                                                                                                                  1004 non-null   float64\n 22  <strong>Do you have previous employers?</strong>                                                                                                                                                                                         1173 non-null   int64  \n 23  Was your employer primarily a tech company/organization?                                                                                                                                                                                 1030 non-null   float64\n 24  <strong>Have your previous employers provided mental health benefits?</strong>                                                                                                                                                           1030 non-null   object \n 25  <strong>Were you aware of the options for mental health care provided by your previous employers?</strong>                                                                                                                               1030 non-null   object \n 26  Did your previous employers ever formally discuss mental health (as part of a wellness campaign or other official communication)?                                                                                                        1030 non-null   object \n 27  Did your previous employers provide resources to learn more about mental health disorders and how to seek help?                                                                                                                          1030 non-null   object \n 28  Was your anonymity protected if you chose to take advantage of mental health or substance abuse treatment resources with previous employers?                                                                                             1030 non-null   object \n 29  Would you have felt more comfortable talking to your previous employer about your physical health or your mental health?                                                                                                                 1030 non-null   object \n 30  Would you have been willing to discuss your mental health with your direct supervisor(s)?                                                                                                                                                1030 non-null   object \n 31  Did you ever discuss your mental health with your previous employer?                                                                                                                                                                     1030 non-null   float64\n 32  Describe the conversation you had with your previous employer about your mental health, including their reactions and actions taken to address your mental health issue/questions.                                                       165 non-null    object \n 33  <strong>Would you have been willing to discuss your mental health with your coworkers at previous employers?</strong>                                                                                                                    1030 non-null   object \n 34  Did you ever discuss your mental health with a previous coworker(s)?                                                                                                                                                                     1028 non-null   float64\n 35  Describe the conversation you had with your previous coworkers about your mental health including their reactions.                                                                                                                       222 non-null    object \n 36  Did you ever have a previous coworker discuss their or another coworker's mental health with you?                                                                                                                                        1024 non-null   float64\n 37  Describe the conversation your coworker had with you about their mental health (please do not use names)..1                                                                                                                              205 non-null    object \n 38  Overall, how much importance did your previous employer place on physical health?                                                                                                                                                        1030 non-null   float64\n 39  Overall, how much importance did your previous employer place on mental health?                                                                                                                                                          1030 non-null   float64\n 40  Do you currently have a mental health disorder?                                                                                                                                                                                          1173 non-null   object \n 41  Have you ever been diagnosed with a mental health disorder?                                                                                                                                                                              515 non-null    object \n 42  Anxiety Disorder (Generalized, Social, Phobia, etc)                                                                                                                                                                                      155 non-null    object \n 43  Mood Disorder (Depression, Bipolar Disorder, etc)                                                                                                                                                                                        136 non-null    object \n 44  Psychotic Disorder (Schizophrenia, Schizoaffective, etc)                                                                                                                                                                                 0 non-null      float64\n 45  Eating Disorder (Anorexia, Bulimia, etc)                                                                                                                                                                                                 5 non-null      object \n 46  Attention Deficit Hyperactivity Disorder                                                                                                                                                                                                 42 non-null     object \n 47  Personality Disorder (Borderline, Antisocial, Paranoid, etc)                                                                                                                                                                             21 non-null     object \n 48  Obsessive-Compulsive Disorder                                                                                                                                                                                                            27 non-null     object \n 49  Post-traumatic Stress Disorder                                                                                                                                                                                                           27 non-null     object \n 50  Stress Response Syndromes                                                                                                                                                                                                                26 non-null     object \n 51  Dissociative Disorder                                                                                                                                                                                                                    6 non-null      object \n 52  Substance Use Disorder                                                                                                                                                                                                                   10 non-null     object \n 53  Addictive Disorder                                                                                                                                                                                                                       13 non-null     object \n 54  Anxiety Disorder (Generalized, Social, Phobia, etc).1                                                                                                                                                                                    327 non-null    object \n 55  Mood Disorder (Depression, Bipolar Disorder, etc).1                                                                                                                                                                                      377 non-null    object \n 56  Psychotic Disorder (Schizophrenia, Schizoaffective, etc).1                                                                                                                                                                               13 non-null     object \n 57  Eating Disorder (Anorexia, Bulimia, etc).1                                                                                                                                                                                               32 non-null     object \n 58  Attention Deficit Hyperactivity Disorder.1                                                                                                                                                                                               128 non-null    object \n 59  Personality Disorder (Borderline, Antisocial, Paranoid, etc).1                                                                                                                                                                           24 non-null     object \n 60  Obsessive-Compulsive Disorder.1                                                                                                                                                                                                          41 non-null     object \n 61  Post-traumatic Stress Disorder.1                                                                                                                                                                                                         78 non-null     object \n 62  Stress Response Syndromes.1                                                                                                                                                                                                              13 non-null     object \n 63  Dissociative Disorder.1                                                                                                                                                                                                                  8 non-null      object \n 64  Substance Use Disorder.1                                                                                                                                                                                                                 27 non-null     object \n 65  Addictive Disorder.1                                                                                                                                                                                                                     18 non-null     object \n 66  Other                                                                                                                                                                                                                                    19 non-null     object \n 67  Have you ever sought treatment for a mental health disorder from a mental health professional?                                                                                                                                           1173 non-null   int64  \n 68  Do you have a family history of mental illness?                                                                                                                                                                                          1173 non-null   object \n 69  If you have a mental health disorder, how often do you feel that it interferes with your work <strong>when being treated effectively?</strong>                                                                                           1173 non-null   object \n 70  If you have a mental health disorder, how often do you feel that it interferes with your work <strong>when <em>NOT</em> being treated effectively (i.e., when you are experiencing symptoms)?</strong>                                   1173 non-null   object \n 71  Have your observations of how another individual who discussed a mental health issue made you less likely to reveal a mental health issue yourself in your current workplace?                                                            916 non-null    object \n 72  How willing would you be to share with friends and family that you have a mental illness?                                                                                                                                                1173 non-null   int64  \n 73  Would you be willing to bring up a physical health issue with a potential employer in an interview?                                                                                                                                      1173 non-null   object \n 74  Would you bring up your mental health with a potential employer in an interview?                                                                                                                                                         1173 non-null   object \n 75  Are you openly identified at work as a person with a mental health issue?                                                                                                                                                                1171 non-null   float64\n 76  Has being identified as a person with a mental health issue affected your career?                                                                                                                                                        135 non-null    float64\n 77  How has it affected your career?                                                                                                                                                                                                         42 non-null     float64\n 78  If they knew you suffered from a mental health disorder, how do you think that team members/co-workers would react?                                                                                                                      1171 non-null   float64\n 79  <strong>Have you observed or experienced an unsupportive or badly handled response to a mental health issue in your current or previous workplace?</strong>                                                                              1171 non-null   object \n 80  Describe the circumstances of the badly handled or unsupportive response.                                                                                                                                                                248 non-null    object \n 81  <strong>Have you observed or experienced supportive or well handled response to a mental health issue in your current or previous workplace?</strong>                                                                                    1171 non-null   object \n 82  Describe the circumstances of the supportive or well handled response.                                                                                                                                                                   0 non-null      float64\n 83  Overall, how well do you think the tech industry supports employees with mental health issues?                                                                                                                                           1171 non-null   float64\n 84  Briefly describe what you think the industry as a whole and/or employers could do to improve mental health support for employees.                                                                                                        789 non-null    object \n 85  If there is anything else you would like to tell us that has not been covered by the survey questions, please use this space to do so.                                                                                                   281 non-null    object \n 86  Would you be willing to talk to one of us more extensively about your experiences with mental health issues in the tech industry? (Note that all interview responses would be used <em>anonymously</em> and only with your permission.)  1171 non-null   float64\n 87  What is your age?                                                                                                                                                                                                                        1171 non-null   float64\n 88  What is your gender?                                                                                                                                                                                                                     1157 non-null   object \n 89  What country do you <strong>live</strong> in?                                                                                                                                                                                            1171 non-null   object \n 90  What US state or territory do you <strong>live</strong> in?                                                                                                                                                                              808 non-null    object \n 91  What is your race?                                                                                                                                                                                                                       784 non-null    object \n 92  Other.1                                                                                                                                                                                                                                  24 non-null     object \n 93  What country do you <strong>work</strong> in?                                                                                                                                                                                            1171 non-null   object \n 94  What US state or territory do you <strong>work</strong> in?                                                                                                                                                                              817 non-null    object \n 95  Start Date (UTC)                                                                                                                                                                                                                         1173 non-null   object \n 96  Submit Date (UTC)                                                                                                                                                                                                                        1173 non-null   object \n 97  Network ID                                                                                                                                                                                                                               1173 non-null   object \ndtypes: float64(22), int64(4), object(72)\nmemory usage: 898.2+ KB\n"
     ]
    }
   ],
   "source": [
    "data_raw.info()"
   ]
  },
  {
   "cell_type": "code",
   "execution_count": 60,
   "metadata": {},
   "outputs": [],
   "source": [
    "data_raw.rename(columns={'<strong>Are you self-employed?</strong>':'independiente/emprendedor','How many employees does your company or organization have?':'No_empleados', 'Is your employer primarily a tech company/organization?':'compania_tecnologia','Is your primary role within your company related to tech/IT?':'cargo_tecnologia',data_raw.columns[5]:'cubrimiento_EM','Do you know the options for mental health care available under your employer-provided health coverage?':'concimiento_cubrimiento_EM','Has your employer ever formally discussed mental health (for example, as part of a wellness campaign or other official communication)?':'charla_EM','Does your employer offer resources to learn more about mental health disorders and options for seeking help?':'recursos_EM','Is your anonymity protected if you choose to take advantage of mental health or substance abuse treatment resources provided by your employer?':'anonimato_EM','If a mental health issue prompted you to request a medical leave from work, how easy or difficult would it be to ask for that leave?':'dejar_trabajo_EM'}, inplace=True)"
   ]
  },
  {
   "cell_type": "code",
   "execution_count": 61,
   "metadata": {},
   "outputs": [],
   "source": [
    "data_raw.rename(columns={'Would you feel more comfortable talking to your coworkers about your physical health or your mental health?':'hablar_salud_mentalYFisica',\n",
    "'Would you feel comfortable discussing a mental health issue with your direct supervisor(s)?':'hablar_jefe_EM',\n",
    "'Have you ever discussed your mental health with your employer?':'habla_jefe_EM_flag',\n",
    "'Describe the conversation you had with your employer about your mental health, including their reactions and what actions were taken to address your mental health issue/questions.':'describir_conversacion_jefe',\n",
    "'Would you feel comfortable discussing a mental health issue with your coworkers?':'hablar_EM_companeros_flag','Describe the conversation with coworkers you had about your mental health including their reactions.':'describir_conversacion_companeros','Have you ever had a coworker discuss their or another coworker\\'s mental health with you':'hablar_conmigo_EM','Describe the conversation your coworker had with you about their mental health (please do not use names).':'describir_conversacion_companeros_conmigo','Overall, how much importance does your employer place on physical health?':'importacia_salud_fisica'}, inplace=True)"
   ]
  },
  {
   "cell_type": "code",
   "execution_count": 62,
   "metadata": {},
   "outputs": [],
   "source": [
    "data_raw.rename(columns={'Have you ever discussed your mental health with coworkers?':'hablar_companeros_EM','Have you ever had a coworker discuss their or another coworker\\'s mental health with you?':'hablar_companeros_EM_conmigo','Anxiety Disorder (Generalized, Social, Phobia, etc).1':'trastorno_ansiedad','Mood Disorder (Depression, Bipolar Disorder, etc).1':'trastorno_humor','Psychotic Disorder (Schizophrenia, Schizoaffective, etc).1':'trastorno_psicotico','Eating Disorder (Anorexia, Bulimia, etc).1':'trastorno_alimentacion','Attention Deficit Hyperactivity Disorder.1':'deficit_atencion','Personality Disorder (Borderline, Antisocial, Paranoid, etc).1':'trastorno_personalidad','Obsessive-Compulsive Disorder.1':'trastorno_obsesivo_compulsivo','Post-traumatic Stress Disorder.1':'trastorno_post_traumatico','Stress Response Syndromes.1':'sindrome_estres','Dissociative Disorder.1':'trastorno_disasocion','Substance Use Disorder.1':'trastorno_uso_sustancias','Addictive Disorder.1':'trastorno_adictivo','Have you ever sought treatment for a mental health disorder from a mental health professional?':'tratamiento_EM','Do you have a family history of mental illness?':'EM_familiar','If you have a mental health disorder, how often do you feel that it interferes with your work <strong>when being treated effectively?</strong>':'EM_interfiere_trabajo_buen_tratamiento','If you have a mental health disorder, how often do you feel that it interferes with your work <strong>when <em>NOT</em> being treated effectively (i.e., when you are experiencing symptoms)?</strong>':'EM_interfiere_trabajo_mal_tratamiento','Have your observations of how another individual who discussed a mental health issue made you less likely to reveal a mental health issue yourself in your current workplace?':'miedo_hablar_EM','How willing would you be to share with friends and family that you have a mental illness?':'hablar_amigos_familia_EM','Would you bring up your mental health with a potential employer in an interview?':'entrevista_trabajo_hablar_EM','Are you openly identified at work as a person with a mental health issue?':'identificado_EM_trabajo','Would you be willing to bring up a physical health issue with a potential employer in an interview?':'entrevista_trabajo_hablar_EF','How has it affected your career?':'EM_afectado_carrera'}, inplace=True)"
   ]
  },
  {
   "cell_type": "code",
   "execution_count": 63,
   "metadata": {},
   "outputs": [],
   "source": [
    "data_raw.rename(columns={'Did you ever have a previous coworker discuss their or another coworker\\'s mental health with you?\t':'empresa_anterior_hablar_companeros_conmigo','Describe the conversation your coworker had with you about their mental health (please do not use names)..1':'empresa_anterior_describir_conversacion_companeros_conmigo','Overall, how much importance did your previous employer place on physical health?':'empresa_anterior_importancia_salud_fisica','Overall, how much importance did your previous employer place on mental health?':'empresa_anterior_importancia_salud_mental','Do you currently have a mental health disorder?':'tiene_EM','Have you ever been diagnosed with a mental health disorder?':'diagnostico_EM','Anxiety Disorder (Generalized, Social, Phobia, etc)':'trastorno_ansiedad','Mood Disorder (Depression, Bipolar Disorder, etc)':'trastorno_humor','Psychotic Disorder (Schizophrenia, Schizoaffective, etc)':'trastorno_psicotico','Did you ever have a previous coworker discuss their or another coworker\\'s mental health with you?':'empresa_anterior_hablar_companeros_conmigo','Eating Disorder (Anorexia, Bulimia, etc)':'trastorno_alimentacion','Attention Deficit Hyperactivity Disorder':'deficit_atencion','Personality Disorder (Borderline, Antisocial, Paranoid, etc)':'trastorno_personalidad','Obsessive-Compulsive Disorder':'trastorno_obsesivo_compulsivo','Post-traumatic Stress Disorder':'trastorno_post_traumatico','Stress Response Syndromes':'sindrome_estres','Dissociative Disorder':'trastorno_disasocion','Substance Use Disorder':'trastorno_uso_sustancias','Addictive Disorder':'trastorno_adictivo','Other':'Otro','Has being identified as a person with a mental health issue affected your career?':'EM_afecta_carrera','If they knew you suffered from a mental health disorder, how do you think that team members/co-workers would react?':'reaccion_empresa_EM',data_raw.columns[78]:'reaccion_companeros_EM',data_raw.columns[86]:'dispuesto_contar_experiencia','What US state or territory do you <strong>live</strong> in?':'estado_US_vivienda','What is your race?':'grupo_etnico','What country do you <strong>work</strong> in?':'pais_trabajo','What US state or territory do you <strong>work</strong> in?':'estado_US_trabajo','Would you have felt more comfortable talking to your previous employer about your physical health or your mental health?':'empresa_anterior_hablar_salud_mentalYFisica','Would you have been willing to discuss your mental health with your direct supervisor(s)?':'empresa_anterior_hablar_jefe_EM','Did you ever discuss your mental health with your previous employer?':'empresa_anterior_hablar_jefe_EM_flag','Describe the conversation you had with your previous employer about your mental health, including their reactions and actions taken to address your mental health issue/questions.':'empresa_anterior_describir_conversacion_jefe','<strong>Would you have been willing to discuss your mental health with your coworkers at previous employers?</strong>':'empresa_anterior_dispuesto_hablar_companeros_EM','Did you ever discuss your mental health with a previous coworker(s)?':'empresa_anterior_hablar_companeros_EM','Describe the conversation you had with your previous coworkers about your mental health including their reactions.':'empresa_anterior_describir_conversacion_companeros','Overall, how much importance does your employer place on mental health?':'importancia_salud_mental','<strong>Do you have previous employers?</strong>':'trabajado_otras_empresa','Was your employer primarily a tech company/organization?':'empresa_anterior_tecnologia','<strong>Have your previous employers provided mental health benefits?</strong>':'empresa_anterior_cargo_tecnologia','<strong>Were you aware of the options for mental health care provided by your previous employers?</strong>':'empresa_anterior_cubrimiento_EM','Did your previous employers ever formally discuss mental health (as part of a wellness campaign or other official communication)?':'empresa_anterior_charla_EM','Did your previous employers provide resources to learn more about mental health disorders and how to seek help?':'empresa_anterior_recursos_EM','Was your anonymity protected if you chose to take advantage of mental health or substance abuse treatment resources with previous employers?':'empresa_anterior_anonimato','What is your gender?':'genero','What is your age?':'edad','What country do you <strong>live</strong> in?':'pais_vivienda','<strong>Have you observed or experienced an unsupportive or badly handled response to a mental health issue in your current or previous workplace?</strong>':'no_apoyo_EM','Describe the circumstances of the badly handled or unsupportive response.':'describir_no_apoyo_EM','<strong>Have you observed or experienced supportive or well handled response to a mental health issue in your current or previous workplace?</strong>':'apoyo_EM','Describe the circumstances of the supportive or well handled response.':'describir_apoyo_EM','Overall, how well do you think the tech industry supports employees with mental health issues?':'apoyo_industria_tecnologia_EM','Briefly describe what you think the industry as a whole and/or employers could do to improve mental health support for employees.':'describir_apoyo_industria_tecnologia_EM','If there is anything else you would like to tell us that has not been covered by the survey questions, please use this space to do so.':'otros_comentarios'}, inplace=True)"
   ]
  },
  {
   "cell_type": "code",
   "execution_count": 64,
   "metadata": {},
   "outputs": [
    {
     "output_type": "execute_result",
     "data": {
      "text/plain": [
       "                                  #  independiente/emprendedor No_empleados  \\\n",
       "0  e49fe87572831232dcfa51b376b22039                          0      100-500   \n",
       "1  a1eede444ac024928d247a8372d54931                          0      100-500   \n",
       "\n",
       "   compania_tecnologia  cargo_tecnologia cubrimiento_EM  \\\n",
       "0                  1.0               1.0             No   \n",
       "1                  1.0               1.0            Yes   \n",
       "\n",
       "  concimiento_cubrimiento_EM charla_EM   recursos_EM  anonimato_EM  \\\n",
       "0                        Yes        No  I don't know  I don't know   \n",
       "1                        Yes        No            No  I don't know   \n",
       "\n",
       "  dejar_trabajo_EM      hablar_salud_mentalYFisica hablar_jefe_EM  \\\n",
       "0     I don't know  Same level of comfort for each            Yes   \n",
       "1     I don't know  Same level of comfort for each          Maybe   \n",
       "\n",
       "   habla_jefe_EM_flag describir_conversacion_jefe hablar_EM_companeros_flag  \\\n",
       "0                 0.0                         NaN                       Yes   \n",
       "1                 0.0                         NaN                       Yes   \n",
       "\n",
       "   hablar_companeros_EM                  describir_conversacion_companeros  \\\n",
       "0                   1.0   Spoke about my anxiety they were very supportive   \n",
       "1                   1.0  the coworker was comprehensive, empathetic and...   \n",
       "\n",
       "   hablar_companeros_EM_conmigo  \\\n",
       "0                           1.0   \n",
       "1                           1.0   \n",
       "\n",
       "           describir_conversacion_companeros_conmigo  importacia_salud_fisica  \\\n",
       "0  they spoke about their depression, i offered m...                      6.0   \n",
       "1  a discussion about symptoms of depression, and...                      7.0   \n",
       "\n",
       "   importancia_salud_mental  trabajado_otras_empresa  \\\n",
       "0                       0.0                        1   \n",
       "1                       2.0                        1   \n",
       "\n",
       "   empresa_anterior_tecnologia empresa_anterior_cargo_tecnologia  \\\n",
       "0                          0.0                      I don't know   \n",
       "1                          1.0                          Some did   \n",
       "\n",
       "  empresa_anterior_cubrimiento_EM empresa_anterior_charla_EM  \\\n",
       "0             N/A (was not aware)                   Some did   \n",
       "1             I was aware of some                   None did   \n",
       "\n",
       "  empresa_anterior_recursos_EM empresa_anterior_anonimato  \\\n",
       "0                     Some did                Yes, always   \n",
       "1                     None did               I don't know   \n",
       "\n",
       "  empresa_anterior_hablar_salud_mentalYFisica  \\\n",
       "0                             Physical health   \n",
       "1                             Physical health   \n",
       "\n",
       "       empresa_anterior_hablar_jefe_EM  empresa_anterior_hablar_jefe_EM_flag  \\\n",
       "0  Yes, all of my previous supervisors                                   0.0   \n",
       "1  No, none of my previous supervisors                                   0.0   \n",
       "\n",
       "  empresa_anterior_describir_conversacion_jefe  \\\n",
       "0                                          NaN   \n",
       "1                                          NaN   \n",
       "\n",
       "  empresa_anterior_dispuesto_hablar_companeros_EM  \\\n",
       "0            No, at none of my previous employers   \n",
       "1                At some of my previous employers   \n",
       "\n",
       "   empresa_anterior_hablar_companeros_EM  \\\n",
       "0                                    0.0   \n",
       "1                                    1.0   \n",
       "\n",
       "  empresa_anterior_describir_conversacion_companeros  \\\n",
       "0                                                NaN   \n",
       "1                       understanding and supportive   \n",
       "\n",
       "   empresa_anterior_hablar_companeros_conmigo  \\\n",
       "0                                         0.0   \n",
       "1                                         0.0   \n",
       "\n",
       "  empresa_anterior_describir_conversacion_companeros_conmigo  \\\n",
       "0                                                NaN           \n",
       "1                                                NaN           \n",
       "\n",
       "   empresa_anterior_importancia_salud_fisica  \\\n",
       "0                                        3.0   \n",
       "1                                        5.0   \n",
       "\n",
       "   empresa_anterior_importancia_salud_mental  tiene_EM diagnostico_EM  \\\n",
       "0                                        3.0  Possibly            NaN   \n",
       "1                                        2.0  Possibly            NaN   \n",
       "\n",
       "                                  trastorno_ansiedad  \\\n",
       "0  Anxiety Disorder (Generalized, Social, Phobia,...   \n",
       "1                                                NaN   \n",
       "\n",
       "                                     trastorno_humor trastorno_psicotico  \\\n",
       "0                                                NaN                 NaN   \n",
       "1  Mood Disorder (Depression, Bipolar Disorder, etc)                 NaN   \n",
       "\n",
       "  trastorno_alimentacion deficit_atencion trastorno_personalidad  \\\n",
       "0                    NaN              NaN                    NaN   \n",
       "1                    NaN              NaN                    NaN   \n",
       "\n",
       "  trastorno_obsesivo_compulsivo trastorno_post_traumatico sindrome_estres  \\\n",
       "0                           NaN                       NaN             NaN   \n",
       "1                           NaN                       NaN             NaN   \n",
       "\n",
       "  trastorno_disasocion trastorno_uso_sustancias trastorno_adictivo  \\\n",
       "0                  NaN                      NaN                NaN   \n",
       "1                  NaN                      NaN                NaN   \n",
       "\n",
       "  trastorno_ansiedad trastorno_humor trastorno_psicotico  \\\n",
       "0                NaN             NaN                 NaN   \n",
       "1                NaN             NaN                 NaN   \n",
       "\n",
       "  trastorno_alimentacion deficit_atencion trastorno_personalidad  \\\n",
       "0                    NaN              NaN                    NaN   \n",
       "1                    NaN              NaN                    NaN   \n",
       "\n",
       "  trastorno_obsesivo_compulsivo trastorno_post_traumatico sindrome_estres  \\\n",
       "0                           NaN                       NaN             NaN   \n",
       "1                           NaN                       NaN             NaN   \n",
       "\n",
       "  trastorno_disasocion trastorno_uso_sustancias trastorno_adictivo Otro  \\\n",
       "0                  NaN                      NaN                NaN  NaN   \n",
       "1                  NaN                      NaN                NaN  NaN   \n",
       "\n",
       "   tratamiento_EM EM_familiar EM_interfiere_trabajo_buen_tratamiento  \\\n",
       "0               1          No                              Sometimes   \n",
       "1               0          No                   Not applicable to me   \n",
       "\n",
       "  EM_interfiere_trabajo_mal_tratamiento miedo_hablar_EM  \\\n",
       "0                             Sometimes              No   \n",
       "1                             Sometimes              No   \n",
       "\n",
       "   hablar_amigos_familia_EM entrevista_trabajo_hablar_EF  \\\n",
       "0                         5                          Yes   \n",
       "1                         4                          Yes   \n",
       "\n",
       "  entrevista_trabajo_hablar_EM  identificado_EM_trabajo  EM_afecta_carrera  \\\n",
       "0                           No                      0.0                NaN   \n",
       "1                           No                      0.0                NaN   \n",
       "\n",
       "   EM_afectado_carrera  reaccion_companeros_EM         no_apoyo_EM  \\\n",
       "0                  NaN                    10.0  Yes, I experienced   \n",
       "1                  NaN                     6.0     Yes, I observed   \n",
       "\n",
       "                               describir_no_apoyo_EM            apoyo_EM  \\\n",
       "0                                                NaN  Yes, I experienced   \n",
       "1  During a discussion about \"mental health first...      Maybe/Not sure   \n",
       "\n",
       "   describir_apoyo_EM  apoyo_industria_tecnologia_EM  \\\n",
       "0                 NaN                            1.0   \n",
       "1                 NaN                            2.0   \n",
       "\n",
       "             describir_apoyo_industria_tecnologia_EM otros_comentarios  \\\n",
       "0                       They don't take it seriously               NaN   \n",
       "1  raise awareness, talk about it to lessen the s...               NaN   \n",
       "\n",
       "   dispuesto_contar_experiencia  edad  genero   pais_vivienda  \\\n",
       "0                           0.0  27.0  Female  United Kingdom   \n",
       "1                           0.0  31.0    male  United Kingdom   \n",
       "\n",
       "  estado_US_vivienda grupo_etnico Other.1    pais_trabajo estado_US_trabajo  \\\n",
       "0                NaN          NaN     NaN  United Kingdom               NaN   \n",
       "1                NaN          NaN     NaN  United Kingdom               NaN   \n",
       "\n",
       "      Start Date (UTC)    Submit Date (UTC)  Network ID  \n",
       "0  2018-05-16 12:32:04  2018-05-16 12:42:40  464b7a12f1  \n",
       "1  2018-05-16 12:31:13  2018-05-16 12:40:40  464b7a12f1  "
      ],
      "text/html": "<div>\n<style scoped>\n    .dataframe tbody tr th:only-of-type {\n        vertical-align: middle;\n    }\n\n    .dataframe tbody tr th {\n        vertical-align: top;\n    }\n\n    .dataframe thead th {\n        text-align: right;\n    }\n</style>\n<table border=\"1\" class=\"dataframe\">\n  <thead>\n    <tr style=\"text-align: right;\">\n      <th></th>\n      <th>#</th>\n      <th>independiente/emprendedor</th>\n      <th>No_empleados</th>\n      <th>compania_tecnologia</th>\n      <th>cargo_tecnologia</th>\n      <th>cubrimiento_EM</th>\n      <th>concimiento_cubrimiento_EM</th>\n      <th>charla_EM</th>\n      <th>recursos_EM</th>\n      <th>anonimato_EM</th>\n      <th>dejar_trabajo_EM</th>\n      <th>hablar_salud_mentalYFisica</th>\n      <th>hablar_jefe_EM</th>\n      <th>habla_jefe_EM_flag</th>\n      <th>describir_conversacion_jefe</th>\n      <th>hablar_EM_companeros_flag</th>\n      <th>hablar_companeros_EM</th>\n      <th>describir_conversacion_companeros</th>\n      <th>hablar_companeros_EM_conmigo</th>\n      <th>describir_conversacion_companeros_conmigo</th>\n      <th>importacia_salud_fisica</th>\n      <th>importancia_salud_mental</th>\n      <th>trabajado_otras_empresa</th>\n      <th>empresa_anterior_tecnologia</th>\n      <th>empresa_anterior_cargo_tecnologia</th>\n      <th>empresa_anterior_cubrimiento_EM</th>\n      <th>empresa_anterior_charla_EM</th>\n      <th>empresa_anterior_recursos_EM</th>\n      <th>empresa_anterior_anonimato</th>\n      <th>empresa_anterior_hablar_salud_mentalYFisica</th>\n      <th>empresa_anterior_hablar_jefe_EM</th>\n      <th>empresa_anterior_hablar_jefe_EM_flag</th>\n      <th>empresa_anterior_describir_conversacion_jefe</th>\n      <th>empresa_anterior_dispuesto_hablar_companeros_EM</th>\n      <th>empresa_anterior_hablar_companeros_EM</th>\n      <th>empresa_anterior_describir_conversacion_companeros</th>\n      <th>empresa_anterior_hablar_companeros_conmigo</th>\n      <th>empresa_anterior_describir_conversacion_companeros_conmigo</th>\n      <th>empresa_anterior_importancia_salud_fisica</th>\n      <th>empresa_anterior_importancia_salud_mental</th>\n      <th>tiene_EM</th>\n      <th>diagnostico_EM</th>\n      <th>trastorno_ansiedad</th>\n      <th>trastorno_humor</th>\n      <th>trastorno_psicotico</th>\n      <th>trastorno_alimentacion</th>\n      <th>deficit_atencion</th>\n      <th>trastorno_personalidad</th>\n      <th>trastorno_obsesivo_compulsivo</th>\n      <th>trastorno_post_traumatico</th>\n      <th>sindrome_estres</th>\n      <th>trastorno_disasocion</th>\n      <th>trastorno_uso_sustancias</th>\n      <th>trastorno_adictivo</th>\n      <th>trastorno_ansiedad</th>\n      <th>trastorno_humor</th>\n      <th>trastorno_psicotico</th>\n      <th>trastorno_alimentacion</th>\n      <th>deficit_atencion</th>\n      <th>trastorno_personalidad</th>\n      <th>trastorno_obsesivo_compulsivo</th>\n      <th>trastorno_post_traumatico</th>\n      <th>sindrome_estres</th>\n      <th>trastorno_disasocion</th>\n      <th>trastorno_uso_sustancias</th>\n      <th>trastorno_adictivo</th>\n      <th>Otro</th>\n      <th>tratamiento_EM</th>\n      <th>EM_familiar</th>\n      <th>EM_interfiere_trabajo_buen_tratamiento</th>\n      <th>EM_interfiere_trabajo_mal_tratamiento</th>\n      <th>miedo_hablar_EM</th>\n      <th>hablar_amigos_familia_EM</th>\n      <th>entrevista_trabajo_hablar_EF</th>\n      <th>entrevista_trabajo_hablar_EM</th>\n      <th>identificado_EM_trabajo</th>\n      <th>EM_afecta_carrera</th>\n      <th>EM_afectado_carrera</th>\n      <th>reaccion_companeros_EM</th>\n      <th>no_apoyo_EM</th>\n      <th>describir_no_apoyo_EM</th>\n      <th>apoyo_EM</th>\n      <th>describir_apoyo_EM</th>\n      <th>apoyo_industria_tecnologia_EM</th>\n      <th>describir_apoyo_industria_tecnologia_EM</th>\n      <th>otros_comentarios</th>\n      <th>dispuesto_contar_experiencia</th>\n      <th>edad</th>\n      <th>genero</th>\n      <th>pais_vivienda</th>\n      <th>estado_US_vivienda</th>\n      <th>grupo_etnico</th>\n      <th>Other.1</th>\n      <th>pais_trabajo</th>\n      <th>estado_US_trabajo</th>\n      <th>Start Date (UTC)</th>\n      <th>Submit Date (UTC)</th>\n      <th>Network ID</th>\n    </tr>\n  </thead>\n  <tbody>\n    <tr>\n      <th>0</th>\n      <td>e49fe87572831232dcfa51b376b22039</td>\n      <td>0</td>\n      <td>100-500</td>\n      <td>1.0</td>\n      <td>1.0</td>\n      <td>No</td>\n      <td>Yes</td>\n      <td>No</td>\n      <td>I don't know</td>\n      <td>I don't know</td>\n      <td>I don't know</td>\n      <td>Same level of comfort for each</td>\n      <td>Yes</td>\n      <td>0.0</td>\n      <td>NaN</td>\n      <td>Yes</td>\n      <td>1.0</td>\n      <td>Spoke about my anxiety they were very supportive</td>\n      <td>1.0</td>\n      <td>they spoke about their depression, i offered m...</td>\n      <td>6.0</td>\n      <td>0.0</td>\n      <td>1</td>\n      <td>0.0</td>\n      <td>I don't know</td>\n      <td>N/A (was not aware)</td>\n      <td>Some did</td>\n      <td>Some did</td>\n      <td>Yes, always</td>\n      <td>Physical health</td>\n      <td>Yes, all of my previous supervisors</td>\n      <td>0.0</td>\n      <td>NaN</td>\n      <td>No, at none of my previous employers</td>\n      <td>0.0</td>\n      <td>NaN</td>\n      <td>0.0</td>\n      <td>NaN</td>\n      <td>3.0</td>\n      <td>3.0</td>\n      <td>Possibly</td>\n      <td>NaN</td>\n      <td>Anxiety Disorder (Generalized, Social, Phobia,...</td>\n      <td>NaN</td>\n      <td>NaN</td>\n      <td>NaN</td>\n      <td>NaN</td>\n      <td>NaN</td>\n      <td>NaN</td>\n      <td>NaN</td>\n      <td>NaN</td>\n      <td>NaN</td>\n      <td>NaN</td>\n      <td>NaN</td>\n      <td>NaN</td>\n      <td>NaN</td>\n      <td>NaN</td>\n      <td>NaN</td>\n      <td>NaN</td>\n      <td>NaN</td>\n      <td>NaN</td>\n      <td>NaN</td>\n      <td>NaN</td>\n      <td>NaN</td>\n      <td>NaN</td>\n      <td>NaN</td>\n      <td>NaN</td>\n      <td>1</td>\n      <td>No</td>\n      <td>Sometimes</td>\n      <td>Sometimes</td>\n      <td>No</td>\n      <td>5</td>\n      <td>Yes</td>\n      <td>No</td>\n      <td>0.0</td>\n      <td>NaN</td>\n      <td>NaN</td>\n      <td>10.0</td>\n      <td>Yes, I experienced</td>\n      <td>NaN</td>\n      <td>Yes, I experienced</td>\n      <td>NaN</td>\n      <td>1.0</td>\n      <td>They don't take it seriously</td>\n      <td>NaN</td>\n      <td>0.0</td>\n      <td>27.0</td>\n      <td>Female</td>\n      <td>United Kingdom</td>\n      <td>NaN</td>\n      <td>NaN</td>\n      <td>NaN</td>\n      <td>United Kingdom</td>\n      <td>NaN</td>\n      <td>2018-05-16 12:32:04</td>\n      <td>2018-05-16 12:42:40</td>\n      <td>464b7a12f1</td>\n    </tr>\n    <tr>\n      <th>1</th>\n      <td>a1eede444ac024928d247a8372d54931</td>\n      <td>0</td>\n      <td>100-500</td>\n      <td>1.0</td>\n      <td>1.0</td>\n      <td>Yes</td>\n      <td>Yes</td>\n      <td>No</td>\n      <td>No</td>\n      <td>I don't know</td>\n      <td>I don't know</td>\n      <td>Same level of comfort for each</td>\n      <td>Maybe</td>\n      <td>0.0</td>\n      <td>NaN</td>\n      <td>Yes</td>\n      <td>1.0</td>\n      <td>the coworker was comprehensive, empathetic and...</td>\n      <td>1.0</td>\n      <td>a discussion about symptoms of depression, and...</td>\n      <td>7.0</td>\n      <td>2.0</td>\n      <td>1</td>\n      <td>1.0</td>\n      <td>Some did</td>\n      <td>I was aware of some</td>\n      <td>None did</td>\n      <td>None did</td>\n      <td>I don't know</td>\n      <td>Physical health</td>\n      <td>No, none of my previous supervisors</td>\n      <td>0.0</td>\n      <td>NaN</td>\n      <td>At some of my previous employers</td>\n      <td>1.0</td>\n      <td>understanding and supportive</td>\n      <td>0.0</td>\n      <td>NaN</td>\n      <td>5.0</td>\n      <td>2.0</td>\n      <td>Possibly</td>\n      <td>NaN</td>\n      <td>NaN</td>\n      <td>Mood Disorder (Depression, Bipolar Disorder, etc)</td>\n      <td>NaN</td>\n      <td>NaN</td>\n      <td>NaN</td>\n      <td>NaN</td>\n      <td>NaN</td>\n      <td>NaN</td>\n      <td>NaN</td>\n      <td>NaN</td>\n      <td>NaN</td>\n      <td>NaN</td>\n      <td>NaN</td>\n      <td>NaN</td>\n      <td>NaN</td>\n      <td>NaN</td>\n      <td>NaN</td>\n      <td>NaN</td>\n      <td>NaN</td>\n      <td>NaN</td>\n      <td>NaN</td>\n      <td>NaN</td>\n      <td>NaN</td>\n      <td>NaN</td>\n      <td>NaN</td>\n      <td>0</td>\n      <td>No</td>\n      <td>Not applicable to me</td>\n      <td>Sometimes</td>\n      <td>No</td>\n      <td>4</td>\n      <td>Yes</td>\n      <td>No</td>\n      <td>0.0</td>\n      <td>NaN</td>\n      <td>NaN</td>\n      <td>6.0</td>\n      <td>Yes, I observed</td>\n      <td>During a discussion about \"mental health first...</td>\n      <td>Maybe/Not sure</td>\n      <td>NaN</td>\n      <td>2.0</td>\n      <td>raise awareness, talk about it to lessen the s...</td>\n      <td>NaN</td>\n      <td>0.0</td>\n      <td>31.0</td>\n      <td>male</td>\n      <td>United Kingdom</td>\n      <td>NaN</td>\n      <td>NaN</td>\n      <td>NaN</td>\n      <td>United Kingdom</td>\n      <td>NaN</td>\n      <td>2018-05-16 12:31:13</td>\n      <td>2018-05-16 12:40:40</td>\n      <td>464b7a12f1</td>\n    </tr>\n  </tbody>\n</table>\n</div>"
     },
     "metadata": {},
     "execution_count": 64
    }
   ],
   "source": [
    "pd.set_option('display.max_columns', None)\n",
    "data_raw.head(2)"
   ]
  },
  {
   "cell_type": "code",
   "execution_count": 65,
   "metadata": {},
   "outputs": [],
   "source": [
    "data_raw.to_csv(r'../data/raw/enfermedadesMentales2017-2018-clean-columns.csv', index = False)"
   ]
  }
 ]
}