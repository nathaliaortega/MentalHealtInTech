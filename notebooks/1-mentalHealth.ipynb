{
 "metadata": {
  "language_info": {
   "codemirror_mode": {
    "name": "ipython",
    "version": 3
   },
   "file_extension": ".py",
   "mimetype": "text/x-python",
   "name": "python",
   "nbconvert_exporter": "python",
   "pygments_lexer": "ipython3",
   "version": "3.8.3-final"
  },
  "orig_nbformat": 2,
  "kernelspec": {
   "name": "Python 3.8.3 64-bit",
   "display_name": "Python 3.8.3 64-bit",
   "metadata": {
    "interpreter": {
     "hash": "bc744bf36f45ff7bd3b0ebafda52b31b6c48c96286efbf90fe3cb91ccc1b4516"
    }
   }
  }
 },
 "nbformat": 4,
 "nbformat_minor": 2,
 "cells": [
  {
   "source": [
    "# Enfermedades mentales en tecnología\n",
    "## Facultad TIC Universidad Pontificia Bolivariana <a class=\"tocSkip\">\n",
    "\n",
    "**Estudiante:** Nathalia Andrea Ortega Gómez\n",
    "\n",
    "**ID:** 000200550\n",
    "\n",
    "**Email:** nathalia.ortega@upb.edu.co\n",
    "\n",
    "**Fecha de Entrega: 22 de Octubre de 2020**"
   ],
   "cell_type": "markdown",
   "metadata": {}
  },
  {
   "source": [
    "## Introducción\n",
    "\n",
    "Cada año, [OSMI](https://osmihelp.org/) realiza una encuesta a gran escala sobre la prevalencia y las actitudes hacia la salud mentall de las personas que trabajan en la industria tecnológica.\n",
    "\n",
    "Las posibles salidas para la predicción son:\n",
    "- Yes (tiene actualmente una enfermedad mental)\n",
    "- No (No tiene una enfermedad mental)\n",
    "- Don't Know (No sabe si tiene una enfermedad mental)\n",
    "\n",
    "## Objetivo principal\n",
    "** Predecir qué empleados tienen más probabilidad de padecer una enfermedad mental. **\n",
    "\n",
    "## Información de los datos\n",
    "El dataset original contiene muchos datos faltantes, redundantes y ruidosos como es de esperarse en los datos del mundo real.\n",
    "\n",
    "El dataset original, contenía como encabezados las preguntas de la encuesta, las cuales fueron transformadas a nombres más pequeños y discientes. A pesar de que, existen columnas con su mayoría de registros vacíos."
   ],
   "cell_type": "markdown",
   "metadata": {}
  },
  {
   "source": [
    "# Importar librerías"
   ],
   "cell_type": "markdown",
   "metadata": {}
  },
  {
   "cell_type": "code",
   "execution_count": 1,
   "metadata": {},
   "outputs": [
    {
     "output_type": "stream",
     "name": "stdout",
     "text": [
      "Requirement already satisfied: pandas in c:\\users\\natya\\appdata\\local\\programs\\python\\python38\\lib\\site-packages (1.1.2)Note: you may need to restart the kernel to use updated packages.\n",
      "WARNING: You are using pip version 20.1.1; however, version 20.2.3 is available.\n",
      "You should consider upgrading via the 'C:\\Users\\natya\\AppData\\Local\\Programs\\Python\\Python38\\python.exe -m pip install --upgrade pip' command.\n",
      "\n",
      "Requirement already satisfied: numpy>=1.15.4 in c:\\users\\natya\\appdata\\local\\programs\\python\\python38\\lib\\site-packages (from pandas) (1.19.2)\n",
      "Requirement already satisfied: python-dateutil>=2.7.3 in c:\\users\\natya\\appdata\\local\\programs\\python\\python38\\lib\\site-packages (from pandas) (2.8.1)\n",
      "Requirement already satisfied: pytz>=2017.2 in c:\\users\\natya\\appdata\\local\\programs\\python\\python38\\lib\\site-packages (from pandas) (2020.1)\n",
      "Requirement already satisfied: six>=1.5 in c:\\users\\natya\\appdata\\roaming\\python\\python38\\site-packages (from python-dateutil>=2.7.3->pandas) (1.15.0)\n"
     ]
    }
   ],
   "source": [
    "pip install pandas"
   ]
  },
  {
   "cell_type": "code",
   "execution_count": 2,
   "metadata": {},
   "outputs": [
    {
     "output_type": "stream",
     "name": "stdout",
     "text": [
      "Note: you may need to restart the kernel to use updated packages.\n",
      "WARNING: You are using pip version 20.1.1; however, version 20.2.3 is available.\n",
      "You should consider upgrading via the 'C:\\Users\\natya\\AppData\\Local\\Programs\\Python\\Python38\\python.exe -m pip install --upgrade pip' command.\n",
      "Requirement already satisfied: numpy in c:\\users\\natya\\appdata\\local\\programs\\python\\python38\\lib\\site-packages (1.19.2)\n"
     ]
    }
   ],
   "source": [
    "pip install numpy"
   ]
  },
  {
   "cell_type": "code",
   "execution_count": 3,
   "metadata": {},
   "outputs": [
    {
     "output_type": "stream",
     "name": "stdout",
     "text": [
      "Requirement already satisfied: matplotlib in c:\\users\\natya\\appdata\\local\\programs\\python\\python38\\lib\\site-packages (3.3.2)\n",
      "Requirement already satisfied: pyparsing!=2.0.4,!=2.1.2,!=2.1.6,>=2.0.3 in c:\\users\\natya\\appdata\\local\\programs\\python\\python38\\lib\\site-packages (from matplotlib) (2.4.7)\n",
      "Requirement already satisfied: pillow>=6.2.0 in c:\\users\\natya\\appdata\\local\\programs\\python\\python38\\lib\\site-packages (from matplotlib) (8.0.0)\n",
      "Requirement already satisfied: certifi>=2020.06.20 in c:\\users\\natya\\appdata\\local\\programs\\python\\python38\\lib\\site-packages (from matplotlib) (2020.6.20)\n",
      "Requirement already satisfied: cycler>=0.10 in c:\\users\\natya\\appdata\\local\\programs\\python\\python38\\lib\\site-packages (from matplotlib) (0.10.0)Note: you may need to restart the kernel to use updated packages.\n",
      "WARNING: You are using pip version 20.1.1; however, version 20.2.3 is available.\n",
      "You should consider upgrading via the 'C:\\Users\\natya\\AppData\\Local\\Programs\\Python\\Python38\\python.exe -m pip install --upgrade pip' command.\n",
      "\n",
      "Requirement already satisfied: numpy>=1.15 in c:\\users\\natya\\appdata\\local\\programs\\python\\python38\\lib\\site-packages (from matplotlib) (1.19.2)\n",
      "Requirement already satisfied: kiwisolver>=1.0.1 in c:\\users\\natya\\appdata\\local\\programs\\python\\python38\\lib\\site-packages (from matplotlib) (1.2.0)\n",
      "Requirement already satisfied: python-dateutil>=2.1 in c:\\users\\natya\\appdata\\local\\programs\\python\\python38\\lib\\site-packages (from matplotlib) (2.8.1)\n",
      "Requirement already satisfied: six in c:\\users\\natya\\appdata\\roaming\\python\\python38\\site-packages (from cycler>=0.10->matplotlib) (1.15.0)\n"
     ]
    }
   ],
   "source": [
    "pip install matplotlib"
   ]
  },
  {
   "cell_type": "code",
   "execution_count": 4,
   "metadata": {},
   "outputs": [
    {
     "output_type": "stream",
     "name": "stdout",
     "text": [
      "Requirement already satisfied: seaborn in c:\\users\\natya\\appdata\\local\\programs\\python\\python38\\lib\\site-packages (0.11.0)\n",
      "Requirement already satisfied: numpy>=1.15 in c:\\users\\natya\\appdata\\local\\programs\\python\\python38\\lib\\site-packages (from seaborn) (1.19.2)\n",
      "Requirement already satisfied: scipy>=1.0 in c:\\users\\natya\\appdata\\local\\programs\\python\\python38\\lib\\site-packages (from seaborn) (1.5.2)\n",
      "Requirement already satisfied: pandas>=0.23 in c:\\users\\natya\\appdata\\local\\programs\\python\\python38\\lib\\site-packages (from seaborn) (1.1.2)\n",
      "Requirement already satisfied: matplotlib>=2.2 in c:\\users\\natya\\appdata\\local\\programs\\python\\python38\\lib\\site-packages (from seaborn) (3.3.2)\n",
      "Requirement already satisfied: python-dateutil>=2.7.3 in c:\\users\\natya\\appdata\\local\\programs\\python\\python38\\lib\\site-packages (from pandas>=0.23->seaborn) (2.8.1)\n",
      "Requirement already satisfied: pytz>=2017.2 in c:\\users\\natya\\appdata\\local\\programs\\python\\python38\\lib\\site-packages (from pandas>=0.23->seaborn) (2020.1)\n",
      "Requirement already satisfied: pyparsing!=2.0.4,!=2.1.2,!=2.1.6,>=2.0.3 in c:\\users\\natya\\appdata\\local\\programs\\python\\python38\\lib\\site-packages (from matplotlib>=2.2->seaborn) (2.4.7)\n",
      "Requirement already satisfied: kiwisolver>=1.0.1 in c:\\users\\natya\\appdata\\local\\programs\\python\\python38\\lib\\site-packages (from matplotlib>=2.2->seaborn) (1.2.0)\n",
      "Requirement already satisfied: certifi>=2020.06.20 in c:\\users\\natya\\appdata\\local\\programs\\python\\python38\\lib\\site-packages (from matplotlib>=2.2->seaborn) (2020.6.20)Note: you may need to restart the kernel to use updated packages.\n",
      "WARNING: You are using pip version 20.1.1; however, version 20.2.3 is available.\n",
      "You should consider upgrading via the 'C:\\Users\\natya\\AppData\\Local\\Programs\\Python\\Python38\\python.exe -m pip install --upgrade pip' command.\n",
      "\n",
      "Requirement already satisfied: cycler>=0.10 in c:\\users\\natya\\appdata\\local\\programs\\python\\python38\\lib\\site-packages (from matplotlib>=2.2->seaborn) (0.10.0)\n",
      "Requirement already satisfied: pillow>=6.2.0 in c:\\users\\natya\\appdata\\local\\programs\\python\\python38\\lib\\site-packages (from matplotlib>=2.2->seaborn) (8.0.0)\n",
      "Requirement already satisfied: six>=1.5 in c:\\users\\natya\\appdata\\roaming\\python\\python38\\site-packages (from python-dateutil>=2.7.3->pandas>=0.23->seaborn) (1.15.0)\n"
     ]
    }
   ],
   "source": [
    "pip install seaborn"
   ]
  },
  {
   "cell_type": "code",
   "execution_count": 5,
   "metadata": {},
   "outputs": [
    {
     "output_type": "stream",
     "name": "stdout",
     "text": [
      "Requirement already satisfied: googletrans in c:\\users\\natya\\appdata\\local\\programs\\python\\python38\\lib\\site-packages (3.0.0)\n",
      "Requirement already satisfied: httpx==0.13.3 in c:\\users\\natya\\appdata\\local\\programs\\python\\python38\\lib\\site-packages (from googletrans) (0.13.3)\n",
      "Requirement already satisfied: sniffio in c:\\users\\natya\\appdata\\local\\programs\\python\\python38\\lib\\site-packages (from httpx==0.13.3->googletrans) (1.2.0)\n",
      "Requirement already satisfied: idna==2.* in c:\\users\\natya\\appdata\\local\\programs\\python\\python38\\lib\\site-packages (from httpx==0.13.3->googletrans) (2.10)\n",
      "Requirement already satisfied: httpcore==0.9.* in c:\\users\\natya\\appdata\\local\\programs\\python\\python38\\lib\\site-packages (from httpx==0.13.3->googletrans) (0.9.1)\n",
      "Requirement already satisfied: rfc3986<2,>=1.3 in c:\\users\\natya\\appdata\\local\\programs\\python\\python38\\lib\\site-packages (from httpx==0.13.3->googletrans) (1.4.0)\n",
      "Requirement already satisfied: hstspreload in c:\\users\\natya\\appdata\\local\\programs\\python\\python38\\lib\\site-packages (from httpx==0.13.3->googletrans) (2020.10.6)\n",
      "Requirement already satisfied: certifi in c:\\users\\natya\\appdata\\local\\programs\\python\\python38\\lib\\site-packages (from httpx==0.13.3->googletrans) (2020.6.20)\n",
      "Requirement already satisfied: chardet==3.* in c:\\users\\natya\\appdata\\local\\programs\\python\\python38\\lib\\site-packages (from httpx==0.13.3->googletrans) (3.0.4)\n",
      "Requirement already satisfied: h2==3.* in c:\\users\\natya\\appdata\\local\\programs\\python\\python38\\lib\\site-packages (from httpcore==0.9.*->httpx==0.13.3->googletrans) (3.2.0)\n",
      "Requirement already satisfied: h11<0.10,>=0.8 in c:\\users\\natya\\appdata\\local\\programs\\python\\python38\\lib\\site-packages (from httpcore==0.9.*->httpx==0.13.3->googletrans) (0.9.0)\n",
      "Requirement already satisfied: hpack<4,>=3.0 in c:\\users\\natya\\appdata\\local\\programs\\python\\python38\\lib\\site-packages (from h2==3.*->httpcore==0.9.*->httpx==0.13.3->googletrans) (3.0.0)\n",
      "Requirement already satisfied: hyperframe<6,>=5.2.0 in c:\\users\\natya\\appdata\\local\\programs\\python\\python38\\lib\\site-packages (from h2==3.*->httpcore==0.9.*->httpx==0.13.3->googletrans) (5.2.0)\n",
      "Note: you may need to restart the kernel to use updated packages.\n",
      "WARNING: You are using pip version 20.1.1; however, version 20.2.3 is available.\n",
      "You should consider upgrading via the 'C:\\Users\\natya\\AppData\\Local\\Programs\\Python\\Python38\\python.exe -m pip install --upgrade pip' command.\n"
     ]
    }
   ],
   "source": [
    "pip install googletrans"
   ]
  },
  {
   "cell_type": "code",
   "execution_count": 6,
   "metadata": {},
   "outputs": [],
   "source": [
    "import pandas as pd\n",
    "import numpy as np\n",
    "import seaborn as sns\n",
    "import csv\n",
    "from googletrans import Translator\n",
    "%matplotlib inline"
   ]
  },
  {
   "source": [
    "# Cargar los datos"
   ],
   "cell_type": "markdown",
   "metadata": {}
  },
  {
   "cell_type": "code",
   "execution_count": 7,
   "metadata": {},
   "outputs": [],
   "source": [
    "data_raw = pd.read_csv(\"../data/raw/enfermedadesMentales2017-2018-clean-columns.csv\")"
   ]
  },
  {
   "cell_type": "code",
   "execution_count": 8,
   "metadata": {},
   "outputs": [],
   "source": [
    "translator = Translator()\n",
    "original_questions_translate=[]\n",
    "#tomar las preguntas originales de la encuesta\n",
    "with open(\"../data/raw/enfermedadesMentales2017-2018.csv\", 'r') as f:\n",
    "    reader = csv.DictReader(f)\n",
    "    original_questions = reader.fieldnames\n",
    "#traducir las preguntas de la encuesta\n",
    "for question in original_questions:\n",
    "    original_questions_translate.append(translator.translate(question, dest='es').text) "
   ]
  },
  {
   "source": [
    "# Descripción y limpieza de los datos"
   ],
   "cell_type": "markdown",
   "metadata": {}
  },
  {
   "cell_type": "code",
   "execution_count": 9,
   "metadata": {},
   "outputs": [
    {
     "output_type": "stream",
     "name": "stdout",
     "text": [
      "98\n"
     ]
    }
   ],
   "source": [
    "print(len(original_questions_translate))"
   ]
  },
  {
   "cell_type": "code",
   "execution_count": 10,
   "metadata": {},
   "outputs": [],
   "source": [
    "#Contar el porcentaje de registros faltantes en las diferentes columnas\n",
    "original_questions_translate[0]='identificador único de la respuesta a la encuesta'\n",
    "original_questions_translate[96]='Fecha de envío (UTC). Incluye la hora'\n",
    "original_questions_translate[95]='Fecha de inicio (UTC). Incluye la hora'\n",
    "data_missing=pd.DataFrame({'tipo':data_raw.dtypes,'descripcion':original_questions_translate, '% vacios':((data_raw.isna().sum()/1173)*100).values})"
   ]
  },
  {
   "cell_type": "code",
   "execution_count": 11,
   "metadata": {},
   "outputs": [
    {
     "output_type": "execute_result",
     "data": {
      "text/plain": [
       "<pandas.io.formats.style.Styler at 0x2500f206ee0>"
      ],
      "text/html": "<style  type=\"text/css\" >\n#T_f90c2004_122c_11eb_bb2c_d0577b90b17brow0_col2,#T_f90c2004_122c_11eb_bb2c_d0577b90b17brow1_col2,#T_f90c2004_122c_11eb_bb2c_d0577b90b17brow22_col2,#T_f90c2004_122c_11eb_bb2c_d0577b90b17brow40_col2,#T_f90c2004_122c_11eb_bb2c_d0577b90b17brow67_col2,#T_f90c2004_122c_11eb_bb2c_d0577b90b17brow68_col2,#T_f90c2004_122c_11eb_bb2c_d0577b90b17brow69_col2,#T_f90c2004_122c_11eb_bb2c_d0577b90b17brow70_col2,#T_f90c2004_122c_11eb_bb2c_d0577b90b17brow72_col2,#T_f90c2004_122c_11eb_bb2c_d0577b90b17brow73_col2,#T_f90c2004_122c_11eb_bb2c_d0577b90b17brow74_col2,#T_f90c2004_122c_11eb_bb2c_d0577b90b17brow75_col2,#T_f90c2004_122c_11eb_bb2c_d0577b90b17brow78_col2,#T_f90c2004_122c_11eb_bb2c_d0577b90b17brow79_col2,#T_f90c2004_122c_11eb_bb2c_d0577b90b17brow81_col2,#T_f90c2004_122c_11eb_bb2c_d0577b90b17brow83_col2,#T_f90c2004_122c_11eb_bb2c_d0577b90b17brow86_col2,#T_f90c2004_122c_11eb_bb2c_d0577b90b17brow87_col2,#T_f90c2004_122c_11eb_bb2c_d0577b90b17brow89_col2,#T_f90c2004_122c_11eb_bb2c_d0577b90b17brow93_col2,#T_f90c2004_122c_11eb_bb2c_d0577b90b17brow95_col2,#T_f90c2004_122c_11eb_bb2c_d0577b90b17brow96_col2,#T_f90c2004_122c_11eb_bb2c_d0577b90b17brow97_col2{\n            background-color:  #f7fbff;\n            color:  #000000;\n        }#T_f90c2004_122c_11eb_bb2c_d0577b90b17brow2_col2,#T_f90c2004_122c_11eb_bb2c_d0577b90b17brow3_col2,#T_f90c2004_122c_11eb_bb2c_d0577b90b17brow4_col2,#T_f90c2004_122c_11eb_bb2c_d0577b90b17brow5_col2,#T_f90c2004_122c_11eb_bb2c_d0577b90b17brow7_col2,#T_f90c2004_122c_11eb_bb2c_d0577b90b17brow8_col2,#T_f90c2004_122c_11eb_bb2c_d0577b90b17brow9_col2,#T_f90c2004_122c_11eb_bb2c_d0577b90b17brow10_col2,#T_f90c2004_122c_11eb_bb2c_d0577b90b17brow11_col2,#T_f90c2004_122c_11eb_bb2c_d0577b90b17brow12_col2,#T_f90c2004_122c_11eb_bb2c_d0577b90b17brow13_col2,#T_f90c2004_122c_11eb_bb2c_d0577b90b17brow15_col2,#T_f90c2004_122c_11eb_bb2c_d0577b90b17brow20_col2,#T_f90c2004_122c_11eb_bb2c_d0577b90b17brow21_col2{\n            background-color:  #dbe9f6;\n            color:  #000000;\n        }#T_f90c2004_122c_11eb_bb2c_d0577b90b17brow6_col2{\n            background-color:  #caddf0;\n            color:  #000000;\n        }#T_f90c2004_122c_11eb_bb2c_d0577b90b17brow14_col2{\n            background-color:  #1c6bb0;\n            color:  #f1f1f1;\n        }#T_f90c2004_122c_11eb_bb2c_d0577b90b17brow16_col2{\n            background-color:  #dae8f6;\n            color:  #000000;\n        }#T_f90c2004_122c_11eb_bb2c_d0577b90b17brow17_col2{\n            background-color:  #2a7ab9;\n            color:  #000000;\n        }#T_f90c2004_122c_11eb_bb2c_d0577b90b17brow18_col2{\n            background-color:  #d9e8f5;\n            color:  #000000;\n        }#T_f90c2004_122c_11eb_bb2c_d0577b90b17brow19_col2{\n            background-color:  #2f7fbc;\n            color:  #000000;\n        }#T_f90c2004_122c_11eb_bb2c_d0577b90b17brow23_col2,#T_f90c2004_122c_11eb_bb2c_d0577b90b17brow24_col2,#T_f90c2004_122c_11eb_bb2c_d0577b90b17brow25_col2,#T_f90c2004_122c_11eb_bb2c_d0577b90b17brow26_col2,#T_f90c2004_122c_11eb_bb2c_d0577b90b17brow27_col2,#T_f90c2004_122c_11eb_bb2c_d0577b90b17brow28_col2,#T_f90c2004_122c_11eb_bb2c_d0577b90b17brow29_col2,#T_f90c2004_122c_11eb_bb2c_d0577b90b17brow30_col2,#T_f90c2004_122c_11eb_bb2c_d0577b90b17brow31_col2,#T_f90c2004_122c_11eb_bb2c_d0577b90b17brow33_col2,#T_f90c2004_122c_11eb_bb2c_d0577b90b17brow34_col2,#T_f90c2004_122c_11eb_bb2c_d0577b90b17brow38_col2,#T_f90c2004_122c_11eb_bb2c_d0577b90b17brow39_col2{\n            background-color:  #dfebf7;\n            color:  #000000;\n        }#T_f90c2004_122c_11eb_bb2c_d0577b90b17brow32_col2{\n            background-color:  #0b559f;\n            color:  #f1f1f1;\n        }#T_f90c2004_122c_11eb_bb2c_d0577b90b17brow35_col2{\n            background-color:  #1561a9;\n            color:  #f1f1f1;\n        }#T_f90c2004_122c_11eb_bb2c_d0577b90b17brow36_col2{\n            background-color:  #deebf7;\n            color:  #000000;\n        }#T_f90c2004_122c_11eb_bb2c_d0577b90b17brow37_col2{\n            background-color:  #125da6;\n            color:  #f1f1f1;\n        }#T_f90c2004_122c_11eb_bb2c_d0577b90b17brow41_col2{\n            background-color:  #57a0ce;\n            color:  #000000;\n        }#T_f90c2004_122c_11eb_bb2c_d0577b90b17brow42_col2{\n            background-color:  #09529d;\n            color:  #f1f1f1;\n        }#T_f90c2004_122c_11eb_bb2c_d0577b90b17brow43_col2,#T_f90c2004_122c_11eb_bb2c_d0577b90b17brow76_col2{\n            background-color:  #084e98;\n            color:  #f1f1f1;\n        }#T_f90c2004_122c_11eb_bb2c_d0577b90b17brow44_col2,#T_f90c2004_122c_11eb_bb2c_d0577b90b17brow82_col2{\n            background-color:  #08306b;\n            color:  #f1f1f1;\n        }#T_f90c2004_122c_11eb_bb2c_d0577b90b17brow45_col2,#T_f90c2004_122c_11eb_bb2c_d0577b90b17brow51_col2,#T_f90c2004_122c_11eb_bb2c_d0577b90b17brow63_col2{\n            background-color:  #08316d;\n            color:  #f1f1f1;\n        }#T_f90c2004_122c_11eb_bb2c_d0577b90b17brow46_col2,#T_f90c2004_122c_11eb_bb2c_d0577b90b17brow77_col2{\n            background-color:  #083979;\n            color:  #f1f1f1;\n        }#T_f90c2004_122c_11eb_bb2c_d0577b90b17brow47_col2,#T_f90c2004_122c_11eb_bb2c_d0577b90b17brow66_col2{\n            background-color:  #083471;\n            color:  #f1f1f1;\n        }#T_f90c2004_122c_11eb_bb2c_d0577b90b17brow48_col2,#T_f90c2004_122c_11eb_bb2c_d0577b90b17brow49_col2,#T_f90c2004_122c_11eb_bb2c_d0577b90b17brow50_col2,#T_f90c2004_122c_11eb_bb2c_d0577b90b17brow59_col2,#T_f90c2004_122c_11eb_bb2c_d0577b90b17brow64_col2,#T_f90c2004_122c_11eb_bb2c_d0577b90b17brow92_col2{\n            background-color:  #083573;\n            color:  #f1f1f1;\n        }#T_f90c2004_122c_11eb_bb2c_d0577b90b17brow52_col2,#T_f90c2004_122c_11eb_bb2c_d0577b90b17brow53_col2,#T_f90c2004_122c_11eb_bb2c_d0577b90b17brow56_col2,#T_f90c2004_122c_11eb_bb2c_d0577b90b17brow62_col2{\n            background-color:  #08326e;\n            color:  #f1f1f1;\n        }#T_f90c2004_122c_11eb_bb2c_d0577b90b17brow54_col2{\n            background-color:  #2979b9;\n            color:  #000000;\n        }#T_f90c2004_122c_11eb_bb2c_d0577b90b17brow55_col2{\n            background-color:  #3484bf;\n            color:  #000000;\n        }#T_f90c2004_122c_11eb_bb2c_d0577b90b17brow57_col2{\n            background-color:  #083674;\n            color:  #f1f1f1;\n        }#T_f90c2004_122c_11eb_bb2c_d0577b90b17brow58_col2{\n            background-color:  #084c95;\n            color:  #f1f1f1;\n        }#T_f90c2004_122c_11eb_bb2c_d0577b90b17brow60_col2{\n            background-color:  #083877;\n            color:  #f1f1f1;\n        }#T_f90c2004_122c_11eb_bb2c_d0577b90b17brow61_col2{\n            background-color:  #084285;\n            color:  #f1f1f1;\n        }#T_f90c2004_122c_11eb_bb2c_d0577b90b17brow65_col2{\n            background-color:  #083370;\n            color:  #f1f1f1;\n        }#T_f90c2004_122c_11eb_bb2c_d0577b90b17brow71_col2{\n            background-color:  #ccdff1;\n            color:  #000000;\n        }#T_f90c2004_122c_11eb_bb2c_d0577b90b17brow80_col2{\n            background-color:  #1967ad;\n            color:  #f1f1f1;\n        }#T_f90c2004_122c_11eb_bb2c_d0577b90b17brow84_col2{\n            background-color:  #aed1e7;\n            color:  #000000;\n        }#T_f90c2004_122c_11eb_bb2c_d0577b90b17brow85_col2{\n            background-color:  #1f6eb3;\n            color:  #f1f1f1;\n        }#T_f90c2004_122c_11eb_bb2c_d0577b90b17brow88_col2{\n            background-color:  #f5f9fe;\n            color:  #000000;\n        }#T_f90c2004_122c_11eb_bb2c_d0577b90b17brow90_col2{\n            background-color:  #b3d3e8;\n            color:  #000000;\n        }#T_f90c2004_122c_11eb_bb2c_d0577b90b17brow91_col2{\n            background-color:  #add0e6;\n            color:  #000000;\n        }#T_f90c2004_122c_11eb_bb2c_d0577b90b17brow94_col2{\n            background-color:  #b5d4e9;\n            color:  #000000;\n        }</style><table id=\"T_f90c2004_122c_11eb_bb2c_d0577b90b17b\" ><thead>    <tr>        <th class=\"blank level0\" ></th>        <th class=\"col_heading level0 col0\" >tipo</th>        <th class=\"col_heading level0 col1\" >descripcion</th>        <th class=\"col_heading level0 col2\" >% vacios</th>    </tr></thead><tbody>\n                <tr>\n                        <th id=\"T_f90c2004_122c_11eb_bb2c_d0577b90b17blevel0_row0\" class=\"row_heading level0 row0\" >#</th>\n                        <td id=\"T_f90c2004_122c_11eb_bb2c_d0577b90b17brow0_col0\" class=\"data row0 col0\" >object</td>\n                        <td id=\"T_f90c2004_122c_11eb_bb2c_d0577b90b17brow0_col1\" class=\"data row0 col1\" >identificador único de la respuesta a la encuesta</td>\n                        <td id=\"T_f90c2004_122c_11eb_bb2c_d0577b90b17brow0_col2\" class=\"data row0 col2\" >0.000000</td>\n            </tr>\n            <tr>\n                        <th id=\"T_f90c2004_122c_11eb_bb2c_d0577b90b17blevel0_row1\" class=\"row_heading level0 row1\" >independiente/emprendedor</th>\n                        <td id=\"T_f90c2004_122c_11eb_bb2c_d0577b90b17brow1_col0\" class=\"data row1 col0\" >int64</td>\n                        <td id=\"T_f90c2004_122c_11eb_bb2c_d0577b90b17brow1_col1\" class=\"data row1 col1\" ><strong> ¿Trabaja por cuenta propia? </strong></td>\n                        <td id=\"T_f90c2004_122c_11eb_bb2c_d0577b90b17brow1_col2\" class=\"data row1 col2\" >0.000000</td>\n            </tr>\n            <tr>\n                        <th id=\"T_f90c2004_122c_11eb_bb2c_d0577b90b17blevel0_row2\" class=\"row_heading level0 row2\" >No_empleados</th>\n                        <td id=\"T_f90c2004_122c_11eb_bb2c_d0577b90b17brow2_col0\" class=\"data row2 col0\" >object</td>\n                        <td id=\"T_f90c2004_122c_11eb_bb2c_d0577b90b17brow2_col1\" class=\"data row2 col1\" >¿Cuántos empleados tiene su empresa u organización?</td>\n                        <td id=\"T_f90c2004_122c_11eb_bb2c_d0577b90b17brow2_col2\" class=\"data row2 col2\" >14.407502</td>\n            </tr>\n            <tr>\n                        <th id=\"T_f90c2004_122c_11eb_bb2c_d0577b90b17blevel0_row3\" class=\"row_heading level0 row3\" >compania_tecnologia</th>\n                        <td id=\"T_f90c2004_122c_11eb_bb2c_d0577b90b17brow3_col0\" class=\"data row3 col0\" >float64</td>\n                        <td id=\"T_f90c2004_122c_11eb_bb2c_d0577b90b17brow3_col1\" class=\"data row3 col1\" >¿Su empleador es principalmente una empresa / organización de tecnología?</td>\n                        <td id=\"T_f90c2004_122c_11eb_bb2c_d0577b90b17brow3_col2\" class=\"data row3 col2\" >14.407502</td>\n            </tr>\n            <tr>\n                        <th id=\"T_f90c2004_122c_11eb_bb2c_d0577b90b17blevel0_row4\" class=\"row_heading level0 row4\" >cargo_tecnologia</th>\n                        <td id=\"T_f90c2004_122c_11eb_bb2c_d0577b90b17brow4_col0\" class=\"data row4 col0\" >float64</td>\n                        <td id=\"T_f90c2004_122c_11eb_bb2c_d0577b90b17brow4_col1\" class=\"data row4 col1\" >¿Su función principal dentro de su empresa está relacionada con la tecnología / TI?</td>\n                        <td id=\"T_f90c2004_122c_11eb_bb2c_d0577b90b17brow4_col2\" class=\"data row4 col2\" >14.407502</td>\n            </tr>\n            <tr>\n                        <th id=\"T_f90c2004_122c_11eb_bb2c_d0577b90b17blevel0_row5\" class=\"row_heading level0 row5\" >cubrimiento_EM</th>\n                        <td id=\"T_f90c2004_122c_11eb_bb2c_d0577b90b17brow5_col0\" class=\"data row5 col0\" >object</td>\n                        <td id=\"T_f90c2004_122c_11eb_bb2c_d0577b90b17brow5_col1\" class=\"data row5 col1\" >¿Su empleador proporciona beneficios de salud mental como parte de la cobertura de atención médica?</td>\n                        <td id=\"T_f90c2004_122c_11eb_bb2c_d0577b90b17brow5_col2\" class=\"data row5 col2\" >14.407502</td>\n            </tr>\n            <tr>\n                        <th id=\"T_f90c2004_122c_11eb_bb2c_d0577b90b17blevel0_row6\" class=\"row_heading level0 row6\" >concimiento_cubrimiento_EM</th>\n                        <td id=\"T_f90c2004_122c_11eb_bb2c_d0577b90b17brow6_col0\" class=\"data row6 col0\" >object</td>\n                        <td id=\"T_f90c2004_122c_11eb_bb2c_d0577b90b17brow6_col1\" class=\"data row6 col1\" >¿Conoce las opciones de atención de salud mental disponibles bajo la cobertura de salud proporcionada por su empleador?</td>\n                        <td id=\"T_f90c2004_122c_11eb_bb2c_d0577b90b17brow6_col2\" class=\"data row6 col2\" >23.273657</td>\n            </tr>\n            <tr>\n                        <th id=\"T_f90c2004_122c_11eb_bb2c_d0577b90b17blevel0_row7\" class=\"row_heading level0 row7\" >charla_EM</th>\n                        <td id=\"T_f90c2004_122c_11eb_bb2c_d0577b90b17brow7_col0\" class=\"data row7 col0\" >object</td>\n                        <td id=\"T_f90c2004_122c_11eb_bb2c_d0577b90b17brow7_col1\" class=\"data row7 col1\" >¿Alguna vez su empleador ha discutido formalmente la salud mental (por ejemplo, como parte de una campaña de bienestar u otra comunicación oficial)?</td>\n                        <td id=\"T_f90c2004_122c_11eb_bb2c_d0577b90b17brow7_col2\" class=\"data row7 col2\" >14.407502</td>\n            </tr>\n            <tr>\n                        <th id=\"T_f90c2004_122c_11eb_bb2c_d0577b90b17blevel0_row8\" class=\"row_heading level0 row8\" >recursos_EM</th>\n                        <td id=\"T_f90c2004_122c_11eb_bb2c_d0577b90b17brow8_col0\" class=\"data row8 col0\" >object</td>\n                        <td id=\"T_f90c2004_122c_11eb_bb2c_d0577b90b17brow8_col1\" class=\"data row8 col1\" >¿Su empleador ofrece recursos para aprender más sobre los trastornos de salud mental y las opciones para buscar ayuda?</td>\n                        <td id=\"T_f90c2004_122c_11eb_bb2c_d0577b90b17brow8_col2\" class=\"data row8 col2\" >14.407502</td>\n            </tr>\n            <tr>\n                        <th id=\"T_f90c2004_122c_11eb_bb2c_d0577b90b17blevel0_row9\" class=\"row_heading level0 row9\" >anonimato_EM</th>\n                        <td id=\"T_f90c2004_122c_11eb_bb2c_d0577b90b17brow9_col0\" class=\"data row9 col0\" >object</td>\n                        <td id=\"T_f90c2004_122c_11eb_bb2c_d0577b90b17brow9_col1\" class=\"data row9 col1\" >¿Está protegido su anonimato si opta por aprovechar los recursos de tratamiento de salud mental o abuso de sustancias proporcionados por su empleador?</td>\n                        <td id=\"T_f90c2004_122c_11eb_bb2c_d0577b90b17brow9_col2\" class=\"data row9 col2\" >14.407502</td>\n            </tr>\n            <tr>\n                        <th id=\"T_f90c2004_122c_11eb_bb2c_d0577b90b17blevel0_row10\" class=\"row_heading level0 row10\" >dejar_trabajo_EM</th>\n                        <td id=\"T_f90c2004_122c_11eb_bb2c_d0577b90b17brow10_col0\" class=\"data row10 col0\" >object</td>\n                        <td id=\"T_f90c2004_122c_11eb_bb2c_d0577b90b17brow10_col1\" class=\"data row10 col1\" >Si un problema de salud mental lo llevó a solicitar una licencia médica del trabajo, ¿qué tan fácil o difícil sería pedir esa licencia?</td>\n                        <td id=\"T_f90c2004_122c_11eb_bb2c_d0577b90b17brow10_col2\" class=\"data row10 col2\" >14.407502</td>\n            </tr>\n            <tr>\n                        <th id=\"T_f90c2004_122c_11eb_bb2c_d0577b90b17blevel0_row11\" class=\"row_heading level0 row11\" >hablar_salud_mentalYFisica</th>\n                        <td id=\"T_f90c2004_122c_11eb_bb2c_d0577b90b17brow11_col0\" class=\"data row11 col0\" >object</td>\n                        <td id=\"T_f90c2004_122c_11eb_bb2c_d0577b90b17brow11_col1\" class=\"data row11 col1\" >¿Se sentiría más cómodo hablando con sus compañeros de trabajo sobre su salud física o su salud mental?</td>\n                        <td id=\"T_f90c2004_122c_11eb_bb2c_d0577b90b17brow11_col2\" class=\"data row11 col2\" >14.407502</td>\n            </tr>\n            <tr>\n                        <th id=\"T_f90c2004_122c_11eb_bb2c_d0577b90b17blevel0_row12\" class=\"row_heading level0 row12\" >hablar_jefe_EM</th>\n                        <td id=\"T_f90c2004_122c_11eb_bb2c_d0577b90b17brow12_col0\" class=\"data row12 col0\" >object</td>\n                        <td id=\"T_f90c2004_122c_11eb_bb2c_d0577b90b17brow12_col1\" class=\"data row12 col1\" >¿Se sentiría cómodo hablando de un problema de salud mental con su supervisor directo?</td>\n                        <td id=\"T_f90c2004_122c_11eb_bb2c_d0577b90b17brow12_col2\" class=\"data row12 col2\" >14.407502</td>\n            </tr>\n            <tr>\n                        <th id=\"T_f90c2004_122c_11eb_bb2c_d0577b90b17blevel0_row13\" class=\"row_heading level0 row13\" >habla_jefe_EM_flag</th>\n                        <td id=\"T_f90c2004_122c_11eb_bb2c_d0577b90b17brow13_col0\" class=\"data row13 col0\" >float64</td>\n                        <td id=\"T_f90c2004_122c_11eb_bb2c_d0577b90b17brow13_col1\" class=\"data row13 col1\" >¿Ha hablado alguna vez de su salud mental con su empleador?</td>\n                        <td id=\"T_f90c2004_122c_11eb_bb2c_d0577b90b17brow13_col2\" class=\"data row13 col2\" >14.407502</td>\n            </tr>\n            <tr>\n                        <th id=\"T_f90c2004_122c_11eb_bb2c_d0577b90b17blevel0_row14\" class=\"row_heading level0 row14\" >describir_conversacion_jefe</th>\n                        <td id=\"T_f90c2004_122c_11eb_bb2c_d0577b90b17brow14_col0\" class=\"data row14 col0\" >object</td>\n                        <td id=\"T_f90c2004_122c_11eb_bb2c_d0577b90b17brow14_col1\" class=\"data row14 col1\" >Describa la conversación que tuvo con su empleador sobre su salud mental, incluidas sus reacciones y las acciones que se tomaron para abordar su problema / preguntas de salud mental.</td>\n                        <td id=\"T_f90c2004_122c_11eb_bb2c_d0577b90b17brow14_col2\" class=\"data row14 col2\" >77.152600</td>\n            </tr>\n            <tr>\n                        <th id=\"T_f90c2004_122c_11eb_bb2c_d0577b90b17blevel0_row15\" class=\"row_heading level0 row15\" >hablar_EM_companeros_flag</th>\n                        <td id=\"T_f90c2004_122c_11eb_bb2c_d0577b90b17brow15_col0\" class=\"data row15 col0\" >object</td>\n                        <td id=\"T_f90c2004_122c_11eb_bb2c_d0577b90b17brow15_col1\" class=\"data row15 col1\" >¿Se sentiría cómodo hablando de un problema de salud mental con sus compañeros de trabajo?</td>\n                        <td id=\"T_f90c2004_122c_11eb_bb2c_d0577b90b17brow15_col2\" class=\"data row15 col2\" >14.407502</td>\n            </tr>\n            <tr>\n                        <th id=\"T_f90c2004_122c_11eb_bb2c_d0577b90b17blevel0_row16\" class=\"row_heading level0 row16\" >hablar_companeros_EM</th>\n                        <td id=\"T_f90c2004_122c_11eb_bb2c_d0577b90b17brow16_col0\" class=\"data row16 col0\" >float64</td>\n                        <td id=\"T_f90c2004_122c_11eb_bb2c_d0577b90b17brow16_col1\" class=\"data row16 col1\" >¿Alguna vez ha hablado de su salud mental con compañeros de trabajo?</td>\n                        <td id=\"T_f90c2004_122c_11eb_bb2c_d0577b90b17brow16_col2\" class=\"data row16 col2\" >14.492754</td>\n            </tr>\n            <tr>\n                        <th id=\"T_f90c2004_122c_11eb_bb2c_d0577b90b17blevel0_row17\" class=\"row_heading level0 row17\" >describir_conversacion_companeros</th>\n                        <td id=\"T_f90c2004_122c_11eb_bb2c_d0577b90b17brow17_col0\" class=\"data row17 col0\" >object</td>\n                        <td id=\"T_f90c2004_122c_11eb_bb2c_d0577b90b17brow17_col1\" class=\"data row17 col1\" >Describe la conversación que tuviste con compañeros de trabajo sobre tu salud mental, incluidas sus reacciones.</td>\n                        <td id=\"T_f90c2004_122c_11eb_bb2c_d0577b90b17brow17_col2\" class=\"data row17 col2\" >71.696505</td>\n            </tr>\n            <tr>\n                        <th id=\"T_f90c2004_122c_11eb_bb2c_d0577b90b17blevel0_row18\" class=\"row_heading level0 row18\" >hablar_companeros_EM_conmigo</th>\n                        <td id=\"T_f90c2004_122c_11eb_bb2c_d0577b90b17brow18_col0\" class=\"data row18 col0\" >float64</td>\n                        <td id=\"T_f90c2004_122c_11eb_bb2c_d0577b90b17brow18_col1\" class=\"data row18 col1\" >¿Alguna vez un compañero de trabajo ha hablado con usted sobre su salud mental o la de otro compañero de trabajo?</td>\n                        <td id=\"T_f90c2004_122c_11eb_bb2c_d0577b90b17brow18_col2\" class=\"data row18 col2\" >14.919011</td>\n            </tr>\n            <tr>\n                        <th id=\"T_f90c2004_122c_11eb_bb2c_d0577b90b17blevel0_row19\" class=\"row_heading level0 row19\" >describir_conversacion_companeros_conmigo</th>\n                        <td id=\"T_f90c2004_122c_11eb_bb2c_d0577b90b17brow19_col0\" class=\"data row19 col0\" >object</td>\n                        <td id=\"T_f90c2004_122c_11eb_bb2c_d0577b90b17brow19_col1\" class=\"data row19 col1\" >Describe la conversación que tu compañero de trabajo tuvo contigo sobre su salud mental (no uses nombres).</td>\n                        <td id=\"T_f90c2004_122c_11eb_bb2c_d0577b90b17brow19_col2\" class=\"data row19 col2\" >69.820972</td>\n            </tr>\n            <tr>\n                        <th id=\"T_f90c2004_122c_11eb_bb2c_d0577b90b17blevel0_row20\" class=\"row_heading level0 row20\" >importacia_salud_fisica</th>\n                        <td id=\"T_f90c2004_122c_11eb_bb2c_d0577b90b17brow20_col0\" class=\"data row20 col0\" >float64</td>\n                        <td id=\"T_f90c2004_122c_11eb_bb2c_d0577b90b17brow20_col1\" class=\"data row20 col1\" >En general, ¿qué importancia le da su empleador a la salud física?</td>\n                        <td id=\"T_f90c2004_122c_11eb_bb2c_d0577b90b17brow20_col2\" class=\"data row20 col2\" >14.407502</td>\n            </tr>\n            <tr>\n                        <th id=\"T_f90c2004_122c_11eb_bb2c_d0577b90b17blevel0_row21\" class=\"row_heading level0 row21\" >importancia_salud_mental</th>\n                        <td id=\"T_f90c2004_122c_11eb_bb2c_d0577b90b17brow21_col0\" class=\"data row21 col0\" >float64</td>\n                        <td id=\"T_f90c2004_122c_11eb_bb2c_d0577b90b17brow21_col1\" class=\"data row21 col1\" >En general, ¿qué importancia le da su empleador a la salud mental?</td>\n                        <td id=\"T_f90c2004_122c_11eb_bb2c_d0577b90b17brow21_col2\" class=\"data row21 col2\" >14.407502</td>\n            </tr>\n            <tr>\n                        <th id=\"T_f90c2004_122c_11eb_bb2c_d0577b90b17blevel0_row22\" class=\"row_heading level0 row22\" >trabajado_otras_empresa</th>\n                        <td id=\"T_f90c2004_122c_11eb_bb2c_d0577b90b17brow22_col0\" class=\"data row22 col0\" >int64</td>\n                        <td id=\"T_f90c2004_122c_11eb_bb2c_d0577b90b17brow22_col1\" class=\"data row22 col1\" ><strong> ¿Tiene empleadores anteriores? </strong></td>\n                        <td id=\"T_f90c2004_122c_11eb_bb2c_d0577b90b17brow22_col2\" class=\"data row22 col2\" >0.000000</td>\n            </tr>\n            <tr>\n                        <th id=\"T_f90c2004_122c_11eb_bb2c_d0577b90b17blevel0_row23\" class=\"row_heading level0 row23\" >empresa_anterior_tecnologia</th>\n                        <td id=\"T_f90c2004_122c_11eb_bb2c_d0577b90b17brow23_col0\" class=\"data row23 col0\" >float64</td>\n                        <td id=\"T_f90c2004_122c_11eb_bb2c_d0577b90b17brow23_col1\" class=\"data row23 col1\" >¿Su empleador era principalmente una empresa / organización de tecnología?</td>\n                        <td id=\"T_f90c2004_122c_11eb_bb2c_d0577b90b17brow23_col2\" class=\"data row23 col2\" >12.190963</td>\n            </tr>\n            <tr>\n                        <th id=\"T_f90c2004_122c_11eb_bb2c_d0577b90b17blevel0_row24\" class=\"row_heading level0 row24\" >empresa_anterior_cargo_tecnologia</th>\n                        <td id=\"T_f90c2004_122c_11eb_bb2c_d0577b90b17brow24_col0\" class=\"data row24 col0\" >object</td>\n                        <td id=\"T_f90c2004_122c_11eb_bb2c_d0577b90b17brow24_col1\" class=\"data row24 col1\" ><strong> ¿Sus empleadores anteriores le proporcionaron beneficios de salud mental? </strong></td>\n                        <td id=\"T_f90c2004_122c_11eb_bb2c_d0577b90b17brow24_col2\" class=\"data row24 col2\" >12.190963</td>\n            </tr>\n            <tr>\n                        <th id=\"T_f90c2004_122c_11eb_bb2c_d0577b90b17blevel0_row25\" class=\"row_heading level0 row25\" >empresa_anterior_cubrimiento_EM</th>\n                        <td id=\"T_f90c2004_122c_11eb_bb2c_d0577b90b17brow25_col0\" class=\"data row25 col0\" >object</td>\n                        <td id=\"T_f90c2004_122c_11eb_bb2c_d0577b90b17brow25_col1\" class=\"data row25 col1\" ><strong> ¿Conocía las opciones de atención de salud mental que brindaban sus empleadores anteriores? </strong></td>\n                        <td id=\"T_f90c2004_122c_11eb_bb2c_d0577b90b17brow25_col2\" class=\"data row25 col2\" >12.190963</td>\n            </tr>\n            <tr>\n                        <th id=\"T_f90c2004_122c_11eb_bb2c_d0577b90b17blevel0_row26\" class=\"row_heading level0 row26\" >empresa_anterior_charla_EM</th>\n                        <td id=\"T_f90c2004_122c_11eb_bb2c_d0577b90b17brow26_col0\" class=\"data row26 col0\" >object</td>\n                        <td id=\"T_f90c2004_122c_11eb_bb2c_d0577b90b17brow26_col1\" class=\"data row26 col1\" >¿Alguna vez sus empleadores anteriores discutieron formalmente la salud mental (como parte de una campaña de bienestar u otra comunicación oficial)?</td>\n                        <td id=\"T_f90c2004_122c_11eb_bb2c_d0577b90b17brow26_col2\" class=\"data row26 col2\" >12.190963</td>\n            </tr>\n            <tr>\n                        <th id=\"T_f90c2004_122c_11eb_bb2c_d0577b90b17blevel0_row27\" class=\"row_heading level0 row27\" >empresa_anterior_recursos_EM</th>\n                        <td id=\"T_f90c2004_122c_11eb_bb2c_d0577b90b17brow27_col0\" class=\"data row27 col0\" >object</td>\n                        <td id=\"T_f90c2004_122c_11eb_bb2c_d0577b90b17brow27_col1\" class=\"data row27 col1\" >¿Sus empleadores anteriores le proporcionaron recursos para aprender más sobre los trastornos de salud mental y cómo buscar ayuda?</td>\n                        <td id=\"T_f90c2004_122c_11eb_bb2c_d0577b90b17brow27_col2\" class=\"data row27 col2\" >12.190963</td>\n            </tr>\n            <tr>\n                        <th id=\"T_f90c2004_122c_11eb_bb2c_d0577b90b17blevel0_row28\" class=\"row_heading level0 row28\" >empresa_anterior_anonimato</th>\n                        <td id=\"T_f90c2004_122c_11eb_bb2c_d0577b90b17brow28_col0\" class=\"data row28 col0\" >object</td>\n                        <td id=\"T_f90c2004_122c_11eb_bb2c_d0577b90b17brow28_col1\" class=\"data row28 col1\" >¿Se protegió su anonimato si eligió aprovechar los recursos de tratamiento de salud mental o abuso de sustancias con empleadores anteriores?</td>\n                        <td id=\"T_f90c2004_122c_11eb_bb2c_d0577b90b17brow28_col2\" class=\"data row28 col2\" >12.190963</td>\n            </tr>\n            <tr>\n                        <th id=\"T_f90c2004_122c_11eb_bb2c_d0577b90b17blevel0_row29\" class=\"row_heading level0 row29\" >empresa_anterior_hablar_salud_mentalYFisica</th>\n                        <td id=\"T_f90c2004_122c_11eb_bb2c_d0577b90b17brow29_col0\" class=\"data row29 col0\" >object</td>\n                        <td id=\"T_f90c2004_122c_11eb_bb2c_d0577b90b17brow29_col1\" class=\"data row29 col1\" >¿Se habría sentido más cómodo hablando con su empleador anterior sobre su salud física o su salud mental?</td>\n                        <td id=\"T_f90c2004_122c_11eb_bb2c_d0577b90b17brow29_col2\" class=\"data row29 col2\" >12.190963</td>\n            </tr>\n            <tr>\n                        <th id=\"T_f90c2004_122c_11eb_bb2c_d0577b90b17blevel0_row30\" class=\"row_heading level0 row30\" >empresa_anterior_hablar_jefe_EM</th>\n                        <td id=\"T_f90c2004_122c_11eb_bb2c_d0577b90b17brow30_col0\" class=\"data row30 col0\" >object</td>\n                        <td id=\"T_f90c2004_122c_11eb_bb2c_d0577b90b17brow30_col1\" class=\"data row30 col1\" >¿Habría estado dispuesto a hablar sobre su salud mental con sus supervisores directos?</td>\n                        <td id=\"T_f90c2004_122c_11eb_bb2c_d0577b90b17brow30_col2\" class=\"data row30 col2\" >12.190963</td>\n            </tr>\n            <tr>\n                        <th id=\"T_f90c2004_122c_11eb_bb2c_d0577b90b17blevel0_row31\" class=\"row_heading level0 row31\" >empresa_anterior_hablar_jefe_EM_flag</th>\n                        <td id=\"T_f90c2004_122c_11eb_bb2c_d0577b90b17brow31_col0\" class=\"data row31 col0\" >float64</td>\n                        <td id=\"T_f90c2004_122c_11eb_bb2c_d0577b90b17brow31_col1\" class=\"data row31 col1\" >¿Habló alguna vez sobre su salud mental con su empleador anterior?</td>\n                        <td id=\"T_f90c2004_122c_11eb_bb2c_d0577b90b17brow31_col2\" class=\"data row31 col2\" >12.190963</td>\n            </tr>\n            <tr>\n                        <th id=\"T_f90c2004_122c_11eb_bb2c_d0577b90b17blevel0_row32\" class=\"row_heading level0 row32\" >empresa_anterior_describir_conversacion_jefe</th>\n                        <td id=\"T_f90c2004_122c_11eb_bb2c_d0577b90b17brow32_col0\" class=\"data row32 col0\" >object</td>\n                        <td id=\"T_f90c2004_122c_11eb_bb2c_d0577b90b17brow32_col1\" class=\"data row32 col1\" >Describa la conversación que tuvo con su empleador anterior sobre su salud mental, incluidas sus reacciones y las acciones tomadas para abordar su problema / preguntas de salud mental.</td>\n                        <td id=\"T_f90c2004_122c_11eb_bb2c_d0577b90b17brow32_col2\" class=\"data row32 col2\" >85.933504</td>\n            </tr>\n            <tr>\n                        <th id=\"T_f90c2004_122c_11eb_bb2c_d0577b90b17blevel0_row33\" class=\"row_heading level0 row33\" >empresa_anterior_dispuesto_hablar_companeros_EM</th>\n                        <td id=\"T_f90c2004_122c_11eb_bb2c_d0577b90b17brow33_col0\" class=\"data row33 col0\" >object</td>\n                        <td id=\"T_f90c2004_122c_11eb_bb2c_d0577b90b17brow33_col1\" class=\"data row33 col1\" ><strong> ¿Habría estado dispuesto a hablar sobre su salud mental con sus compañeros de trabajo en empleadores anteriores? </strong></td>\n                        <td id=\"T_f90c2004_122c_11eb_bb2c_d0577b90b17brow33_col2\" class=\"data row33 col2\" >12.190963</td>\n            </tr>\n            <tr>\n                        <th id=\"T_f90c2004_122c_11eb_bb2c_d0577b90b17blevel0_row34\" class=\"row_heading level0 row34\" >empresa_anterior_hablar_companeros_EM</th>\n                        <td id=\"T_f90c2004_122c_11eb_bb2c_d0577b90b17brow34_col0\" class=\"data row34 col0\" >float64</td>\n                        <td id=\"T_f90c2004_122c_11eb_bb2c_d0577b90b17brow34_col1\" class=\"data row34 col1\" >¿Habló alguna vez sobre su salud mental con un compañero (s) de trabajo anterior?</td>\n                        <td id=\"T_f90c2004_122c_11eb_bb2c_d0577b90b17brow34_col2\" class=\"data row34 col2\" >12.361466</td>\n            </tr>\n            <tr>\n                        <th id=\"T_f90c2004_122c_11eb_bb2c_d0577b90b17blevel0_row35\" class=\"row_heading level0 row35\" >empresa_anterior_describir_conversacion_companeros</th>\n                        <td id=\"T_f90c2004_122c_11eb_bb2c_d0577b90b17brow35_col0\" class=\"data row35 col0\" >object</td>\n                        <td id=\"T_f90c2004_122c_11eb_bb2c_d0577b90b17brow35_col1\" class=\"data row35 col1\" >Describe la conversación que tuviste con tus compañeros de trabajo anteriores sobre tu salud mental, incluyendo sus reacciones.</td>\n                        <td id=\"T_f90c2004_122c_11eb_bb2c_d0577b90b17brow35_col2\" class=\"data row35 col2\" >81.074169</td>\n            </tr>\n            <tr>\n                        <th id=\"T_f90c2004_122c_11eb_bb2c_d0577b90b17blevel0_row36\" class=\"row_heading level0 row36\" >empresa_anterior_hablar_companeros_conmigo</th>\n                        <td id=\"T_f90c2004_122c_11eb_bb2c_d0577b90b17brow36_col0\" class=\"data row36 col0\" >float64</td>\n                        <td id=\"T_f90c2004_122c_11eb_bb2c_d0577b90b17brow36_col1\" class=\"data row36 col1\" >¿Alguna vez un compañero de trabajo anterior habló con usted sobre su salud mental o la de otro compañero de trabajo?</td>\n                        <td id=\"T_f90c2004_122c_11eb_bb2c_d0577b90b17brow36_col2\" class=\"data row36 col2\" >12.702472</td>\n            </tr>\n            <tr>\n                        <th id=\"T_f90c2004_122c_11eb_bb2c_d0577b90b17blevel0_row37\" class=\"row_heading level0 row37\" >empresa_anterior_describir_conversacion_companeros_conmigo</th>\n                        <td id=\"T_f90c2004_122c_11eb_bb2c_d0577b90b17brow37_col0\" class=\"data row37 col0\" >object</td>\n                        <td id=\"T_f90c2004_122c_11eb_bb2c_d0577b90b17brow37_col1\" class=\"data row37 col1\" >Describe la conversación que tu compañero de trabajo tuvo contigo sobre su salud mental (no uses nombres).</td>\n                        <td id=\"T_f90c2004_122c_11eb_bb2c_d0577b90b17brow37_col2\" class=\"data row37 col2\" >82.523444</td>\n            </tr>\n            <tr>\n                        <th id=\"T_f90c2004_122c_11eb_bb2c_d0577b90b17blevel0_row38\" class=\"row_heading level0 row38\" >empresa_anterior_importancia_salud_fisica</th>\n                        <td id=\"T_f90c2004_122c_11eb_bb2c_d0577b90b17brow38_col0\" class=\"data row38 col0\" >float64</td>\n                        <td id=\"T_f90c2004_122c_11eb_bb2c_d0577b90b17brow38_col1\" class=\"data row38 col1\" >En general, ¿qué importancia le dio su empleador anterior a la salud física?</td>\n                        <td id=\"T_f90c2004_122c_11eb_bb2c_d0577b90b17brow38_col2\" class=\"data row38 col2\" >12.190963</td>\n            </tr>\n            <tr>\n                        <th id=\"T_f90c2004_122c_11eb_bb2c_d0577b90b17blevel0_row39\" class=\"row_heading level0 row39\" >empresa_anterior_importancia_salud_mental</th>\n                        <td id=\"T_f90c2004_122c_11eb_bb2c_d0577b90b17brow39_col0\" class=\"data row39 col0\" >float64</td>\n                        <td id=\"T_f90c2004_122c_11eb_bb2c_d0577b90b17brow39_col1\" class=\"data row39 col1\" >En general, ¿cuánta importancia le dio su empleador anterior a la salud mental?</td>\n                        <td id=\"T_f90c2004_122c_11eb_bb2c_d0577b90b17brow39_col2\" class=\"data row39 col2\" >12.190963</td>\n            </tr>\n            <tr>\n                        <th id=\"T_f90c2004_122c_11eb_bb2c_d0577b90b17blevel0_row40\" class=\"row_heading level0 row40\" >tiene_EM</th>\n                        <td id=\"T_f90c2004_122c_11eb_bb2c_d0577b90b17brow40_col0\" class=\"data row40 col0\" >object</td>\n                        <td id=\"T_f90c2004_122c_11eb_bb2c_d0577b90b17brow40_col1\" class=\"data row40 col1\" >¿Tiene actualmente un trastorno de salud mental?</td>\n                        <td id=\"T_f90c2004_122c_11eb_bb2c_d0577b90b17brow40_col2\" class=\"data row40 col2\" >0.000000</td>\n            </tr>\n            <tr>\n                        <th id=\"T_f90c2004_122c_11eb_bb2c_d0577b90b17blevel0_row41\" class=\"row_heading level0 row41\" >diagnostico_EM</th>\n                        <td id=\"T_f90c2004_122c_11eb_bb2c_d0577b90b17brow41_col0\" class=\"data row41 col0\" >object</td>\n                        <td id=\"T_f90c2004_122c_11eb_bb2c_d0577b90b17brow41_col1\" class=\"data row41 col1\" >¿Alguna vez le han diagnosticado un trastorno de salud mental?</td>\n                        <td id=\"T_f90c2004_122c_11eb_bb2c_d0577b90b17brow41_col2\" class=\"data row41 col2\" >56.095482</td>\n            </tr>\n            <tr>\n                        <th id=\"T_f90c2004_122c_11eb_bb2c_d0577b90b17blevel0_row42\" class=\"row_heading level0 row42\" >trastorno_ansiedad</th>\n                        <td id=\"T_f90c2004_122c_11eb_bb2c_d0577b90b17brow42_col0\" class=\"data row42 col0\" >object</td>\n                        <td id=\"T_f90c2004_122c_11eb_bb2c_d0577b90b17brow42_col1\" class=\"data row42 col1\" >Trastorno de ansiedad (generalizada, social, fobia, etc.)</td>\n                        <td id=\"T_f90c2004_122c_11eb_bb2c_d0577b90b17brow42_col2\" class=\"data row42 col2\" >86.786019</td>\n            </tr>\n            <tr>\n                        <th id=\"T_f90c2004_122c_11eb_bb2c_d0577b90b17blevel0_row43\" class=\"row_heading level0 row43\" >trastorno_humor</th>\n                        <td id=\"T_f90c2004_122c_11eb_bb2c_d0577b90b17brow43_col0\" class=\"data row43 col0\" >object</td>\n                        <td id=\"T_f90c2004_122c_11eb_bb2c_d0577b90b17brow43_col1\" class=\"data row43 col1\" >Trastorno del estado de ánimo (depresión, trastorno bipolar, etc.)</td>\n                        <td id=\"T_f90c2004_122c_11eb_bb2c_d0577b90b17brow43_col2\" class=\"data row43 col2\" >88.405797</td>\n            </tr>\n            <tr>\n                        <th id=\"T_f90c2004_122c_11eb_bb2c_d0577b90b17blevel0_row44\" class=\"row_heading level0 row44\" >trastorno_psicotico</th>\n                        <td id=\"T_f90c2004_122c_11eb_bb2c_d0577b90b17brow44_col0\" class=\"data row44 col0\" >float64</td>\n                        <td id=\"T_f90c2004_122c_11eb_bb2c_d0577b90b17brow44_col1\" class=\"data row44 col1\" >Trastorno psicótico (esquizofrenia, esquizoafectivo, etc.)</td>\n                        <td id=\"T_f90c2004_122c_11eb_bb2c_d0577b90b17brow44_col2\" class=\"data row44 col2\" >100.000000</td>\n            </tr>\n            <tr>\n                        <th id=\"T_f90c2004_122c_11eb_bb2c_d0577b90b17blevel0_row45\" class=\"row_heading level0 row45\" >trastorno_alimentacion</th>\n                        <td id=\"T_f90c2004_122c_11eb_bb2c_d0577b90b17brow45_col0\" class=\"data row45 col0\" >object</td>\n                        <td id=\"T_f90c2004_122c_11eb_bb2c_d0577b90b17brow45_col1\" class=\"data row45 col1\" >Trastorno de la alimentación (anorexia, bulimia, etc.)</td>\n                        <td id=\"T_f90c2004_122c_11eb_bb2c_d0577b90b17brow45_col2\" class=\"data row45 col2\" >99.573743</td>\n            </tr>\n            <tr>\n                        <th id=\"T_f90c2004_122c_11eb_bb2c_d0577b90b17blevel0_row46\" class=\"row_heading level0 row46\" >deficit_atencion</th>\n                        <td id=\"T_f90c2004_122c_11eb_bb2c_d0577b90b17brow46_col0\" class=\"data row46 col0\" >object</td>\n                        <td id=\"T_f90c2004_122c_11eb_bb2c_d0577b90b17brow46_col1\" class=\"data row46 col1\" >Desorden hiperactivo y deficit de atencion</td>\n                        <td id=\"T_f90c2004_122c_11eb_bb2c_d0577b90b17brow46_col2\" class=\"data row46 col2\" >96.419437</td>\n            </tr>\n            <tr>\n                        <th id=\"T_f90c2004_122c_11eb_bb2c_d0577b90b17blevel0_row47\" class=\"row_heading level0 row47\" >trastorno_personalidad</th>\n                        <td id=\"T_f90c2004_122c_11eb_bb2c_d0577b90b17brow47_col0\" class=\"data row47 col0\" >object</td>\n                        <td id=\"T_f90c2004_122c_11eb_bb2c_d0577b90b17brow47_col1\" class=\"data row47 col1\" >Trastorno de la personalidad (límite, antisocial, paranoico, etc.)</td>\n                        <td id=\"T_f90c2004_122c_11eb_bb2c_d0577b90b17brow47_col2\" class=\"data row47 col2\" >98.209719</td>\n            </tr>\n            <tr>\n                        <th id=\"T_f90c2004_122c_11eb_bb2c_d0577b90b17blevel0_row48\" class=\"row_heading level0 row48\" >trastorno_obsesivo_compulsivo</th>\n                        <td id=\"T_f90c2004_122c_11eb_bb2c_d0577b90b17brow48_col0\" class=\"data row48 col0\" >object</td>\n                        <td id=\"T_f90c2004_122c_11eb_bb2c_d0577b90b17brow48_col1\" class=\"data row48 col1\" >Trastorno obsesivo compulsivo</td>\n                        <td id=\"T_f90c2004_122c_11eb_bb2c_d0577b90b17brow48_col2\" class=\"data row48 col2\" >97.698210</td>\n            </tr>\n            <tr>\n                        <th id=\"T_f90c2004_122c_11eb_bb2c_d0577b90b17blevel0_row49\" class=\"row_heading level0 row49\" >trastorno_post_traumatico</th>\n                        <td id=\"T_f90c2004_122c_11eb_bb2c_d0577b90b17brow49_col0\" class=\"data row49 col0\" >object</td>\n                        <td id=\"T_f90c2004_122c_11eb_bb2c_d0577b90b17brow49_col1\" class=\"data row49 col1\" >Trastorno de estrés postraumático</td>\n                        <td id=\"T_f90c2004_122c_11eb_bb2c_d0577b90b17brow49_col2\" class=\"data row49 col2\" >97.698210</td>\n            </tr>\n            <tr>\n                        <th id=\"T_f90c2004_122c_11eb_bb2c_d0577b90b17blevel0_row50\" class=\"row_heading level0 row50\" >sindrome_estres</th>\n                        <td id=\"T_f90c2004_122c_11eb_bb2c_d0577b90b17brow50_col0\" class=\"data row50 col0\" >object</td>\n                        <td id=\"T_f90c2004_122c_11eb_bb2c_d0577b90b17brow50_col1\" class=\"data row50 col1\" >Síndromes de respuesta al estrés</td>\n                        <td id=\"T_f90c2004_122c_11eb_bb2c_d0577b90b17brow50_col2\" class=\"data row50 col2\" >97.783461</td>\n            </tr>\n            <tr>\n                        <th id=\"T_f90c2004_122c_11eb_bb2c_d0577b90b17blevel0_row51\" class=\"row_heading level0 row51\" >trastorno_disasocion</th>\n                        <td id=\"T_f90c2004_122c_11eb_bb2c_d0577b90b17brow51_col0\" class=\"data row51 col0\" >object</td>\n                        <td id=\"T_f90c2004_122c_11eb_bb2c_d0577b90b17brow51_col1\" class=\"data row51 col1\" >Trastorno disociativo</td>\n                        <td id=\"T_f90c2004_122c_11eb_bb2c_d0577b90b17brow51_col2\" class=\"data row51 col2\" >99.488491</td>\n            </tr>\n            <tr>\n                        <th id=\"T_f90c2004_122c_11eb_bb2c_d0577b90b17blevel0_row52\" class=\"row_heading level0 row52\" >trastorno_uso_sustancias</th>\n                        <td id=\"T_f90c2004_122c_11eb_bb2c_d0577b90b17brow52_col0\" class=\"data row52 col0\" >object</td>\n                        <td id=\"T_f90c2004_122c_11eb_bb2c_d0577b90b17brow52_col1\" class=\"data row52 col1\" >Trastorno por consumo de sustancias</td>\n                        <td id=\"T_f90c2004_122c_11eb_bb2c_d0577b90b17brow52_col2\" class=\"data row52 col2\" >99.147485</td>\n            </tr>\n            <tr>\n                        <th id=\"T_f90c2004_122c_11eb_bb2c_d0577b90b17blevel0_row53\" class=\"row_heading level0 row53\" >trastorno_adictivo</th>\n                        <td id=\"T_f90c2004_122c_11eb_bb2c_d0577b90b17brow53_col0\" class=\"data row53 col0\" >object</td>\n                        <td id=\"T_f90c2004_122c_11eb_bb2c_d0577b90b17brow53_col1\" class=\"data row53 col1\" >Trastorno adictivo</td>\n                        <td id=\"T_f90c2004_122c_11eb_bb2c_d0577b90b17brow53_col2\" class=\"data row53 col2\" >98.891731</td>\n            </tr>\n            <tr>\n                        <th id=\"T_f90c2004_122c_11eb_bb2c_d0577b90b17blevel0_row54\" class=\"row_heading level0 row54\" >trastorno_ansiedad.1</th>\n                        <td id=\"T_f90c2004_122c_11eb_bb2c_d0577b90b17brow54_col0\" class=\"data row54 col0\" >object</td>\n                        <td id=\"T_f90c2004_122c_11eb_bb2c_d0577b90b17brow54_col1\" class=\"data row54 col1\" >Trastorno de ansiedad (generalizada, social, fobia, etc.)</td>\n                        <td id=\"T_f90c2004_122c_11eb_bb2c_d0577b90b17brow54_col2\" class=\"data row54 col2\" >72.122762</td>\n            </tr>\n            <tr>\n                        <th id=\"T_f90c2004_122c_11eb_bb2c_d0577b90b17blevel0_row55\" class=\"row_heading level0 row55\" >trastorno_humor.1</th>\n                        <td id=\"T_f90c2004_122c_11eb_bb2c_d0577b90b17brow55_col0\" class=\"data row55 col0\" >object</td>\n                        <td id=\"T_f90c2004_122c_11eb_bb2c_d0577b90b17brow55_col1\" class=\"data row55 col1\" >Trastorno del estado de ánimo (depresión, trastorno bipolar, etc.)</td>\n                        <td id=\"T_f90c2004_122c_11eb_bb2c_d0577b90b17brow55_col2\" class=\"data row55 col2\" >67.860188</td>\n            </tr>\n            <tr>\n                        <th id=\"T_f90c2004_122c_11eb_bb2c_d0577b90b17blevel0_row56\" class=\"row_heading level0 row56\" >trastorno_psicotico.1</th>\n                        <td id=\"T_f90c2004_122c_11eb_bb2c_d0577b90b17brow56_col0\" class=\"data row56 col0\" >object</td>\n                        <td id=\"T_f90c2004_122c_11eb_bb2c_d0577b90b17brow56_col1\" class=\"data row56 col1\" >Trastorno psicótico (esquizofrenia, esquizoafectivo, etc.)</td>\n                        <td id=\"T_f90c2004_122c_11eb_bb2c_d0577b90b17brow56_col2\" class=\"data row56 col2\" >98.891731</td>\n            </tr>\n            <tr>\n                        <th id=\"T_f90c2004_122c_11eb_bb2c_d0577b90b17blevel0_row57\" class=\"row_heading level0 row57\" >trastorno_alimentacion.1</th>\n                        <td id=\"T_f90c2004_122c_11eb_bb2c_d0577b90b17brow57_col0\" class=\"data row57 col0\" >object</td>\n                        <td id=\"T_f90c2004_122c_11eb_bb2c_d0577b90b17brow57_col1\" class=\"data row57 col1\" >Trastorno de la alimentación (anorexia, bulimia, etc.)</td>\n                        <td id=\"T_f90c2004_122c_11eb_bb2c_d0577b90b17brow57_col2\" class=\"data row57 col2\" >97.271952</td>\n            </tr>\n            <tr>\n                        <th id=\"T_f90c2004_122c_11eb_bb2c_d0577b90b17blevel0_row58\" class=\"row_heading level0 row58\" >deficit_atencion.1</th>\n                        <td id=\"T_f90c2004_122c_11eb_bb2c_d0577b90b17brow58_col0\" class=\"data row58 col0\" >object</td>\n                        <td id=\"T_f90c2004_122c_11eb_bb2c_d0577b90b17brow58_col1\" class=\"data row58 col1\" >Desorden hiperactivo y deficit de atencion</td>\n                        <td id=\"T_f90c2004_122c_11eb_bb2c_d0577b90b17brow58_col2\" class=\"data row58 col2\" >89.087809</td>\n            </tr>\n            <tr>\n                        <th id=\"T_f90c2004_122c_11eb_bb2c_d0577b90b17blevel0_row59\" class=\"row_heading level0 row59\" >trastorno_personalidad.1</th>\n                        <td id=\"T_f90c2004_122c_11eb_bb2c_d0577b90b17brow59_col0\" class=\"data row59 col0\" >object</td>\n                        <td id=\"T_f90c2004_122c_11eb_bb2c_d0577b90b17brow59_col1\" class=\"data row59 col1\" >Trastorno de la personalidad (límite, antisocial, paranoico, etc.)</td>\n                        <td id=\"T_f90c2004_122c_11eb_bb2c_d0577b90b17brow59_col2\" class=\"data row59 col2\" >97.953964</td>\n            </tr>\n            <tr>\n                        <th id=\"T_f90c2004_122c_11eb_bb2c_d0577b90b17blevel0_row60\" class=\"row_heading level0 row60\" >trastorno_obsesivo_compulsivo.1</th>\n                        <td id=\"T_f90c2004_122c_11eb_bb2c_d0577b90b17brow60_col0\" class=\"data row60 col0\" >object</td>\n                        <td id=\"T_f90c2004_122c_11eb_bb2c_d0577b90b17brow60_col1\" class=\"data row60 col1\" >Trastorno obsesivo compulsivo</td>\n                        <td id=\"T_f90c2004_122c_11eb_bb2c_d0577b90b17brow60_col2\" class=\"data row60 col2\" >96.504689</td>\n            </tr>\n            <tr>\n                        <th id=\"T_f90c2004_122c_11eb_bb2c_d0577b90b17blevel0_row61\" class=\"row_heading level0 row61\" >trastorno_post_traumatico.1</th>\n                        <td id=\"T_f90c2004_122c_11eb_bb2c_d0577b90b17brow61_col0\" class=\"data row61 col0\" >object</td>\n                        <td id=\"T_f90c2004_122c_11eb_bb2c_d0577b90b17brow61_col1\" class=\"data row61 col1\" >Trastorno de estrés postraumático</td>\n                        <td id=\"T_f90c2004_122c_11eb_bb2c_d0577b90b17brow61_col2\" class=\"data row61 col2\" >93.350384</td>\n            </tr>\n            <tr>\n                        <th id=\"T_f90c2004_122c_11eb_bb2c_d0577b90b17blevel0_row62\" class=\"row_heading level0 row62\" >sindrome_estres.1</th>\n                        <td id=\"T_f90c2004_122c_11eb_bb2c_d0577b90b17brow62_col0\" class=\"data row62 col0\" >object</td>\n                        <td id=\"T_f90c2004_122c_11eb_bb2c_d0577b90b17brow62_col1\" class=\"data row62 col1\" >Síndromes de respuesta al estrés</td>\n                        <td id=\"T_f90c2004_122c_11eb_bb2c_d0577b90b17brow62_col2\" class=\"data row62 col2\" >98.891731</td>\n            </tr>\n            <tr>\n                        <th id=\"T_f90c2004_122c_11eb_bb2c_d0577b90b17blevel0_row63\" class=\"row_heading level0 row63\" >trastorno_disasocion.1</th>\n                        <td id=\"T_f90c2004_122c_11eb_bb2c_d0577b90b17brow63_col0\" class=\"data row63 col0\" >object</td>\n                        <td id=\"T_f90c2004_122c_11eb_bb2c_d0577b90b17brow63_col1\" class=\"data row63 col1\" >Trastorno disociativo</td>\n                        <td id=\"T_f90c2004_122c_11eb_bb2c_d0577b90b17brow63_col2\" class=\"data row63 col2\" >99.317988</td>\n            </tr>\n            <tr>\n                        <th id=\"T_f90c2004_122c_11eb_bb2c_d0577b90b17blevel0_row64\" class=\"row_heading level0 row64\" >trastorno_uso_sustancias.1</th>\n                        <td id=\"T_f90c2004_122c_11eb_bb2c_d0577b90b17brow64_col0\" class=\"data row64 col0\" >object</td>\n                        <td id=\"T_f90c2004_122c_11eb_bb2c_d0577b90b17brow64_col1\" class=\"data row64 col1\" >Trastorno por consumo de sustancias</td>\n                        <td id=\"T_f90c2004_122c_11eb_bb2c_d0577b90b17brow64_col2\" class=\"data row64 col2\" >97.698210</td>\n            </tr>\n            <tr>\n                        <th id=\"T_f90c2004_122c_11eb_bb2c_d0577b90b17blevel0_row65\" class=\"row_heading level0 row65\" >trastorno_adictivo.1</th>\n                        <td id=\"T_f90c2004_122c_11eb_bb2c_d0577b90b17brow65_col0\" class=\"data row65 col0\" >object</td>\n                        <td id=\"T_f90c2004_122c_11eb_bb2c_d0577b90b17brow65_col1\" class=\"data row65 col1\" >Trastorno adictivo</td>\n                        <td id=\"T_f90c2004_122c_11eb_bb2c_d0577b90b17brow65_col2\" class=\"data row65 col2\" >98.465473</td>\n            </tr>\n            <tr>\n                        <th id=\"T_f90c2004_122c_11eb_bb2c_d0577b90b17blevel0_row66\" class=\"row_heading level0 row66\" >Otro</th>\n                        <td id=\"T_f90c2004_122c_11eb_bb2c_d0577b90b17brow66_col0\" class=\"data row66 col0\" >object</td>\n                        <td id=\"T_f90c2004_122c_11eb_bb2c_d0577b90b17brow66_col1\" class=\"data row66 col1\" >Otro</td>\n                        <td id=\"T_f90c2004_122c_11eb_bb2c_d0577b90b17brow66_col2\" class=\"data row66 col2\" >98.380222</td>\n            </tr>\n            <tr>\n                        <th id=\"T_f90c2004_122c_11eb_bb2c_d0577b90b17blevel0_row67\" class=\"row_heading level0 row67\" >tratamiento_EM</th>\n                        <td id=\"T_f90c2004_122c_11eb_bb2c_d0577b90b17brow67_col0\" class=\"data row67 col0\" >int64</td>\n                        <td id=\"T_f90c2004_122c_11eb_bb2c_d0577b90b17brow67_col1\" class=\"data row67 col1\" >¿Alguna vez buscó tratamiento para un trastorno de salud mental de un profesional de la salud mental?</td>\n                        <td id=\"T_f90c2004_122c_11eb_bb2c_d0577b90b17brow67_col2\" class=\"data row67 col2\" >0.000000</td>\n            </tr>\n            <tr>\n                        <th id=\"T_f90c2004_122c_11eb_bb2c_d0577b90b17blevel0_row68\" class=\"row_heading level0 row68\" >EM_familiar</th>\n                        <td id=\"T_f90c2004_122c_11eb_bb2c_d0577b90b17brow68_col0\" class=\"data row68 col0\" >object</td>\n                        <td id=\"T_f90c2004_122c_11eb_bb2c_d0577b90b17brow68_col1\" class=\"data row68 col1\" >¿Tiene antecedentes familiares de enfermedad mental?</td>\n                        <td id=\"T_f90c2004_122c_11eb_bb2c_d0577b90b17brow68_col2\" class=\"data row68 col2\" >0.000000</td>\n            </tr>\n            <tr>\n                        <th id=\"T_f90c2004_122c_11eb_bb2c_d0577b90b17blevel0_row69\" class=\"row_heading level0 row69\" >EM_interfiere_trabajo_buen_tratamiento</th>\n                        <td id=\"T_f90c2004_122c_11eb_bb2c_d0577b90b17brow69_col0\" class=\"data row69 col0\" >object</td>\n                        <td id=\"T_f90c2004_122c_11eb_bb2c_d0577b90b17brow69_col1\" class=\"data row69 col1\" >Si tiene un trastorno de salud mental, ¿con qué frecuencia siente que interfiere con su trabajo <strong> cuando se le trata de manera eficaz? </strong></td>\n                        <td id=\"T_f90c2004_122c_11eb_bb2c_d0577b90b17brow69_col2\" class=\"data row69 col2\" >0.000000</td>\n            </tr>\n            <tr>\n                        <th id=\"T_f90c2004_122c_11eb_bb2c_d0577b90b17blevel0_row70\" class=\"row_heading level0 row70\" >EM_interfiere_trabajo_mal_tratamiento</th>\n                        <td id=\"T_f90c2004_122c_11eb_bb2c_d0577b90b17brow70_col0\" class=\"data row70 col0\" >object</td>\n                        <td id=\"T_f90c2004_122c_11eb_bb2c_d0577b90b17brow70_col1\" class=\"data row70 col1\" >Si tiene un trastorno de salud mental, ¿con qué frecuencia siente que interfiere con su trabajo <strong> cuando <em> NO </em> se trata de manera eficaz (es decir, cuando tiene síntomas)? </strong></td>\n                        <td id=\"T_f90c2004_122c_11eb_bb2c_d0577b90b17brow70_col2\" class=\"data row70 col2\" >0.000000</td>\n            </tr>\n            <tr>\n                        <th id=\"T_f90c2004_122c_11eb_bb2c_d0577b90b17blevel0_row71\" class=\"row_heading level0 row71\" >miedo_hablar_EM</th>\n                        <td id=\"T_f90c2004_122c_11eb_bb2c_d0577b90b17brow71_col0\" class=\"data row71 col0\" >object</td>\n                        <td id=\"T_f90c2004_122c_11eb_bb2c_d0577b90b17brow71_col1\" class=\"data row71 col1\" >¿Sus observaciones de cómo otra persona que discutió un problema de salud mental lo hizo menos propenso a revelar un problema de salud mental en su lugar de trabajo actual?</td>\n                        <td id=\"T_f90c2004_122c_11eb_bb2c_d0577b90b17brow71_col2\" class=\"data row71 col2\" >21.909633</td>\n            </tr>\n            <tr>\n                        <th id=\"T_f90c2004_122c_11eb_bb2c_d0577b90b17blevel0_row72\" class=\"row_heading level0 row72\" >hablar_amigos_familia_EM</th>\n                        <td id=\"T_f90c2004_122c_11eb_bb2c_d0577b90b17brow72_col0\" class=\"data row72 col0\" >int64</td>\n                        <td id=\"T_f90c2004_122c_11eb_bb2c_d0577b90b17brow72_col1\" class=\"data row72 col1\" >¿Qué tan dispuesto estaría a compartir con amigos y familiares que tiene una enfermedad mental?</td>\n                        <td id=\"T_f90c2004_122c_11eb_bb2c_d0577b90b17brow72_col2\" class=\"data row72 col2\" >0.000000</td>\n            </tr>\n            <tr>\n                        <th id=\"T_f90c2004_122c_11eb_bb2c_d0577b90b17blevel0_row73\" class=\"row_heading level0 row73\" >entrevista_trabajo_hablar_EF</th>\n                        <td id=\"T_f90c2004_122c_11eb_bb2c_d0577b90b17brow73_col0\" class=\"data row73 col0\" >object</td>\n                        <td id=\"T_f90c2004_122c_11eb_bb2c_d0577b90b17brow73_col1\" class=\"data row73 col1\" >¿Estaría dispuesto a plantear un problema de salud física con un posible empleador en una entrevista?</td>\n                        <td id=\"T_f90c2004_122c_11eb_bb2c_d0577b90b17brow73_col2\" class=\"data row73 col2\" >0.000000</td>\n            </tr>\n            <tr>\n                        <th id=\"T_f90c2004_122c_11eb_bb2c_d0577b90b17blevel0_row74\" class=\"row_heading level0 row74\" >entrevista_trabajo_hablar_EM</th>\n                        <td id=\"T_f90c2004_122c_11eb_bb2c_d0577b90b17brow74_col0\" class=\"data row74 col0\" >object</td>\n                        <td id=\"T_f90c2004_122c_11eb_bb2c_d0577b90b17brow74_col1\" class=\"data row74 col1\" >¿Hablaría de su salud mental con un posible empleador en una entrevista?</td>\n                        <td id=\"T_f90c2004_122c_11eb_bb2c_d0577b90b17brow74_col2\" class=\"data row74 col2\" >0.000000</td>\n            </tr>\n            <tr>\n                        <th id=\"T_f90c2004_122c_11eb_bb2c_d0577b90b17blevel0_row75\" class=\"row_heading level0 row75\" >identificado_EM_trabajo</th>\n                        <td id=\"T_f90c2004_122c_11eb_bb2c_d0577b90b17brow75_col0\" class=\"data row75 col0\" >float64</td>\n                        <td id=\"T_f90c2004_122c_11eb_bb2c_d0577b90b17brow75_col1\" class=\"data row75 col1\" >¿Se le identifica abiertamente en el trabajo como una persona con un problema de salud mental?</td>\n                        <td id=\"T_f90c2004_122c_11eb_bb2c_d0577b90b17brow75_col2\" class=\"data row75 col2\" >0.170503</td>\n            </tr>\n            <tr>\n                        <th id=\"T_f90c2004_122c_11eb_bb2c_d0577b90b17blevel0_row76\" class=\"row_heading level0 row76\" >EM_afecta_carrera</th>\n                        <td id=\"T_f90c2004_122c_11eb_bb2c_d0577b90b17brow76_col0\" class=\"data row76 col0\" >float64</td>\n                        <td id=\"T_f90c2004_122c_11eb_bb2c_d0577b90b17brow76_col1\" class=\"data row76 col1\" >¿Ser identificado como una persona con un problema de salud mental ha afectado su carrera?</td>\n                        <td id=\"T_f90c2004_122c_11eb_bb2c_d0577b90b17brow76_col2\" class=\"data row76 col2\" >88.491049</td>\n            </tr>\n            <tr>\n                        <th id=\"T_f90c2004_122c_11eb_bb2c_d0577b90b17blevel0_row77\" class=\"row_heading level0 row77\" >EM_afectado_carrera</th>\n                        <td id=\"T_f90c2004_122c_11eb_bb2c_d0577b90b17brow77_col0\" class=\"data row77 col0\" >float64</td>\n                        <td id=\"T_f90c2004_122c_11eb_bb2c_d0577b90b17brow77_col1\" class=\"data row77 col1\" >¿Cómo ha afectado a tu carrera?</td>\n                        <td id=\"T_f90c2004_122c_11eb_bb2c_d0577b90b17brow77_col2\" class=\"data row77 col2\" >96.419437</td>\n            </tr>\n            <tr>\n                        <th id=\"T_f90c2004_122c_11eb_bb2c_d0577b90b17blevel0_row78\" class=\"row_heading level0 row78\" >reaccion_companeros_EM</th>\n                        <td id=\"T_f90c2004_122c_11eb_bb2c_d0577b90b17brow78_col0\" class=\"data row78 col0\" >float64</td>\n                        <td id=\"T_f90c2004_122c_11eb_bb2c_d0577b90b17brow78_col1\" class=\"data row78 col1\" >Si supieran que sufría de un trastorno de salud mental, ¿cómo cree que reaccionarían los miembros del equipo / compañeros de trabajo?</td>\n                        <td id=\"T_f90c2004_122c_11eb_bb2c_d0577b90b17brow78_col2\" class=\"data row78 col2\" >0.170503</td>\n            </tr>\n            <tr>\n                        <th id=\"T_f90c2004_122c_11eb_bb2c_d0577b90b17blevel0_row79\" class=\"row_heading level0 row79\" >no_apoyo_EM</th>\n                        <td id=\"T_f90c2004_122c_11eb_bb2c_d0577b90b17brow79_col0\" class=\"data row79 col0\" >object</td>\n                        <td id=\"T_f90c2004_122c_11eb_bb2c_d0577b90b17brow79_col1\" class=\"data row79 col1\" ><strong> ¿Ha observado o experimentado una respuesta insatisfactoria o mal manejada a un problema de salud mental en su lugar de trabajo actual o anterior? </strong></td>\n                        <td id=\"T_f90c2004_122c_11eb_bb2c_d0577b90b17brow79_col2\" class=\"data row79 col2\" >0.170503</td>\n            </tr>\n            <tr>\n                        <th id=\"T_f90c2004_122c_11eb_bb2c_d0577b90b17blevel0_row80\" class=\"row_heading level0 row80\" >describir_no_apoyo_EM</th>\n                        <td id=\"T_f90c2004_122c_11eb_bb2c_d0577b90b17brow80_col0\" class=\"data row80 col0\" >object</td>\n                        <td id=\"T_f90c2004_122c_11eb_bb2c_d0577b90b17brow80_col1\" class=\"data row80 col1\" >Describa las circunstancias de la respuesta mal manejada o sin apoyo.</td>\n                        <td id=\"T_f90c2004_122c_11eb_bb2c_d0577b90b17brow80_col2\" class=\"data row80 col2\" >78.857630</td>\n            </tr>\n            <tr>\n                        <th id=\"T_f90c2004_122c_11eb_bb2c_d0577b90b17blevel0_row81\" class=\"row_heading level0 row81\" >apoyo_EM</th>\n                        <td id=\"T_f90c2004_122c_11eb_bb2c_d0577b90b17brow81_col0\" class=\"data row81 col0\" >object</td>\n                        <td id=\"T_f90c2004_122c_11eb_bb2c_d0577b90b17brow81_col1\" class=\"data row81 col1\" ><strong> ¿Ha observado o experimentado una respuesta de apoyo o bien manejada a un problema de salud mental en su lugar de trabajo actual o anterior? </strong></td>\n                        <td id=\"T_f90c2004_122c_11eb_bb2c_d0577b90b17brow81_col2\" class=\"data row81 col2\" >0.170503</td>\n            </tr>\n            <tr>\n                        <th id=\"T_f90c2004_122c_11eb_bb2c_d0577b90b17blevel0_row82\" class=\"row_heading level0 row82\" >describir_apoyo_EM</th>\n                        <td id=\"T_f90c2004_122c_11eb_bb2c_d0577b90b17brow82_col0\" class=\"data row82 col0\" >float64</td>\n                        <td id=\"T_f90c2004_122c_11eb_bb2c_d0577b90b17brow82_col1\" class=\"data row82 col1\" >Describa las circunstancias de la respuesta de apoyo o bien manejada.</td>\n                        <td id=\"T_f90c2004_122c_11eb_bb2c_d0577b90b17brow82_col2\" class=\"data row82 col2\" >100.000000</td>\n            </tr>\n            <tr>\n                        <th id=\"T_f90c2004_122c_11eb_bb2c_d0577b90b17blevel0_row83\" class=\"row_heading level0 row83\" >apoyo_industria_tecnologia_EM</th>\n                        <td id=\"T_f90c2004_122c_11eb_bb2c_d0577b90b17brow83_col0\" class=\"data row83 col0\" >float64</td>\n                        <td id=\"T_f90c2004_122c_11eb_bb2c_d0577b90b17brow83_col1\" class=\"data row83 col1\" >En general, ¿qué tan bien cree que la industria tecnológica apoya a los empleados con problemas de salud mental?</td>\n                        <td id=\"T_f90c2004_122c_11eb_bb2c_d0577b90b17brow83_col2\" class=\"data row83 col2\" >0.170503</td>\n            </tr>\n            <tr>\n                        <th id=\"T_f90c2004_122c_11eb_bb2c_d0577b90b17blevel0_row84\" class=\"row_heading level0 row84\" >describir_apoyo_industria_tecnologia_EM</th>\n                        <td id=\"T_f90c2004_122c_11eb_bb2c_d0577b90b17brow84_col0\" class=\"data row84 col0\" >object</td>\n                        <td id=\"T_f90c2004_122c_11eb_bb2c_d0577b90b17brow84_col1\" class=\"data row84 col1\" >Describa brevemente lo que cree que la industria en su conjunto y / o los empleadores podrían hacer para mejorar el apoyo de salud mental para los empleados.</td>\n                        <td id=\"T_f90c2004_122c_11eb_bb2c_d0577b90b17brow84_col2\" class=\"data row84 col2\" >32.736573</td>\n            </tr>\n            <tr>\n                        <th id=\"T_f90c2004_122c_11eb_bb2c_d0577b90b17blevel0_row85\" class=\"row_heading level0 row85\" >otros_comentarios</th>\n                        <td id=\"T_f90c2004_122c_11eb_bb2c_d0577b90b17brow85_col0\" class=\"data row85 col0\" >object</td>\n                        <td id=\"T_f90c2004_122c_11eb_bb2c_d0577b90b17brow85_col1\" class=\"data row85 col1\" >Si hay algo más que le gustaría decirnos que no haya sido cubierto por las preguntas de la encuesta, use este espacio para hacerlo.</td>\n                        <td id=\"T_f90c2004_122c_11eb_bb2c_d0577b90b17brow85_col2\" class=\"data row85 col2\" >76.044331</td>\n            </tr>\n            <tr>\n                        <th id=\"T_f90c2004_122c_11eb_bb2c_d0577b90b17blevel0_row86\" class=\"row_heading level0 row86\" >dispuesto_contar_experiencia</th>\n                        <td id=\"T_f90c2004_122c_11eb_bb2c_d0577b90b17brow86_col0\" class=\"data row86 col0\" >float64</td>\n                        <td id=\"T_f90c2004_122c_11eb_bb2c_d0577b90b17brow86_col1\" class=\"data row86 col1\" >¿Estaría dispuesto a hablar con uno de nosotros más ampliamente sobre sus experiencias con problemas de salud mental en la industria tecnológica? (Tenga en cuenta que todas las respuestas de la entrevista se utilizarán <em> de forma anónima </em> Â y solo con su permiso).</td>\n                        <td id=\"T_f90c2004_122c_11eb_bb2c_d0577b90b17brow86_col2\" class=\"data row86 col2\" >0.170503</td>\n            </tr>\n            <tr>\n                        <th id=\"T_f90c2004_122c_11eb_bb2c_d0577b90b17blevel0_row87\" class=\"row_heading level0 row87\" >edad</th>\n                        <td id=\"T_f90c2004_122c_11eb_bb2c_d0577b90b17brow87_col0\" class=\"data row87 col0\" >float64</td>\n                        <td id=\"T_f90c2004_122c_11eb_bb2c_d0577b90b17brow87_col1\" class=\"data row87 col1\" >¿Cuál es tu edad?</td>\n                        <td id=\"T_f90c2004_122c_11eb_bb2c_d0577b90b17brow87_col2\" class=\"data row87 col2\" >0.170503</td>\n            </tr>\n            <tr>\n                        <th id=\"T_f90c2004_122c_11eb_bb2c_d0577b90b17blevel0_row88\" class=\"row_heading level0 row88\" >genero</th>\n                        <td id=\"T_f90c2004_122c_11eb_bb2c_d0577b90b17brow88_col0\" class=\"data row88 col0\" >object</td>\n                        <td id=\"T_f90c2004_122c_11eb_bb2c_d0577b90b17brow88_col1\" class=\"data row88 col1\" >¿Cuál es su género?</td>\n                        <td id=\"T_f90c2004_122c_11eb_bb2c_d0577b90b17brow88_col2\" class=\"data row88 col2\" >1.364024</td>\n            </tr>\n            <tr>\n                        <th id=\"T_f90c2004_122c_11eb_bb2c_d0577b90b17blevel0_row89\" class=\"row_heading level0 row89\" >pais_vivienda</th>\n                        <td id=\"T_f90c2004_122c_11eb_bb2c_d0577b90b17brow89_col0\" class=\"data row89 col0\" >object</td>\n                        <td id=\"T_f90c2004_122c_11eb_bb2c_d0577b90b17brow89_col1\" class=\"data row89 col1\" >¿En qué país <strong> vives </strong>?</td>\n                        <td id=\"T_f90c2004_122c_11eb_bb2c_d0577b90b17brow89_col2\" class=\"data row89 col2\" >0.170503</td>\n            </tr>\n            <tr>\n                        <th id=\"T_f90c2004_122c_11eb_bb2c_d0577b90b17blevel0_row90\" class=\"row_heading level0 row90\" >estado_US_vivienda</th>\n                        <td id=\"T_f90c2004_122c_11eb_bb2c_d0577b90b17brow90_col0\" class=\"data row90 col0\" >object</td>\n                        <td id=\"T_f90c2004_122c_11eb_bb2c_d0577b90b17brow90_col1\" class=\"data row90 col1\" >¿En qué estado o territorio de EE. UU. <strong> vives </strong>?</td>\n                        <td id=\"T_f90c2004_122c_11eb_bb2c_d0577b90b17brow90_col2\" class=\"data row90 col2\" >31.116795</td>\n            </tr>\n            <tr>\n                        <th id=\"T_f90c2004_122c_11eb_bb2c_d0577b90b17blevel0_row91\" class=\"row_heading level0 row91\" >grupo_etnico</th>\n                        <td id=\"T_f90c2004_122c_11eb_bb2c_d0577b90b17brow91_col0\" class=\"data row91 col0\" >object</td>\n                        <td id=\"T_f90c2004_122c_11eb_bb2c_d0577b90b17brow91_col1\" class=\"data row91 col1\" >¿Cuál es su raza?</td>\n                        <td id=\"T_f90c2004_122c_11eb_bb2c_d0577b90b17brow91_col2\" class=\"data row91 col2\" >33.162830</td>\n            </tr>\n            <tr>\n                        <th id=\"T_f90c2004_122c_11eb_bb2c_d0577b90b17blevel0_row92\" class=\"row_heading level0 row92\" >Other.1</th>\n                        <td id=\"T_f90c2004_122c_11eb_bb2c_d0577b90b17brow92_col0\" class=\"data row92 col0\" >object</td>\n                        <td id=\"T_f90c2004_122c_11eb_bb2c_d0577b90b17brow92_col1\" class=\"data row92 col1\" >Otro</td>\n                        <td id=\"T_f90c2004_122c_11eb_bb2c_d0577b90b17brow92_col2\" class=\"data row92 col2\" >97.953964</td>\n            </tr>\n            <tr>\n                        <th id=\"T_f90c2004_122c_11eb_bb2c_d0577b90b17blevel0_row93\" class=\"row_heading level0 row93\" >pais_trabajo</th>\n                        <td id=\"T_f90c2004_122c_11eb_bb2c_d0577b90b17brow93_col0\" class=\"data row93 col0\" >object</td>\n                        <td id=\"T_f90c2004_122c_11eb_bb2c_d0577b90b17brow93_col1\" class=\"data row93 col1\" >¿En qué país <strong> trabajas </strong>?</td>\n                        <td id=\"T_f90c2004_122c_11eb_bb2c_d0577b90b17brow93_col2\" class=\"data row93 col2\" >0.170503</td>\n            </tr>\n            <tr>\n                        <th id=\"T_f90c2004_122c_11eb_bb2c_d0577b90b17blevel0_row94\" class=\"row_heading level0 row94\" >estado_US_trabajo</th>\n                        <td id=\"T_f90c2004_122c_11eb_bb2c_d0577b90b17brow94_col0\" class=\"data row94 col0\" >object</td>\n                        <td id=\"T_f90c2004_122c_11eb_bb2c_d0577b90b17brow94_col1\" class=\"data row94 col1\" >¿En qué estado o territorio de EE. UU. <strong> trabajas </strong>?</td>\n                        <td id=\"T_f90c2004_122c_11eb_bb2c_d0577b90b17brow94_col2\" class=\"data row94 col2\" >30.349531</td>\n            </tr>\n            <tr>\n                        <th id=\"T_f90c2004_122c_11eb_bb2c_d0577b90b17blevel0_row95\" class=\"row_heading level0 row95\" >Start Date (UTC)</th>\n                        <td id=\"T_f90c2004_122c_11eb_bb2c_d0577b90b17brow95_col0\" class=\"data row95 col0\" >object</td>\n                        <td id=\"T_f90c2004_122c_11eb_bb2c_d0577b90b17brow95_col1\" class=\"data row95 col1\" >Fecha de inicio (UTC). Incluye la hora</td>\n                        <td id=\"T_f90c2004_122c_11eb_bb2c_d0577b90b17brow95_col2\" class=\"data row95 col2\" >0.000000</td>\n            </tr>\n            <tr>\n                        <th id=\"T_f90c2004_122c_11eb_bb2c_d0577b90b17blevel0_row96\" class=\"row_heading level0 row96\" >Submit Date (UTC)</th>\n                        <td id=\"T_f90c2004_122c_11eb_bb2c_d0577b90b17brow96_col0\" class=\"data row96 col0\" >object</td>\n                        <td id=\"T_f90c2004_122c_11eb_bb2c_d0577b90b17brow96_col1\" class=\"data row96 col1\" >Fecha de envío (UTC). Incluye la hora</td>\n                        <td id=\"T_f90c2004_122c_11eb_bb2c_d0577b90b17brow96_col2\" class=\"data row96 col2\" >0.000000</td>\n            </tr>\n            <tr>\n                        <th id=\"T_f90c2004_122c_11eb_bb2c_d0577b90b17blevel0_row97\" class=\"row_heading level0 row97\" >Network ID</th>\n                        <td id=\"T_f90c2004_122c_11eb_bb2c_d0577b90b17brow97_col0\" class=\"data row97 col0\" >object</td>\n                        <td id=\"T_f90c2004_122c_11eb_bb2c_d0577b90b17brow97_col1\" class=\"data row97 col1\" >Identificación de red</td>\n                        <td id=\"T_f90c2004_122c_11eb_bb2c_d0577b90b17brow97_col2\" class=\"data row97 col2\" >0.000000</td>\n            </tr>\n    </tbody></table>"
     },
     "metadata": {},
     "execution_count": 11
    }
   ],
   "source": [
    "data_missing.style.background_gradient(cmap='Blues')"
   ]
  },
  {
   "cell_type": "code",
   "execution_count": 12,
   "metadata": {},
   "outputs": [
    {
     "output_type": "stream",
     "name": "stdout",
     "text": [
      "<class 'pandas.core.frame.DataFrame'>\nRangeIndex: 1173 entries, 0 to 1172\nData columns (total 98 columns):\n #   Column                                                      Non-Null Count  Dtype  \n---  ------                                                      --------------  -----  \n 0   #                                                           1173 non-null   object \n 1   independiente/emprendedor                                   1173 non-null   int64  \n 2   No_empleados                                                1004 non-null   object \n 3   compania_tecnologia                                         1004 non-null   float64\n 4   cargo_tecnologia                                            1004 non-null   float64\n 5   cubrimiento_EM                                              1004 non-null   object \n 6   concimiento_cubrimiento_EM                                  900 non-null    object \n 7   charla_EM                                                   1004 non-null   object \n 8   recursos_EM                                                 1004 non-null   object \n 9   anonimato_EM                                                1004 non-null   object \n 10  dejar_trabajo_EM                                            1004 non-null   object \n 11  hablar_salud_mentalYFisica                                  1004 non-null   object \n 12  hablar_jefe_EM                                              1004 non-null   object \n 13  habla_jefe_EM_flag                                          1004 non-null   float64\n 14  describir_conversacion_jefe                                 268 non-null    object \n 15  hablar_EM_companeros_flag                                   1004 non-null   object \n 16  hablar_companeros_EM                                        1003 non-null   float64\n 17  describir_conversacion_companeros                           332 non-null    object \n 18  hablar_companeros_EM_conmigo                                998 non-null    float64\n 19  describir_conversacion_companeros_conmigo                   354 non-null    object \n 20  importacia_salud_fisica                                     1004 non-null   float64\n 21  importancia_salud_mental                                    1004 non-null   float64\n 22  trabajado_otras_empresa                                     1173 non-null   int64  \n 23  empresa_anterior_tecnologia                                 1030 non-null   float64\n 24  empresa_anterior_cargo_tecnologia                           1030 non-null   object \n 25  empresa_anterior_cubrimiento_EM                             1030 non-null   object \n 26  empresa_anterior_charla_EM                                  1030 non-null   object \n 27  empresa_anterior_recursos_EM                                1030 non-null   object \n 28  empresa_anterior_anonimato                                  1030 non-null   object \n 29  empresa_anterior_hablar_salud_mentalYFisica                 1030 non-null   object \n 30  empresa_anterior_hablar_jefe_EM                             1030 non-null   object \n 31  empresa_anterior_hablar_jefe_EM_flag                        1030 non-null   float64\n 32  empresa_anterior_describir_conversacion_jefe                165 non-null    object \n 33  empresa_anterior_dispuesto_hablar_companeros_EM             1030 non-null   object \n 34  empresa_anterior_hablar_companeros_EM                       1028 non-null   float64\n 35  empresa_anterior_describir_conversacion_companeros          222 non-null    object \n 36  empresa_anterior_hablar_companeros_conmigo                  1024 non-null   float64\n 37  empresa_anterior_describir_conversacion_companeros_conmigo  205 non-null    object \n 38  empresa_anterior_importancia_salud_fisica                   1030 non-null   float64\n 39  empresa_anterior_importancia_salud_mental                   1030 non-null   float64\n 40  tiene_EM                                                    1173 non-null   object \n 41  diagnostico_EM                                              515 non-null    object \n 42  trastorno_ansiedad                                          155 non-null    object \n 43  trastorno_humor                                             136 non-null    object \n 44  trastorno_psicotico                                         0 non-null      float64\n 45  trastorno_alimentacion                                      5 non-null      object \n 46  deficit_atencion                                            42 non-null     object \n 47  trastorno_personalidad                                      21 non-null     object \n 48  trastorno_obsesivo_compulsivo                               27 non-null     object \n 49  trastorno_post_traumatico                                   27 non-null     object \n 50  sindrome_estres                                             26 non-null     object \n 51  trastorno_disasocion                                        6 non-null      object \n 52  trastorno_uso_sustancias                                    10 non-null     object \n 53  trastorno_adictivo                                          13 non-null     object \n 54  trastorno_ansiedad.1                                        327 non-null    object \n 55  trastorno_humor.1                                           377 non-null    object \n 56  trastorno_psicotico.1                                       13 non-null     object \n 57  trastorno_alimentacion.1                                    32 non-null     object \n 58  deficit_atencion.1                                          128 non-null    object \n 59  trastorno_personalidad.1                                    24 non-null     object \n 60  trastorno_obsesivo_compulsivo.1                             41 non-null     object \n 61  trastorno_post_traumatico.1                                 78 non-null     object \n 62  sindrome_estres.1                                           13 non-null     object \n 63  trastorno_disasocion.1                                      8 non-null      object \n 64  trastorno_uso_sustancias.1                                  27 non-null     object \n 65  trastorno_adictivo.1                                        18 non-null     object \n 66  Otro                                                        19 non-null     object \n 67  tratamiento_EM                                              1173 non-null   int64  \n 68  EM_familiar                                                 1173 non-null   object \n 69  EM_interfiere_trabajo_buen_tratamiento                      1173 non-null   object \n 70  EM_interfiere_trabajo_mal_tratamiento                       1173 non-null   object \n 71  miedo_hablar_EM                                             916 non-null    object \n 72  hablar_amigos_familia_EM                                    1173 non-null   int64  \n 73  entrevista_trabajo_hablar_EF                                1173 non-null   object \n 74  entrevista_trabajo_hablar_EM                                1173 non-null   object \n 75  identificado_EM_trabajo                                     1171 non-null   float64\n 76  EM_afecta_carrera                                           135 non-null    float64\n 77  EM_afectado_carrera                                         42 non-null     float64\n 78  reaccion_companeros_EM                                      1171 non-null   float64\n 79  no_apoyo_EM                                                 1171 non-null   object \n 80  describir_no_apoyo_EM                                       248 non-null    object \n 81  apoyo_EM                                                    1171 non-null   object \n 82  describir_apoyo_EM                                          0 non-null      float64\n 83  apoyo_industria_tecnologia_EM                               1171 non-null   float64\n 84  describir_apoyo_industria_tecnologia_EM                     789 non-null    object \n 85  otros_comentarios                                           281 non-null    object \n 86  dispuesto_contar_experiencia                                1171 non-null   float64\n 87  edad                                                        1171 non-null   float64\n 88  genero                                                      1157 non-null   object \n 89  pais_vivienda                                               1171 non-null   object \n 90  estado_US_vivienda                                          808 non-null    object \n 91  grupo_etnico                                                784 non-null    object \n 92  Other.1                                                     24 non-null     object \n 93  pais_trabajo                                                1171 non-null   object \n 94  estado_US_trabajo                                           817 non-null    object \n 95  Start Date (UTC)                                            1173 non-null   object \n 96  Submit Date (UTC)                                           1173 non-null   object \n 97  Network ID                                                  1173 non-null   object \ndtypes: float64(22), int64(4), object(72)\nmemory usage: 898.2+ KB\n"
     ]
    }
   ],
   "source": [
    "data_raw.info()"
   ]
  },
  {
   "source": [
    "## Remover duplicados e información no necesaria"
   ],
   "cell_type": "markdown",
   "metadata": {}
  },
  {
   "source": [
    "Verificar si hay identificadores de respuesta o identificadores de red repetidos"
   ],
   "cell_type": "markdown",
   "metadata": {}
  },
  {
   "cell_type": "code",
   "execution_count": 13,
   "metadata": {},
   "outputs": [
    {
     "output_type": "stream",
     "name": "stdout",
     "text": [
      "0\n90\n"
     ]
    }
   ],
   "source": [
    "print(data_raw[\"#\"].duplicated().sum())\n",
    "print(data_raw[\"Network ID\"].duplicated().sum())"
   ]
  },
  {
   "source": [
    "Eliminar los duplicados de las fechas de incio y envío"
   ],
   "cell_type": "markdown",
   "metadata": {}
  },
  {
   "cell_type": "code",
   "execution_count": 14,
   "metadata": {},
   "outputs": [],
   "source": [
    "data_raw.drop_duplicates(subset =\"Network ID\", keep = False, inplace = True)"
   ]
  },
  {
   "source": [
    "Verificar si hay fechas de inicio o de envío repetidas. Debido a que estas contienen la hora con el formato HH:MM:ss, no debería existir ningún registro igual a otro"
   ],
   "cell_type": "markdown",
   "metadata": {}
  },
  {
   "cell_type": "code",
   "execution_count": 15,
   "metadata": {},
   "outputs": [
    {
     "output_type": "stream",
     "name": "stdout",
     "text": [
      "1\n0\n"
     ]
    }
   ],
   "source": [
    "print(data_raw[\"Start Date (UTC)\"].duplicated().sum())\n",
    "print(data_raw[\"Submit Date (UTC)\"].duplicated().sum())"
   ]
  },
  {
   "source": [
    "Eliminar los duplicados de las fechas de incio y envío"
   ],
   "cell_type": "markdown",
   "metadata": {}
  },
  {
   "cell_type": "code",
   "execution_count": 16,
   "metadata": {},
   "outputs": [],
   "source": [
    "data_raw.drop_duplicates(subset =\"Start Date (UTC)\", keep = False, inplace = True)"
   ]
  },
  {
   "source": [
    "Eliminar la columna de identificador único de respuesta, identificador de red, las fecha de inicio y la fecha de envío"
   ],
   "cell_type": "markdown",
   "metadata": {}
  },
  {
   "cell_type": "code",
   "execution_count": 17,
   "metadata": {},
   "outputs": [],
   "source": [
    "data_raw.drop(['#','Network ID','Start Date (UTC)','Submit Date (UTC)'],axis=1,inplace=True)"
   ]
  },
  {
   "source": [
    "Verificamos que no existan duplicados luego de eliminar las columnas anteriores"
   ],
   "cell_type": "markdown",
   "metadata": {}
  },
  {
   "cell_type": "code",
   "execution_count": 18,
   "metadata": {},
   "outputs": [
    {
     "output_type": "stream",
     "name": "stdout",
     "text": [
      "Datos duplicados = 0\n"
     ]
    }
   ],
   "source": [
    "print(f\"Datos duplicados = {len(data_raw)-len(data_raw.drop_duplicates())}\")"
   ]
  },
  {
   "source": [
    "#### Información de empleados de tecnología\n",
    "La pregunta #4 es : ¿Su función principal dentro de su empresa está relacionada con la tecnología / TI? donde existen las respuestas 0 (No) y 1 (Si), dado que este analisis se enfoca unicamente en la salud mental de los empleados de la industría tecnológica, se eliminará los registros de esta columna con el valor 0 y nulos."
   ],
   "cell_type": "markdown",
   "metadata": {}
  },
  {
   "cell_type": "code",
   "execution_count": 19,
   "metadata": {},
   "outputs": [],
   "source": [
    "data_raw = data_raw[data_raw.cargo_tecnologia != 0.0]\n",
    "data_raw = data_raw[data_raw.cargo_tecnologia.notna()]"
   ]
  },
  {
   "source": [
    "Ahora, teniendo solo las personas que trabajan en cargos de tecnología, la columna cargo_tecnologia puede ser eliminada"
   ],
   "cell_type": "markdown",
   "metadata": {}
  },
  {
   "cell_type": "code",
   "execution_count": 20,
   "metadata": {},
   "outputs": [],
   "source": [
    "data_raw.drop(['cargo_tecnologia'],axis=1,inplace=True)"
   ]
  },
  {
   "source": [
    "#### Columnas de descripciones u opiniones\n",
    "Estas columnas pieden anecdotas o descripciones de los casos y momentos vividos, para analizarlas se requiere hacer minería de texto, la cual no corresponde al caso. Por este motivo estas columnas son eliminadas."
   ],
   "cell_type": "markdown",
   "metadata": {}
  },
  {
   "cell_type": "code",
   "execution_count": 21,
   "metadata": {},
   "outputs": [],
   "source": [
    "data_raw.drop(['describir_conversacion_jefe','describir_conversacion_companeros','describir_conversacion_companeros_conmigo','empresa_anterior_describir_conversacion_jefe','empresa_anterior_describir_conversacion_companeros','empresa_anterior_describir_conversacion_companeros_conmigo','describir_no_apoyo_EM','describir_apoyo_industria_tecnologia_EM','otros_comentarios','describir_apoyo_EM','EM_afectado_carrera'],axis=1,inplace=True)"
   ]
  },
  {
   "source": [
    "### Columnas duplicadas "
   ],
   "cell_type": "markdown",
   "metadata": {}
  },
  {
   "source": [
    "Las respuestas a trastornos se almacenan en las columnas \"trastorno_\"+nombre del trastorno o sindrome, en el dataset se encuentran dos columnas llamadas iguales (ejemplo: \"trastorno_personalidad\" y \"trastorno_personalidad.1\" contienen los mismo valores). Por esto, las columnas cuyos nombres finalizan en \".1\"\n",
    "\n",
    "Lo mismo ocurre en las preguntas: \"¿Ser identificado como una persona con un problema de salud mental ha afectado su carrera?\" y \"¿Cómo ha afectado a tu carrera?\" las cualés recolectan la misma información y por tanto, una de ellas debe ser eliminada."
   ],
   "cell_type": "markdown",
   "metadata": {}
  },
  {
   "cell_type": "code",
   "execution_count": 22,
   "metadata": {},
   "outputs": [],
   "source": [
    "data_raw.drop(['trastorno_psicotico.1','trastorno_alimentacion.1','deficit_atencion.1','trastorno_personalidad.1','trastorno_obsesivo_compulsivo.1','trastorno_post_traumatico.1','sindrome_estres.1','trastorno_disasocion.1','trastorno_uso_sustancias.1','trastorno_adictivo.1','trastorno_ansiedad.1','trastorno_humor.1','Otro','Other.1'],axis=1,inplace=True)"
   ]
  },
  {
   "source": [
    "Nuevamente, se revisa que no quedne valores duplicados"
   ],
   "cell_type": "markdown",
   "metadata": {}
  },
  {
   "cell_type": "code",
   "execution_count": 23,
   "metadata": {},
   "outputs": [
    {
     "output_type": "stream",
     "name": "stdout",
     "text": [
      "Datos duplicados = 0\n"
     ]
    }
   ],
   "source": [
    "print(f\"Datos duplicados = {len(data_raw)-len(data_raw.drop_duplicates())}\")"
   ]
  },
  {
   "source": [
    "## Valores faltantes/vacíos/nulos"
   ],
   "cell_type": "markdown",
   "metadata": {}
  },
  {
   "cell_type": "code",
   "execution_count": 24,
   "metadata": {},
   "outputs": [
    {
     "output_type": "execute_result",
     "data": {
      "text/plain": [
       "                                                675   \\\n",
       "independiente/emprendedor                          0   \n",
       "No_empleados                                  26-100   \n",
       "compania_tecnologia                                1   \n",
       "cubrimiento_EM                          I don't know   \n",
       "concimiento_cubrimiento_EM                        No   \n",
       "...                                              ...   \n",
       "pais_vivienda               United States of America   \n",
       "estado_US_vivienda                         Minnesota   \n",
       "grupo_etnico                                   White   \n",
       "pais_trabajo                United States of America   \n",
       "estado_US_trabajo                          Minnesota   \n",
       "\n",
       "                                                278   \\\n",
       "independiente/emprendedor                          0   \n",
       "No_empleados                                 100-500   \n",
       "compania_tecnologia                                1   \n",
       "cubrimiento_EM                          I don't know   \n",
       "concimiento_cubrimiento_EM                        No   \n",
       "...                                              ...   \n",
       "pais_vivienda               United States of America   \n",
       "estado_US_vivienda                              Ohio   \n",
       "grupo_etnico                                   White   \n",
       "pais_trabajo                United States of America   \n",
       "estado_US_trabajo                               Ohio   \n",
       "\n",
       "                                                42    \\\n",
       "independiente/emprendedor                          0   \n",
       "No_empleados                                500-1000   \n",
       "compania_tecnologia                                1   \n",
       "cubrimiento_EM                                   Yes   \n",
       "concimiento_cubrimiento_EM                       Yes   \n",
       "...                                              ...   \n",
       "pais_vivienda               United States of America   \n",
       "estado_US_vivienda                          Colorado   \n",
       "grupo_etnico                                   White   \n",
       "pais_trabajo                United States of America   \n",
       "estado_US_trabajo                           Colorado   \n",
       "\n",
       "                                                529   \\\n",
       "independiente/emprendedor                          0   \n",
       "No_empleados                                500-1000   \n",
       "compania_tecnologia                                1   \n",
       "cubrimiento_EM                          I don't know   \n",
       "concimiento_cubrimiento_EM                        No   \n",
       "...                                              ...   \n",
       "pais_vivienda               United States of America   \n",
       "estado_US_vivienda                     Massachusetts   \n",
       "grupo_etnico                                   White   \n",
       "pais_trabajo                United States of America   \n",
       "estado_US_trabajo                      Massachusetts   \n",
       "\n",
       "                                                908   \\\n",
       "independiente/emprendedor                          0   \n",
       "No_empleados                          More than 1000   \n",
       "compania_tecnologia                                1   \n",
       "cubrimiento_EM                                   Yes   \n",
       "concimiento_cubrimiento_EM                       Yes   \n",
       "...                                              ...   \n",
       "pais_vivienda               United States of America   \n",
       "estado_US_vivienda                        California   \n",
       "grupo_etnico                                   White   \n",
       "pais_trabajo                United States of America   \n",
       "estado_US_trabajo                         California   \n",
       "\n",
       "                                                1048          451   \\\n",
       "independiente/emprendedor                          0             0   \n",
       "No_empleados                          More than 1000       100-500   \n",
       "compania_tecnologia                                1             1   \n",
       "cubrimiento_EM                                   Yes  I don't know   \n",
       "concimiento_cubrimiento_EM                       Yes            No   \n",
       "...                                              ...           ...   \n",
       "pais_vivienda               United States of America        Canada   \n",
       "estado_US_vivienda                          Michigan           NaN   \n",
       "grupo_etnico                                   White           NaN   \n",
       "pais_trabajo                United States of America        Canada   \n",
       "estado_US_trabajo                           Michigan           NaN   \n",
       "\n",
       "                                                      350        344   \\\n",
       "independiente/emprendedor                                0          0   \n",
       "No_empleados                                           1-5       6-25   \n",
       "compania_tecnologia                                      1          1   \n",
       "cubrimiento_EM              Not eligible for coverage / NA         No   \n",
       "concimiento_cubrimiento_EM                             NaN         No   \n",
       "...                                                    ...        ...   \n",
       "pais_vivienda                               United Kingdom  Australia   \n",
       "estado_US_vivienda                                     NaN        NaN   \n",
       "grupo_etnico                                           NaN        NaN   \n",
       "pais_trabajo                                United Kingdom  Australia   \n",
       "estado_US_trabajo                                      NaN        NaN   \n",
       "\n",
       "                                                720   \n",
       "independiente/emprendedor                          0  \n",
       "No_empleados                                    6-25  \n",
       "compania_tecnologia                                1  \n",
       "cubrimiento_EM                                   Yes  \n",
       "concimiento_cubrimiento_EM                       Yes  \n",
       "...                                              ...  \n",
       "pais_vivienda               United States of America  \n",
       "estado_US_vivienda                          Nebraska  \n",
       "grupo_etnico                                   White  \n",
       "pais_trabajo                United States of America  \n",
       "estado_US_trabajo                           Nebraska  \n",
       "\n",
       "[68 rows x 10 columns]"
      ],
      "text/html": "<div>\n<style scoped>\n    .dataframe tbody tr th:only-of-type {\n        vertical-align: middle;\n    }\n\n    .dataframe tbody tr th {\n        vertical-align: top;\n    }\n\n    .dataframe thead th {\n        text-align: right;\n    }\n</style>\n<table border=\"1\" class=\"dataframe\">\n  <thead>\n    <tr style=\"text-align: right;\">\n      <th></th>\n      <th>675</th>\n      <th>278</th>\n      <th>42</th>\n      <th>529</th>\n      <th>908</th>\n      <th>1048</th>\n      <th>451</th>\n      <th>350</th>\n      <th>344</th>\n      <th>720</th>\n    </tr>\n  </thead>\n  <tbody>\n    <tr>\n      <th>independiente/emprendedor</th>\n      <td>0</td>\n      <td>0</td>\n      <td>0</td>\n      <td>0</td>\n      <td>0</td>\n      <td>0</td>\n      <td>0</td>\n      <td>0</td>\n      <td>0</td>\n      <td>0</td>\n    </tr>\n    <tr>\n      <th>No_empleados</th>\n      <td>26-100</td>\n      <td>100-500</td>\n      <td>500-1000</td>\n      <td>500-1000</td>\n      <td>More than 1000</td>\n      <td>More than 1000</td>\n      <td>100-500</td>\n      <td>1-5</td>\n      <td>6-25</td>\n      <td>6-25</td>\n    </tr>\n    <tr>\n      <th>compania_tecnologia</th>\n      <td>1</td>\n      <td>1</td>\n      <td>1</td>\n      <td>1</td>\n      <td>1</td>\n      <td>1</td>\n      <td>1</td>\n      <td>1</td>\n      <td>1</td>\n      <td>1</td>\n    </tr>\n    <tr>\n      <th>cubrimiento_EM</th>\n      <td>I don't know</td>\n      <td>I don't know</td>\n      <td>Yes</td>\n      <td>I don't know</td>\n      <td>Yes</td>\n      <td>Yes</td>\n      <td>I don't know</td>\n      <td>Not eligible for coverage / NA</td>\n      <td>No</td>\n      <td>Yes</td>\n    </tr>\n    <tr>\n      <th>concimiento_cubrimiento_EM</th>\n      <td>No</td>\n      <td>No</td>\n      <td>Yes</td>\n      <td>No</td>\n      <td>Yes</td>\n      <td>Yes</td>\n      <td>No</td>\n      <td>NaN</td>\n      <td>No</td>\n      <td>Yes</td>\n    </tr>\n    <tr>\n      <th>...</th>\n      <td>...</td>\n      <td>...</td>\n      <td>...</td>\n      <td>...</td>\n      <td>...</td>\n      <td>...</td>\n      <td>...</td>\n      <td>...</td>\n      <td>...</td>\n      <td>...</td>\n    </tr>\n    <tr>\n      <th>pais_vivienda</th>\n      <td>United States of America</td>\n      <td>United States of America</td>\n      <td>United States of America</td>\n      <td>United States of America</td>\n      <td>United States of America</td>\n      <td>United States of America</td>\n      <td>Canada</td>\n      <td>United Kingdom</td>\n      <td>Australia</td>\n      <td>United States of America</td>\n    </tr>\n    <tr>\n      <th>estado_US_vivienda</th>\n      <td>Minnesota</td>\n      <td>Ohio</td>\n      <td>Colorado</td>\n      <td>Massachusetts</td>\n      <td>California</td>\n      <td>Michigan</td>\n      <td>NaN</td>\n      <td>NaN</td>\n      <td>NaN</td>\n      <td>Nebraska</td>\n    </tr>\n    <tr>\n      <th>grupo_etnico</th>\n      <td>White</td>\n      <td>White</td>\n      <td>White</td>\n      <td>White</td>\n      <td>White</td>\n      <td>White</td>\n      <td>NaN</td>\n      <td>NaN</td>\n      <td>NaN</td>\n      <td>White</td>\n    </tr>\n    <tr>\n      <th>pais_trabajo</th>\n      <td>United States of America</td>\n      <td>United States of America</td>\n      <td>United States of America</td>\n      <td>United States of America</td>\n      <td>United States of America</td>\n      <td>United States of America</td>\n      <td>Canada</td>\n      <td>United Kingdom</td>\n      <td>Australia</td>\n      <td>United States of America</td>\n    </tr>\n    <tr>\n      <th>estado_US_trabajo</th>\n      <td>Minnesota</td>\n      <td>Ohio</td>\n      <td>Colorado</td>\n      <td>Massachusetts</td>\n      <td>California</td>\n      <td>Michigan</td>\n      <td>NaN</td>\n      <td>NaN</td>\n      <td>NaN</td>\n      <td>Nebraska</td>\n    </tr>\n  </tbody>\n</table>\n<p>68 rows × 10 columns</p>\n</div>"
     },
     "metadata": {},
     "execution_count": 24
    }
   ],
   "source": [
    "data_raw.sample(10).T"
   ]
  },
  {
   "cell_type": "code",
   "execution_count": 25,
   "metadata": {},
   "outputs": [
    {
     "output_type": "stream",
     "name": "stdout",
     "text": [
      "independiente/emprendedor = [0]\nNo_empleados = ['6-25' 'More than 1000' '26-100' '100-500' '1-5' '500-1000']\ncompania_tecnologia = [1. 0.]\ncubrimiento_EM = [\"I don't know\" 'Yes' 'No' 'Not eligible for coverage / NA']\nconcimiento_cubrimiento_EM = ['No' 'Yes' nan]\ncharla_EM = [\"I don't know\" 'No' 'Yes']\nrecursos_EM = ['No' \"I don't know\" 'Yes']\nanonimato_EM = ['Yes' \"I don't know\" 'No']\ndejar_trabajo_EM = ['Difficult' 'Very easy' 'Somewhat easy' \"I don't know\"\n 'Neither easy nor difficult' 'Somewhat difficult']\nhablar_salud_mentalYFisica = ['Same level of comfort for each' 'Physical health' 'Mental health']\nhablar_jefe_EM = ['Yes' 'Maybe' 'No']\nhabla_jefe_EM_flag = [1. 0.]\nhablar_EM_companeros_flag = ['Maybe' 'Yes' 'No']\nhablar_companeros_EM = [1. 0.]\nhablar_companeros_EM_conmigo = [ 0.  1. nan]\nimportacia_salud_fisica = [ 0.  7. 10.  9.  1.  5.  3.  8.  4.  2.  6.]\nimportancia_salud_mental = [ 1.  5. 10.  8.  7.  0.  3.  2.  9.  6.  4.]\ntrabajado_otras_empresa = [1 0]\nempresa_anterior_tecnologia = [ 1. nan  0.]\nempresa_anterior_cargo_tecnologia = ['Some did' nan 'No, none did' \"I don't know\" 'Yes, they all did']\nempresa_anterior_cubrimiento_EM = ['N/A (was not aware)' nan 'I was aware of some' 'N/A (none offered)'\n 'Yes, I was aware of all of them' 'No, I only became aware later']\nempresa_anterior_charla_EM = ['None did' nan 'Some did' \"I don't know\" 'Yes, they all did']\nempresa_anterior_recursos_EM = ['None did' nan 'Some did' 'Yes, they all did']\nempresa_anterior_anonimato = [\"I don't know\" nan 'Yes, always' 'Sometimes' 'No']\nempresa_anterior_hablar_salud_mentalYFisica = ['Physical health' nan 'Same level of comfort for each' 'Mental health']\nempresa_anterior_hablar_jefe_EM = ['No, none of my previous supervisors' nan\n 'Some of my previous supervisors' 'Yes, all of my previous supervisors'\n \"I don't know\"]\nempresa_anterior_hablar_jefe_EM_flag = [ 0. nan  1.]\nempresa_anterior_dispuesto_hablar_companeros_EM = ['At some of my previous employers' nan\n 'No, at none of my previous employers'\n 'Yes, at all of my previous employers' 'Some of my previous employers']\nempresa_anterior_hablar_companeros_EM = [ 1. nan  0.]\nempresa_anterior_hablar_companeros_conmigo = [ 0. nan  1.]\nempresa_anterior_importancia_salud_fisica = [ 8. nan 10.  5.  9.  7.  1.  2.  3.  4.  6.  0.]\nempresa_anterior_importancia_salud_mental = [ 0. nan 10.  5.  6.  1.  2.  8.  4.  3.  7.  9.]\ntiene_EM = ['Yes' 'No' \"Don't Know\" 'Possibly']\ndiagnostico_EM = ['Yes' nan 'No']\ntrastorno_ansiedad = [nan 'Anxiety Disorder (Generalized, Social, Phobia, etc)']\ntrastorno_humor = [nan 'Mood Disorder (Depression, Bipolar Disorder, etc)']\ntrastorno_psicotico = [nan]\ntrastorno_alimentacion = [nan 'Eating Disorder (Anorexia, Bulimia, etc)']\ndeficit_atencion = [nan 'Attention Deficit Hyperactivity Disorder']\ntrastorno_personalidad = [nan 'Personality Disorder (Borderline, Antisocial, Paranoid, etc)']\ntrastorno_obsesivo_compulsivo = [nan 'Obsessive-Compulsive Disorder']\ntrastorno_post_traumatico = [nan 'Post-traumatic Stress Disorder']\nsindrome_estres = [nan 'Stress Response Syndromes']\ntrastorno_disasocion = [nan 'Dissociative Disorder']\ntrastorno_uso_sustancias = [nan 'Substance Use Disorder']\ntrastorno_adictivo = [nan 'Addictive Disorder']\ntratamiento_EM = [1 0]\nEM_familiar = ['Yes' \"I don't know\" 'No']\nEM_interfiere_trabajo_buen_tratamiento = ['Sometimes' 'Rarely' 'Not applicable to me' 'Often' 'Never']\nEM_interfiere_trabajo_mal_tratamiento = ['Sometimes' 'Often' 'Not applicable to me' 'Rarely' 'Never']\nmiedo_hablar_EM = ['Yes' 'No' 'Maybe' nan]\nhablar_amigos_familia_EM = [ 5 10  8  3  6  2  9  7  4  1  0]\nentrevista_trabajo_hablar_EF = ['Maybe' 'No' 'Yes']\nentrevista_trabajo_hablar_EM = ['No' 'Yes' 'Maybe']\nidentificado_EM_trabajo = [1. 0.]\nEM_afecta_carrera = [ 1. nan  0.]\nreaccion_companeros_EM = [ 5.  7.  2.  0.  6.  8.  4.  3. 10.  9.  1.]\nno_apoyo_EM = ['Yes, I experienced' 'Maybe/Not sure' 'No' 'Yes, I observed']\napoyo_EM = ['Yes, I experienced' 'Maybe/Not sure' 'Yes, I observed' 'No'\n \"I've always been self-employed\"]\napoyo_industria_tecnologia_EM = [1. 2. 4. 3. 5.]\ndispuesto_contar_experiencia = [1. 0.]\nedad = [36. 22. 38. 35. 40. 23. 28. 21. 37. 25. 33. 66. 31. 32. 30. 46. 34. 39.\n 42. 27. 47. 64. 26. 45. 44. 50. 24. 52. 43. 54. 48. 29. 49. 20. 62. 51.\n 60. 41. 53. 59. 57. 58. 56. 55. 19. 61. 65.]\ngenero = ['male' 'Male' 'F' 'Female' 'M' 'female' 'Man' 'f' 'Genderfluid' 'Female '\n 'cis-male' 'Mail' 'Woman' nan 'cis hetero male' 'm' 'femalw' 'femail'\n 'Male (cis)' 'uhhhhhhhhh fem genderqueer?' 'female (cis)'\n 'God King of the Valajar' 'Cis male' 'man' 'My sex is female.'\n 'Non-binary' 'cis male ' 'Agender/genderfluid' 'Male-ish' 'Male ' 'woman'\n 'sometimes' 'female (cisgender)' 'Female (cis) ' 'Contextual'\n 'Non binary' 'Genderqueer demigirl' 'Genderqueer/non-binary' 'cis-Female'\n 'Nonbinary' 'cis female' 'nonbinary' 'F, cisgender' '\\\\-' 'Transfeminine'\n 'None' 'dude' 'Agender' 'male, born with xy chromosoms'\n 'I identify as female' '*shrug emoji* (F)' 'Trans man' 'transgender'\n 'cis male' 'non binary' 'Female/gender non-binary.' 'Cis woman'\n 'Female (cisgender)' 'Cisgendered woman' 'Trans woman' 'genderfluid'\n 'Genderqueer' 'Demiguy' 'none' 'Trans female' 'non-binary'\n 'She/her/they/them' 'Other' 'Cis female ' 'SWM' 'cisgender female' 'NB'\n 'Nonbinary/femme' 'gender non-conforming woman']\npais_vivienda = ['United States of America' 'Switzerland' 'Russia' 'Bangladesh' 'Germany'\n 'United Kingdom' 'Canada' 'Israel' 'Iceland' 'Japan' 'Indonesia' 'India'\n 'Portugal' 'Czech Republic' 'Romania' 'Finland' 'Australia'\n 'South Africa' 'Sweden' 'Spain' 'Hungary' 'Croatia' 'Bulgaria' 'Italy'\n 'Argentina' 'Greece' 'France' 'Mexico' 'Netherlands' 'Ukraine' 'Ireland'\n 'New Zealand' 'Poland' 'Belgium' 'Singapore' 'Slovakia' 'Austria'\n 'Turkey' 'Norway' 'Serbia' 'Colombia' 'Estonia' 'Brazil' 'Mauritius'\n 'Saudi Arabia' 'Nigeria' 'Ethiopia' 'Macedonia' 'Hong Kong']\nestado_US_vivienda = ['Missouri' 'Washington' 'Georgia' nan 'Pennsylvania' 'Tennessee'\n 'Louisiana' 'Ohio' 'Oregon' 'California' 'Minnesota' 'Kansas' 'Colorado'\n 'Virginia' 'Illinois' 'Wisconsin' 'Maryland' 'Montana' 'Utah' 'New York'\n 'Texas' 'New Mexico' 'North Carolina' 'Arizona' 'District of Columbia'\n 'Massachusetts' 'Idaho' 'New Jersey' 'Alabama' 'Alaska' 'Michigan'\n 'North Dakota' 'Indiana' 'Iowa' 'South Dakota' 'Kentucky' 'Nevada'\n 'Florida' 'New Hampshire' 'Maine' 'Nebraska' 'Connecticut'\n 'South Carolina' 'Rhode Island']\ngrupo_etnico = ['White' 'Asian' nan 'Black or African American'\n 'More than one of the above' 'I prefer not to answer'\n 'American Indian or Alaska Native']\npais_trabajo = ['United States of America' 'Switzerland' 'Russia' 'Bangladesh' 'Germany'\n 'United Kingdom' 'Canada' 'Israel' 'Iceland' 'Japan' 'Indonesia' 'India'\n 'Portugal' 'Romania' 'Finland' 'Australia' 'South Africa' 'Sweden'\n 'Spain' 'Hungary' 'Croatia' 'Bulgaria' 'Italy' 'Argentina' 'Austria'\n 'Netherlands' 'France' 'Mexico' 'Swaziland' 'Ukraine' 'Ireland'\n 'New Zealand' 'Poland' 'Belgium' 'Singapore' 'Slovakia' 'Luxembourg'\n 'Turkey' 'Norway' 'Serbia' 'Colombia' 'Estonia' 'Brazil' 'Mauritius'\n 'Saudi Arabia' 'Nigeria' 'Ethiopia' 'Macedonia' 'Hong Kong']\nestado_US_trabajo = ['Missouri' 'Washington' 'Georgia' nan 'Pennsylvania' 'Tennessee' 'Ohio'\n 'Kentucky' 'District of Columbia' 'California' 'Minnesota' 'Kansas'\n 'Colorado' 'Virginia' 'Illinois' 'Wisconsin' 'Maryland' 'Montana'\n 'Oregon' 'New York' 'Texas' 'New Mexico' 'North Carolina' 'Arizona'\n 'Utah' 'Massachusetts' 'Idaho' 'New Jersey' 'Alabama' 'Alaska' 'Michigan'\n 'North Dakota' 'Indiana' 'Iowa' 'South Dakota' 'Nevada' 'Mississippi'\n 'Florida' 'New Hampshire' 'Maine' 'Nebraska' 'Connecticut' 'Louisiana'\n 'South Carolina' 'Rhode Island']\n"
     ]
    }
   ],
   "source": [
    "for col in data_raw:\n",
    "    print(f\"{col} = {data_raw[col].unique()}\")"
   ]
  },
  {
   "source": [
    "Puede evidenciarse que los alures nulos se identifican como NaN/nan, simplemente están vacíos. Por otro lado, en las columnas `cubrimiento_EM` y `empresa_anterior_cubrimiento_EM` existen respuestas como N/A:\n",
    "\n",
    "- cubrimiento_EM : Not eligible for coverage / NA\n",
    "- empresa_anterior_cubrimiento_EM: N/A (was not aware), N/A (none offered)\n",
    "\n",
    "Sin embargo, estos valores no representan valores desconocidos o nulos, porque son especificados en los parentesis"
   ],
   "cell_type": "markdown",
   "metadata": {}
  },
  {
   "source": [
    "### Retirando valores nulos\n",
    "Se imprimen el procentaje de datos nulos o faltantes por columna, utilizando un mapa de calor, donde los colores oscuros representan las columnas con mayores porcentajes de valores faltantes o nulos"
   ],
   "cell_type": "markdown",
   "metadata": {}
  },
  {
   "cell_type": "code",
   "execution_count": 26,
   "metadata": {},
   "outputs": [
    {
     "output_type": "execute_result",
     "data": {
      "text/plain": [
       "<pandas.io.formats.style.Styler at 0x2500f70e370>"
      ],
      "text/html": "<style  type=\"text/css\" >\n#T_f962a4c3_122c_11eb_9825_d0577b90b17brow0_col1,#T_f962a4c3_122c_11eb_9825_d0577b90b17brow1_col1,#T_f962a4c3_122c_11eb_9825_d0577b90b17brow2_col1,#T_f962a4c3_122c_11eb_9825_d0577b90b17brow3_col1,#T_f962a4c3_122c_11eb_9825_d0577b90b17brow5_col1,#T_f962a4c3_122c_11eb_9825_d0577b90b17brow6_col1,#T_f962a4c3_122c_11eb_9825_d0577b90b17brow7_col1,#T_f962a4c3_122c_11eb_9825_d0577b90b17brow8_col1,#T_f962a4c3_122c_11eb_9825_d0577b90b17brow9_col1,#T_f962a4c3_122c_11eb_9825_d0577b90b17brow10_col1,#T_f962a4c3_122c_11eb_9825_d0577b90b17brow11_col1,#T_f962a4c3_122c_11eb_9825_d0577b90b17brow12_col1,#T_f962a4c3_122c_11eb_9825_d0577b90b17brow13_col1,#T_f962a4c3_122c_11eb_9825_d0577b90b17brow14_col1,#T_f962a4c3_122c_11eb_9825_d0577b90b17brow15_col1,#T_f962a4c3_122c_11eb_9825_d0577b90b17brow16_col1,#T_f962a4c3_122c_11eb_9825_d0577b90b17brow17_col1,#T_f962a4c3_122c_11eb_9825_d0577b90b17brow32_col1,#T_f962a4c3_122c_11eb_9825_d0577b90b17brow46_col1,#T_f962a4c3_122c_11eb_9825_d0577b90b17brow47_col1,#T_f962a4c3_122c_11eb_9825_d0577b90b17brow48_col1,#T_f962a4c3_122c_11eb_9825_d0577b90b17brow49_col1,#T_f962a4c3_122c_11eb_9825_d0577b90b17brow51_col1,#T_f962a4c3_122c_11eb_9825_d0577b90b17brow52_col1,#T_f962a4c3_122c_11eb_9825_d0577b90b17brow53_col1,#T_f962a4c3_122c_11eb_9825_d0577b90b17brow54_col1,#T_f962a4c3_122c_11eb_9825_d0577b90b17brow56_col1,#T_f962a4c3_122c_11eb_9825_d0577b90b17brow57_col1,#T_f962a4c3_122c_11eb_9825_d0577b90b17brow58_col1,#T_f962a4c3_122c_11eb_9825_d0577b90b17brow59_col1,#T_f962a4c3_122c_11eb_9825_d0577b90b17brow60_col1,#T_f962a4c3_122c_11eb_9825_d0577b90b17brow61_col1,#T_f962a4c3_122c_11eb_9825_d0577b90b17brow63_col1,#T_f962a4c3_122c_11eb_9825_d0577b90b17brow66_col1{\n            background-color:  #fff5f0;\n            color:  #000000;\n        }#T_f962a4c3_122c_11eb_9825_d0577b90b17brow4_col1{\n            background-color:  #fee4d8;\n            color:  #000000;\n        }#T_f962a4c3_122c_11eb_9825_d0577b90b17brow18_col1,#T_f962a4c3_122c_11eb_9825_d0577b90b17brow19_col1,#T_f962a4c3_122c_11eb_9825_d0577b90b17brow20_col1,#T_f962a4c3_122c_11eb_9825_d0577b90b17brow21_col1,#T_f962a4c3_122c_11eb_9825_d0577b90b17brow22_col1,#T_f962a4c3_122c_11eb_9825_d0577b90b17brow23_col1,#T_f962a4c3_122c_11eb_9825_d0577b90b17brow24_col1,#T_f962a4c3_122c_11eb_9825_d0577b90b17brow25_col1,#T_f962a4c3_122c_11eb_9825_d0577b90b17brow26_col1,#T_f962a4c3_122c_11eb_9825_d0577b90b17brow27_col1,#T_f962a4c3_122c_11eb_9825_d0577b90b17brow28_col1,#T_f962a4c3_122c_11eb_9825_d0577b90b17brow30_col1,#T_f962a4c3_122c_11eb_9825_d0577b90b17brow31_col1{\n            background-color:  #fedecf;\n            color:  #000000;\n        }#T_f962a4c3_122c_11eb_9825_d0577b90b17brow29_col1{\n            background-color:  #fedccd;\n            color:  #000000;\n        }#T_f962a4c3_122c_11eb_9825_d0577b90b17brow33_col1{\n            background-color:  #f6553c;\n            color:  #000000;\n        }#T_f962a4c3_122c_11eb_9825_d0577b90b17brow34_col1{\n            background-color:  #a81016;\n            color:  #f1f1f1;\n        }#T_f962a4c3_122c_11eb_9825_d0577b90b17brow35_col1,#T_f962a4c3_122c_11eb_9825_d0577b90b17brow55_col1{\n            background-color:  #9f0e14;\n            color:  #f1f1f1;\n        }#T_f962a4c3_122c_11eb_9825_d0577b90b17brow36_col1{\n            background-color:  #67000d;\n            color:  #f1f1f1;\n        }#T_f962a4c3_122c_11eb_9825_d0577b90b17brow37_col1,#T_f962a4c3_122c_11eb_9825_d0577b90b17brow43_col1{\n            background-color:  #69000d;\n            color:  #f1f1f1;\n        }#T_f962a4c3_122c_11eb_9825_d0577b90b17brow38_col1{\n            background-color:  #79040f;\n            color:  #f1f1f1;\n        }#T_f962a4c3_122c_11eb_9825_d0577b90b17brow39_col1,#T_f962a4c3_122c_11eb_9825_d0577b90b17brow42_col1{\n            background-color:  #71020e;\n            color:  #f1f1f1;\n        }#T_f962a4c3_122c_11eb_9825_d0577b90b17brow40_col1{\n            background-color:  #73030f;\n            color:  #f1f1f1;\n        }#T_f962a4c3_122c_11eb_9825_d0577b90b17brow41_col1{\n            background-color:  #75030f;\n            color:  #f1f1f1;\n        }#T_f962a4c3_122c_11eb_9825_d0577b90b17brow44_col1,#T_f962a4c3_122c_11eb_9825_d0577b90b17brow45_col1{\n            background-color:  #6b010e;\n            color:  #f1f1f1;\n        }#T_f962a4c3_122c_11eb_9825_d0577b90b17brow50_col1{\n            background-color:  #fcc4ad;\n            color:  #000000;\n        }#T_f962a4c3_122c_11eb_9825_d0577b90b17brow62_col1{\n            background-color:  #fff4ef;\n            color:  #000000;\n        }#T_f962a4c3_122c_11eb_9825_d0577b90b17brow64_col1{\n            background-color:  #fcad90;\n            color:  #000000;\n        }#T_f962a4c3_122c_11eb_9825_d0577b90b17brow65_col1{\n            background-color:  #fca689;\n            color:  #000000;\n        }#T_f962a4c3_122c_11eb_9825_d0577b90b17brow67_col1{\n            background-color:  #fcae92;\n            color:  #000000;\n        }</style><table id=\"T_f962a4c3_122c_11eb_9825_d0577b90b17b\" ><thead>    <tr>        <th class=\"blank level0\" ></th>        <th class=\"col_heading level0 col0\" >tipo</th>        <th class=\"col_heading level0 col1\" >% vacios</th>    </tr></thead><tbody>\n                <tr>\n                        <th id=\"T_f962a4c3_122c_11eb_9825_d0577b90b17blevel0_row0\" class=\"row_heading level0 row0\" >independiente/emprendedor</th>\n                        <td id=\"T_f962a4c3_122c_11eb_9825_d0577b90b17brow0_col0\" class=\"data row0 col0\" >int64</td>\n                        <td id=\"T_f962a4c3_122c_11eb_9825_d0577b90b17brow0_col1\" class=\"data row0 col1\" >0.000000</td>\n            </tr>\n            <tr>\n                        <th id=\"T_f962a4c3_122c_11eb_9825_d0577b90b17blevel0_row1\" class=\"row_heading level0 row1\" >No_empleados</th>\n                        <td id=\"T_f962a4c3_122c_11eb_9825_d0577b90b17brow1_col0\" class=\"data row1 col0\" >object</td>\n                        <td id=\"T_f962a4c3_122c_11eb_9825_d0577b90b17brow1_col1\" class=\"data row1 col1\" >0.000000</td>\n            </tr>\n            <tr>\n                        <th id=\"T_f962a4c3_122c_11eb_9825_d0577b90b17blevel0_row2\" class=\"row_heading level0 row2\" >compania_tecnologia</th>\n                        <td id=\"T_f962a4c3_122c_11eb_9825_d0577b90b17brow2_col0\" class=\"data row2 col0\" >float64</td>\n                        <td id=\"T_f962a4c3_122c_11eb_9825_d0577b90b17brow2_col1\" class=\"data row2 col1\" >0.000000</td>\n            </tr>\n            <tr>\n                        <th id=\"T_f962a4c3_122c_11eb_9825_d0577b90b17blevel0_row3\" class=\"row_heading level0 row3\" >cubrimiento_EM</th>\n                        <td id=\"T_f962a4c3_122c_11eb_9825_d0577b90b17brow3_col0\" class=\"data row3 col0\" >object</td>\n                        <td id=\"T_f962a4c3_122c_11eb_9825_d0577b90b17brow3_col1\" class=\"data row3 col1\" >0.000000</td>\n            </tr>\n            <tr>\n                        <th id=\"T_f962a4c3_122c_11eb_9825_d0577b90b17blevel0_row4\" class=\"row_heading level0 row4\" >concimiento_cubrimiento_EM</th>\n                        <td id=\"T_f962a4c3_122c_11eb_9825_d0577b90b17brow4_col0\" class=\"data row4 col0\" >object</td>\n                        <td id=\"T_f962a4c3_122c_11eb_9825_d0577b90b17brow4_col1\" class=\"data row4 col1\" >7.502131</td>\n            </tr>\n            <tr>\n                        <th id=\"T_f962a4c3_122c_11eb_9825_d0577b90b17blevel0_row5\" class=\"row_heading level0 row5\" >charla_EM</th>\n                        <td id=\"T_f962a4c3_122c_11eb_9825_d0577b90b17brow5_col0\" class=\"data row5 col0\" >object</td>\n                        <td id=\"T_f962a4c3_122c_11eb_9825_d0577b90b17brow5_col1\" class=\"data row5 col1\" >0.000000</td>\n            </tr>\n            <tr>\n                        <th id=\"T_f962a4c3_122c_11eb_9825_d0577b90b17blevel0_row6\" class=\"row_heading level0 row6\" >recursos_EM</th>\n                        <td id=\"T_f962a4c3_122c_11eb_9825_d0577b90b17brow6_col0\" class=\"data row6 col0\" >object</td>\n                        <td id=\"T_f962a4c3_122c_11eb_9825_d0577b90b17brow6_col1\" class=\"data row6 col1\" >0.000000</td>\n            </tr>\n            <tr>\n                        <th id=\"T_f962a4c3_122c_11eb_9825_d0577b90b17blevel0_row7\" class=\"row_heading level0 row7\" >anonimato_EM</th>\n                        <td id=\"T_f962a4c3_122c_11eb_9825_d0577b90b17brow7_col0\" class=\"data row7 col0\" >object</td>\n                        <td id=\"T_f962a4c3_122c_11eb_9825_d0577b90b17brow7_col1\" class=\"data row7 col1\" >0.000000</td>\n            </tr>\n            <tr>\n                        <th id=\"T_f962a4c3_122c_11eb_9825_d0577b90b17blevel0_row8\" class=\"row_heading level0 row8\" >dejar_trabajo_EM</th>\n                        <td id=\"T_f962a4c3_122c_11eb_9825_d0577b90b17brow8_col0\" class=\"data row8 col0\" >object</td>\n                        <td id=\"T_f962a4c3_122c_11eb_9825_d0577b90b17brow8_col1\" class=\"data row8 col1\" >0.000000</td>\n            </tr>\n            <tr>\n                        <th id=\"T_f962a4c3_122c_11eb_9825_d0577b90b17blevel0_row9\" class=\"row_heading level0 row9\" >hablar_salud_mentalYFisica</th>\n                        <td id=\"T_f962a4c3_122c_11eb_9825_d0577b90b17brow9_col0\" class=\"data row9 col0\" >object</td>\n                        <td id=\"T_f962a4c3_122c_11eb_9825_d0577b90b17brow9_col1\" class=\"data row9 col1\" >0.000000</td>\n            </tr>\n            <tr>\n                        <th id=\"T_f962a4c3_122c_11eb_9825_d0577b90b17blevel0_row10\" class=\"row_heading level0 row10\" >hablar_jefe_EM</th>\n                        <td id=\"T_f962a4c3_122c_11eb_9825_d0577b90b17brow10_col0\" class=\"data row10 col0\" >object</td>\n                        <td id=\"T_f962a4c3_122c_11eb_9825_d0577b90b17brow10_col1\" class=\"data row10 col1\" >0.000000</td>\n            </tr>\n            <tr>\n                        <th id=\"T_f962a4c3_122c_11eb_9825_d0577b90b17blevel0_row11\" class=\"row_heading level0 row11\" >habla_jefe_EM_flag</th>\n                        <td id=\"T_f962a4c3_122c_11eb_9825_d0577b90b17brow11_col0\" class=\"data row11 col0\" >float64</td>\n                        <td id=\"T_f962a4c3_122c_11eb_9825_d0577b90b17brow11_col1\" class=\"data row11 col1\" >0.000000</td>\n            </tr>\n            <tr>\n                        <th id=\"T_f962a4c3_122c_11eb_9825_d0577b90b17blevel0_row12\" class=\"row_heading level0 row12\" >hablar_EM_companeros_flag</th>\n                        <td id=\"T_f962a4c3_122c_11eb_9825_d0577b90b17brow12_col0\" class=\"data row12 col0\" >object</td>\n                        <td id=\"T_f962a4c3_122c_11eb_9825_d0577b90b17brow12_col1\" class=\"data row12 col1\" >0.000000</td>\n            </tr>\n            <tr>\n                        <th id=\"T_f962a4c3_122c_11eb_9825_d0577b90b17blevel0_row13\" class=\"row_heading level0 row13\" >hablar_companeros_EM</th>\n                        <td id=\"T_f962a4c3_122c_11eb_9825_d0577b90b17brow13_col0\" class=\"data row13 col0\" >float64</td>\n                        <td id=\"T_f962a4c3_122c_11eb_9825_d0577b90b17brow13_col1\" class=\"data row13 col1\" >0.000000</td>\n            </tr>\n            <tr>\n                        <th id=\"T_f962a4c3_122c_11eb_9825_d0577b90b17blevel0_row14\" class=\"row_heading level0 row14\" >hablar_companeros_EM_conmigo</th>\n                        <td id=\"T_f962a4c3_122c_11eb_9825_d0577b90b17brow14_col0\" class=\"data row14 col0\" >float64</td>\n                        <td id=\"T_f962a4c3_122c_11eb_9825_d0577b90b17brow14_col1\" class=\"data row14 col1\" >0.255754</td>\n            </tr>\n            <tr>\n                        <th id=\"T_f962a4c3_122c_11eb_9825_d0577b90b17blevel0_row15\" class=\"row_heading level0 row15\" >importacia_salud_fisica</th>\n                        <td id=\"T_f962a4c3_122c_11eb_9825_d0577b90b17brow15_col0\" class=\"data row15 col0\" >float64</td>\n                        <td id=\"T_f962a4c3_122c_11eb_9825_d0577b90b17brow15_col1\" class=\"data row15 col1\" >0.000000</td>\n            </tr>\n            <tr>\n                        <th id=\"T_f962a4c3_122c_11eb_9825_d0577b90b17blevel0_row16\" class=\"row_heading level0 row16\" >importancia_salud_mental</th>\n                        <td id=\"T_f962a4c3_122c_11eb_9825_d0577b90b17brow16_col0\" class=\"data row16 col0\" >float64</td>\n                        <td id=\"T_f962a4c3_122c_11eb_9825_d0577b90b17brow16_col1\" class=\"data row16 col1\" >0.000000</td>\n            </tr>\n            <tr>\n                        <th id=\"T_f962a4c3_122c_11eb_9825_d0577b90b17blevel0_row17\" class=\"row_heading level0 row17\" >trabajado_otras_empresa</th>\n                        <td id=\"T_f962a4c3_122c_11eb_9825_d0577b90b17brow17_col0\" class=\"data row17 col0\" >int64</td>\n                        <td id=\"T_f962a4c3_122c_11eb_9825_d0577b90b17brow17_col1\" class=\"data row17 col1\" >0.000000</td>\n            </tr>\n            <tr>\n                        <th id=\"T_f962a4c3_122c_11eb_9825_d0577b90b17blevel0_row18\" class=\"row_heading level0 row18\" >empresa_anterior_tecnologia</th>\n                        <td id=\"T_f962a4c3_122c_11eb_9825_d0577b90b17brow18_col0\" class=\"data row18 col0\" >float64</td>\n                        <td id=\"T_f962a4c3_122c_11eb_9825_d0577b90b17brow18_col1\" class=\"data row18 col1\" >9.633419</td>\n            </tr>\n            <tr>\n                        <th id=\"T_f962a4c3_122c_11eb_9825_d0577b90b17blevel0_row19\" class=\"row_heading level0 row19\" >empresa_anterior_cargo_tecnologia</th>\n                        <td id=\"T_f962a4c3_122c_11eb_9825_d0577b90b17brow19_col0\" class=\"data row19 col0\" >object</td>\n                        <td id=\"T_f962a4c3_122c_11eb_9825_d0577b90b17brow19_col1\" class=\"data row19 col1\" >9.633419</td>\n            </tr>\n            <tr>\n                        <th id=\"T_f962a4c3_122c_11eb_9825_d0577b90b17blevel0_row20\" class=\"row_heading level0 row20\" >empresa_anterior_cubrimiento_EM</th>\n                        <td id=\"T_f962a4c3_122c_11eb_9825_d0577b90b17brow20_col0\" class=\"data row20 col0\" >object</td>\n                        <td id=\"T_f962a4c3_122c_11eb_9825_d0577b90b17brow20_col1\" class=\"data row20 col1\" >9.633419</td>\n            </tr>\n            <tr>\n                        <th id=\"T_f962a4c3_122c_11eb_9825_d0577b90b17blevel0_row21\" class=\"row_heading level0 row21\" >empresa_anterior_charla_EM</th>\n                        <td id=\"T_f962a4c3_122c_11eb_9825_d0577b90b17brow21_col0\" class=\"data row21 col0\" >object</td>\n                        <td id=\"T_f962a4c3_122c_11eb_9825_d0577b90b17brow21_col1\" class=\"data row21 col1\" >9.633419</td>\n            </tr>\n            <tr>\n                        <th id=\"T_f962a4c3_122c_11eb_9825_d0577b90b17blevel0_row22\" class=\"row_heading level0 row22\" >empresa_anterior_recursos_EM</th>\n                        <td id=\"T_f962a4c3_122c_11eb_9825_d0577b90b17brow22_col0\" class=\"data row22 col0\" >object</td>\n                        <td id=\"T_f962a4c3_122c_11eb_9825_d0577b90b17brow22_col1\" class=\"data row22 col1\" >9.633419</td>\n            </tr>\n            <tr>\n                        <th id=\"T_f962a4c3_122c_11eb_9825_d0577b90b17blevel0_row23\" class=\"row_heading level0 row23\" >empresa_anterior_anonimato</th>\n                        <td id=\"T_f962a4c3_122c_11eb_9825_d0577b90b17brow23_col0\" class=\"data row23 col0\" >object</td>\n                        <td id=\"T_f962a4c3_122c_11eb_9825_d0577b90b17brow23_col1\" class=\"data row23 col1\" >9.633419</td>\n            </tr>\n            <tr>\n                        <th id=\"T_f962a4c3_122c_11eb_9825_d0577b90b17blevel0_row24\" class=\"row_heading level0 row24\" >empresa_anterior_hablar_salud_mentalYFisica</th>\n                        <td id=\"T_f962a4c3_122c_11eb_9825_d0577b90b17brow24_col0\" class=\"data row24 col0\" >object</td>\n                        <td id=\"T_f962a4c3_122c_11eb_9825_d0577b90b17brow24_col1\" class=\"data row24 col1\" >9.633419</td>\n            </tr>\n            <tr>\n                        <th id=\"T_f962a4c3_122c_11eb_9825_d0577b90b17blevel0_row25\" class=\"row_heading level0 row25\" >empresa_anterior_hablar_jefe_EM</th>\n                        <td id=\"T_f962a4c3_122c_11eb_9825_d0577b90b17brow25_col0\" class=\"data row25 col0\" >object</td>\n                        <td id=\"T_f962a4c3_122c_11eb_9825_d0577b90b17brow25_col1\" class=\"data row25 col1\" >9.633419</td>\n            </tr>\n            <tr>\n                        <th id=\"T_f962a4c3_122c_11eb_9825_d0577b90b17blevel0_row26\" class=\"row_heading level0 row26\" >empresa_anterior_hablar_jefe_EM_flag</th>\n                        <td id=\"T_f962a4c3_122c_11eb_9825_d0577b90b17brow26_col0\" class=\"data row26 col0\" >float64</td>\n                        <td id=\"T_f962a4c3_122c_11eb_9825_d0577b90b17brow26_col1\" class=\"data row26 col1\" >9.633419</td>\n            </tr>\n            <tr>\n                        <th id=\"T_f962a4c3_122c_11eb_9825_d0577b90b17blevel0_row27\" class=\"row_heading level0 row27\" >empresa_anterior_dispuesto_hablar_companeros_EM</th>\n                        <td id=\"T_f962a4c3_122c_11eb_9825_d0577b90b17brow27_col0\" class=\"data row27 col0\" >object</td>\n                        <td id=\"T_f962a4c3_122c_11eb_9825_d0577b90b17brow27_col1\" class=\"data row27 col1\" >9.633419</td>\n            </tr>\n            <tr>\n                        <th id=\"T_f962a4c3_122c_11eb_9825_d0577b90b17blevel0_row28\" class=\"row_heading level0 row28\" >empresa_anterior_hablar_companeros_EM</th>\n                        <td id=\"T_f962a4c3_122c_11eb_9825_d0577b90b17brow28_col0\" class=\"data row28 col0\" >float64</td>\n                        <td id=\"T_f962a4c3_122c_11eb_9825_d0577b90b17brow28_col1\" class=\"data row28 col1\" >9.718670</td>\n            </tr>\n            <tr>\n                        <th id=\"T_f962a4c3_122c_11eb_9825_d0577b90b17blevel0_row29\" class=\"row_heading level0 row29\" >empresa_anterior_hablar_companeros_conmigo</th>\n                        <td id=\"T_f962a4c3_122c_11eb_9825_d0577b90b17brow29_col0\" class=\"data row29 col0\" >float64</td>\n                        <td id=\"T_f962a4c3_122c_11eb_9825_d0577b90b17brow29_col1\" class=\"data row29 col1\" >9.803922</td>\n            </tr>\n            <tr>\n                        <th id=\"T_f962a4c3_122c_11eb_9825_d0577b90b17blevel0_row30\" class=\"row_heading level0 row30\" >empresa_anterior_importancia_salud_fisica</th>\n                        <td id=\"T_f962a4c3_122c_11eb_9825_d0577b90b17brow30_col0\" class=\"data row30 col0\" >float64</td>\n                        <td id=\"T_f962a4c3_122c_11eb_9825_d0577b90b17brow30_col1\" class=\"data row30 col1\" >9.633419</td>\n            </tr>\n            <tr>\n                        <th id=\"T_f962a4c3_122c_11eb_9825_d0577b90b17blevel0_row31\" class=\"row_heading level0 row31\" >empresa_anterior_importancia_salud_mental</th>\n                        <td id=\"T_f962a4c3_122c_11eb_9825_d0577b90b17brow31_col0\" class=\"data row31 col0\" >float64</td>\n                        <td id=\"T_f962a4c3_122c_11eb_9825_d0577b90b17brow31_col1\" class=\"data row31 col1\" >9.633419</td>\n            </tr>\n            <tr>\n                        <th id=\"T_f962a4c3_122c_11eb_9825_d0577b90b17blevel0_row32\" class=\"row_heading level0 row32\" >tiene_EM</th>\n                        <td id=\"T_f962a4c3_122c_11eb_9825_d0577b90b17brow32_col0\" class=\"data row32 col0\" >object</td>\n                        <td id=\"T_f962a4c3_122c_11eb_9825_d0577b90b17brow32_col1\" class=\"data row32 col1\" >0.000000</td>\n            </tr>\n            <tr>\n                        <th id=\"T_f962a4c3_122c_11eb_9825_d0577b90b17blevel0_row33\" class=\"row_heading level0 row33\" >diagnostico_EM</th>\n                        <td id=\"T_f962a4c3_122c_11eb_9825_d0577b90b17brow33_col0\" class=\"data row33 col0\" >object</td>\n                        <td id=\"T_f962a4c3_122c_11eb_9825_d0577b90b17brow33_col1\" class=\"data row33 col1\" >39.641944</td>\n            </tr>\n            <tr>\n                        <th id=\"T_f962a4c3_122c_11eb_9825_d0577b90b17blevel0_row34\" class=\"row_heading level0 row34\" >trastorno_ansiedad</th>\n                        <td id=\"T_f962a4c3_122c_11eb_9825_d0577b90b17brow34_col0\" class=\"data row34 col0\" >object</td>\n                        <td id=\"T_f962a4c3_122c_11eb_9825_d0577b90b17brow34_col1\" class=\"data row34 col1\" >61.466326</td>\n            </tr>\n            <tr>\n                        <th id=\"T_f962a4c3_122c_11eb_9825_d0577b90b17blevel0_row35\" class=\"row_heading level0 row35\" >trastorno_humor</th>\n                        <td id=\"T_f962a4c3_122c_11eb_9825_d0577b90b17brow35_col0\" class=\"data row35 col0\" >object</td>\n                        <td id=\"T_f962a4c3_122c_11eb_9825_d0577b90b17brow35_col1\" class=\"data row35 col1\" >63.000853</td>\n            </tr>\n            <tr>\n                        <th id=\"T_f962a4c3_122c_11eb_9825_d0577b90b17blevel0_row36\" class=\"row_heading level0 row36\" >trastorno_psicotico</th>\n                        <td id=\"T_f962a4c3_122c_11eb_9825_d0577b90b17brow36_col0\" class=\"data row36 col0\" >float64</td>\n                        <td id=\"T_f962a4c3_122c_11eb_9825_d0577b90b17brow36_col1\" class=\"data row36 col1\" >71.184996</td>\n            </tr>\n            <tr>\n                        <th id=\"T_f962a4c3_122c_11eb_9825_d0577b90b17blevel0_row37\" class=\"row_heading level0 row37\" >trastorno_alimentacion</th>\n                        <td id=\"T_f962a4c3_122c_11eb_9825_d0577b90b17brow37_col0\" class=\"data row37 col0\" >object</td>\n                        <td id=\"T_f962a4c3_122c_11eb_9825_d0577b90b17brow37_col1\" class=\"data row37 col1\" >70.758738</td>\n            </tr>\n            <tr>\n                        <th id=\"T_f962a4c3_122c_11eb_9825_d0577b90b17blevel0_row38\" class=\"row_heading level0 row38\" >deficit_atencion</th>\n                        <td id=\"T_f962a4c3_122c_11eb_9825_d0577b90b17brow38_col0\" class=\"data row38 col0\" >object</td>\n                        <td id=\"T_f962a4c3_122c_11eb_9825_d0577b90b17brow38_col1\" class=\"data row38 col1\" >68.627451</td>\n            </tr>\n            <tr>\n                        <th id=\"T_f962a4c3_122c_11eb_9825_d0577b90b17blevel0_row39\" class=\"row_heading level0 row39\" >trastorno_personalidad</th>\n                        <td id=\"T_f962a4c3_122c_11eb_9825_d0577b90b17brow39_col0\" class=\"data row39 col0\" >object</td>\n                        <td id=\"T_f962a4c3_122c_11eb_9825_d0577b90b17brow39_col1\" class=\"data row39 col1\" >69.650469</td>\n            </tr>\n            <tr>\n                        <th id=\"T_f962a4c3_122c_11eb_9825_d0577b90b17blevel0_row40\" class=\"row_heading level0 row40\" >trastorno_obsesivo_compulsivo</th>\n                        <td id=\"T_f962a4c3_122c_11eb_9825_d0577b90b17brow40_col0\" class=\"data row40 col0\" >object</td>\n                        <td id=\"T_f962a4c3_122c_11eb_9825_d0577b90b17brow40_col1\" class=\"data row40 col1\" >69.479966</td>\n            </tr>\n            <tr>\n                        <th id=\"T_f962a4c3_122c_11eb_9825_d0577b90b17blevel0_row41\" class=\"row_heading level0 row41\" >trastorno_post_traumatico</th>\n                        <td id=\"T_f962a4c3_122c_11eb_9825_d0577b90b17brow41_col0\" class=\"data row41 col0\" >object</td>\n                        <td id=\"T_f962a4c3_122c_11eb_9825_d0577b90b17brow41_col1\" class=\"data row41 col1\" >69.138960</td>\n            </tr>\n            <tr>\n                        <th id=\"T_f962a4c3_122c_11eb_9825_d0577b90b17blevel0_row42\" class=\"row_heading level0 row42\" >sindrome_estres</th>\n                        <td id=\"T_f962a4c3_122c_11eb_9825_d0577b90b17brow42_col0\" class=\"data row42 col0\" >object</td>\n                        <td id=\"T_f962a4c3_122c_11eb_9825_d0577b90b17brow42_col1\" class=\"data row42 col1\" >69.565217</td>\n            </tr>\n            <tr>\n                        <th id=\"T_f962a4c3_122c_11eb_9825_d0577b90b17blevel0_row43\" class=\"row_heading level0 row43\" >trastorno_disasocion</th>\n                        <td id=\"T_f962a4c3_122c_11eb_9825_d0577b90b17brow43_col0\" class=\"data row43 col0\" >object</td>\n                        <td id=\"T_f962a4c3_122c_11eb_9825_d0577b90b17brow43_col1\" class=\"data row43 col1\" >70.673487</td>\n            </tr>\n            <tr>\n                        <th id=\"T_f962a4c3_122c_11eb_9825_d0577b90b17blevel0_row44\" class=\"row_heading level0 row44\" >trastorno_uso_sustancias</th>\n                        <td id=\"T_f962a4c3_122c_11eb_9825_d0577b90b17brow44_col0\" class=\"data row44 col0\" >object</td>\n                        <td id=\"T_f962a4c3_122c_11eb_9825_d0577b90b17brow44_col1\" class=\"data row44 col1\" >70.502984</td>\n            </tr>\n            <tr>\n                        <th id=\"T_f962a4c3_122c_11eb_9825_d0577b90b17blevel0_row45\" class=\"row_heading level0 row45\" >trastorno_adictivo</th>\n                        <td id=\"T_f962a4c3_122c_11eb_9825_d0577b90b17brow45_col0\" class=\"data row45 col0\" >object</td>\n                        <td id=\"T_f962a4c3_122c_11eb_9825_d0577b90b17brow45_col1\" class=\"data row45 col1\" >70.588235</td>\n            </tr>\n            <tr>\n                        <th id=\"T_f962a4c3_122c_11eb_9825_d0577b90b17blevel0_row46\" class=\"row_heading level0 row46\" >tratamiento_EM</th>\n                        <td id=\"T_f962a4c3_122c_11eb_9825_d0577b90b17brow46_col0\" class=\"data row46 col0\" >int64</td>\n                        <td id=\"T_f962a4c3_122c_11eb_9825_d0577b90b17brow46_col1\" class=\"data row46 col1\" >0.000000</td>\n            </tr>\n            <tr>\n                        <th id=\"T_f962a4c3_122c_11eb_9825_d0577b90b17blevel0_row47\" class=\"row_heading level0 row47\" >EM_familiar</th>\n                        <td id=\"T_f962a4c3_122c_11eb_9825_d0577b90b17brow47_col0\" class=\"data row47 col0\" >object</td>\n                        <td id=\"T_f962a4c3_122c_11eb_9825_d0577b90b17brow47_col1\" class=\"data row47 col1\" >0.000000</td>\n            </tr>\n            <tr>\n                        <th id=\"T_f962a4c3_122c_11eb_9825_d0577b90b17blevel0_row48\" class=\"row_heading level0 row48\" >EM_interfiere_trabajo_buen_tratamiento</th>\n                        <td id=\"T_f962a4c3_122c_11eb_9825_d0577b90b17brow48_col0\" class=\"data row48 col0\" >object</td>\n                        <td id=\"T_f962a4c3_122c_11eb_9825_d0577b90b17brow48_col1\" class=\"data row48 col1\" >0.000000</td>\n            </tr>\n            <tr>\n                        <th id=\"T_f962a4c3_122c_11eb_9825_d0577b90b17blevel0_row49\" class=\"row_heading level0 row49\" >EM_interfiere_trabajo_mal_tratamiento</th>\n                        <td id=\"T_f962a4c3_122c_11eb_9825_d0577b90b17brow49_col0\" class=\"data row49 col0\" >object</td>\n                        <td id=\"T_f962a4c3_122c_11eb_9825_d0577b90b17brow49_col1\" class=\"data row49 col1\" >0.000000</td>\n            </tr>\n            <tr>\n                        <th id=\"T_f962a4c3_122c_11eb_9825_d0577b90b17blevel0_row50\" class=\"row_heading level0 row50\" >miedo_hablar_EM</th>\n                        <td id=\"T_f962a4c3_122c_11eb_9825_d0577b90b17brow50_col0\" class=\"data row50 col0\" >object</td>\n                        <td id=\"T_f962a4c3_122c_11eb_9825_d0577b90b17brow50_col1\" class=\"data row50 col1\" >15.686275</td>\n            </tr>\n            <tr>\n                        <th id=\"T_f962a4c3_122c_11eb_9825_d0577b90b17blevel0_row51\" class=\"row_heading level0 row51\" >hablar_amigos_familia_EM</th>\n                        <td id=\"T_f962a4c3_122c_11eb_9825_d0577b90b17brow51_col0\" class=\"data row51 col0\" >int64</td>\n                        <td id=\"T_f962a4c3_122c_11eb_9825_d0577b90b17brow51_col1\" class=\"data row51 col1\" >0.000000</td>\n            </tr>\n            <tr>\n                        <th id=\"T_f962a4c3_122c_11eb_9825_d0577b90b17blevel0_row52\" class=\"row_heading level0 row52\" >entrevista_trabajo_hablar_EF</th>\n                        <td id=\"T_f962a4c3_122c_11eb_9825_d0577b90b17brow52_col0\" class=\"data row52 col0\" >object</td>\n                        <td id=\"T_f962a4c3_122c_11eb_9825_d0577b90b17brow52_col1\" class=\"data row52 col1\" >0.000000</td>\n            </tr>\n            <tr>\n                        <th id=\"T_f962a4c3_122c_11eb_9825_d0577b90b17blevel0_row53\" class=\"row_heading level0 row53\" >entrevista_trabajo_hablar_EM</th>\n                        <td id=\"T_f962a4c3_122c_11eb_9825_d0577b90b17brow53_col0\" class=\"data row53 col0\" >object</td>\n                        <td id=\"T_f962a4c3_122c_11eb_9825_d0577b90b17brow53_col1\" class=\"data row53 col1\" >0.000000</td>\n            </tr>\n            <tr>\n                        <th id=\"T_f962a4c3_122c_11eb_9825_d0577b90b17blevel0_row54\" class=\"row_heading level0 row54\" >identificado_EM_trabajo</th>\n                        <td id=\"T_f962a4c3_122c_11eb_9825_d0577b90b17brow54_col0\" class=\"data row54 col0\" >float64</td>\n                        <td id=\"T_f962a4c3_122c_11eb_9825_d0577b90b17brow54_col1\" class=\"data row54 col1\" >0.000000</td>\n            </tr>\n            <tr>\n                        <th id=\"T_f962a4c3_122c_11eb_9825_d0577b90b17blevel0_row55\" class=\"row_heading level0 row55\" >EM_afecta_carrera</th>\n                        <td id=\"T_f962a4c3_122c_11eb_9825_d0577b90b17brow55_col0\" class=\"data row55 col0\" >float64</td>\n                        <td id=\"T_f962a4c3_122c_11eb_9825_d0577b90b17brow55_col1\" class=\"data row55 col1\" >62.915601</td>\n            </tr>\n            <tr>\n                        <th id=\"T_f962a4c3_122c_11eb_9825_d0577b90b17blevel0_row56\" class=\"row_heading level0 row56\" >reaccion_companeros_EM</th>\n                        <td id=\"T_f962a4c3_122c_11eb_9825_d0577b90b17brow56_col0\" class=\"data row56 col0\" >float64</td>\n                        <td id=\"T_f962a4c3_122c_11eb_9825_d0577b90b17brow56_col1\" class=\"data row56 col1\" >0.000000</td>\n            </tr>\n            <tr>\n                        <th id=\"T_f962a4c3_122c_11eb_9825_d0577b90b17blevel0_row57\" class=\"row_heading level0 row57\" >no_apoyo_EM</th>\n                        <td id=\"T_f962a4c3_122c_11eb_9825_d0577b90b17brow57_col0\" class=\"data row57 col0\" >object</td>\n                        <td id=\"T_f962a4c3_122c_11eb_9825_d0577b90b17brow57_col1\" class=\"data row57 col1\" >0.000000</td>\n            </tr>\n            <tr>\n                        <th id=\"T_f962a4c3_122c_11eb_9825_d0577b90b17blevel0_row58\" class=\"row_heading level0 row58\" >apoyo_EM</th>\n                        <td id=\"T_f962a4c3_122c_11eb_9825_d0577b90b17brow58_col0\" class=\"data row58 col0\" >object</td>\n                        <td id=\"T_f962a4c3_122c_11eb_9825_d0577b90b17brow58_col1\" class=\"data row58 col1\" >0.000000</td>\n            </tr>\n            <tr>\n                        <th id=\"T_f962a4c3_122c_11eb_9825_d0577b90b17blevel0_row59\" class=\"row_heading level0 row59\" >apoyo_industria_tecnologia_EM</th>\n                        <td id=\"T_f962a4c3_122c_11eb_9825_d0577b90b17brow59_col0\" class=\"data row59 col0\" >float64</td>\n                        <td id=\"T_f962a4c3_122c_11eb_9825_d0577b90b17brow59_col1\" class=\"data row59 col1\" >0.000000</td>\n            </tr>\n            <tr>\n                        <th id=\"T_f962a4c3_122c_11eb_9825_d0577b90b17blevel0_row60\" class=\"row_heading level0 row60\" >dispuesto_contar_experiencia</th>\n                        <td id=\"T_f962a4c3_122c_11eb_9825_d0577b90b17brow60_col0\" class=\"data row60 col0\" >float64</td>\n                        <td id=\"T_f962a4c3_122c_11eb_9825_d0577b90b17brow60_col1\" class=\"data row60 col1\" >0.000000</td>\n            </tr>\n            <tr>\n                        <th id=\"T_f962a4c3_122c_11eb_9825_d0577b90b17blevel0_row61\" class=\"row_heading level0 row61\" >edad</th>\n                        <td id=\"T_f962a4c3_122c_11eb_9825_d0577b90b17brow61_col0\" class=\"data row61 col0\" >float64</td>\n                        <td id=\"T_f962a4c3_122c_11eb_9825_d0577b90b17brow61_col1\" class=\"data row61 col1\" >0.000000</td>\n            </tr>\n            <tr>\n                        <th id=\"T_f962a4c3_122c_11eb_9825_d0577b90b17blevel0_row62\" class=\"row_heading level0 row62\" >genero</th>\n                        <td id=\"T_f962a4c3_122c_11eb_9825_d0577b90b17brow62_col0\" class=\"data row62 col0\" >object</td>\n                        <td id=\"T_f962a4c3_122c_11eb_9825_d0577b90b17brow62_col1\" class=\"data row62 col1\" >0.341006</td>\n            </tr>\n            <tr>\n                        <th id=\"T_f962a4c3_122c_11eb_9825_d0577b90b17blevel0_row63\" class=\"row_heading level0 row63\" >pais_vivienda</th>\n                        <td id=\"T_f962a4c3_122c_11eb_9825_d0577b90b17brow63_col0\" class=\"data row63 col0\" >object</td>\n                        <td id=\"T_f962a4c3_122c_11eb_9825_d0577b90b17brow63_col1\" class=\"data row63 col1\" >0.000000</td>\n            </tr>\n            <tr>\n                        <th id=\"T_f962a4c3_122c_11eb_9825_d0577b90b17blevel0_row64\" class=\"row_heading level0 row64\" >estado_US_vivienda</th>\n                        <td id=\"T_f962a4c3_122c_11eb_9825_d0577b90b17brow64_col0\" class=\"data row64 col0\" >object</td>\n                        <td id=\"T_f962a4c3_122c_11eb_9825_d0577b90b17brow64_col1\" class=\"data row64 col1\" >20.886616</td>\n            </tr>\n            <tr>\n                        <th id=\"T_f962a4c3_122c_11eb_9825_d0577b90b17blevel0_row65\" class=\"row_heading level0 row65\" >grupo_etnico</th>\n                        <td id=\"T_f962a4c3_122c_11eb_9825_d0577b90b17brow65_col0\" class=\"data row65 col0\" >object</td>\n                        <td id=\"T_f962a4c3_122c_11eb_9825_d0577b90b17brow65_col1\" class=\"data row65 col1\" >22.506394</td>\n            </tr>\n            <tr>\n                        <th id=\"T_f962a4c3_122c_11eb_9825_d0577b90b17blevel0_row66\" class=\"row_heading level0 row66\" >pais_trabajo</th>\n                        <td id=\"T_f962a4c3_122c_11eb_9825_d0577b90b17brow66_col0\" class=\"data row66 col0\" >object</td>\n                        <td id=\"T_f962a4c3_122c_11eb_9825_d0577b90b17brow66_col1\" class=\"data row66 col1\" >0.000000</td>\n            </tr>\n            <tr>\n                        <th id=\"T_f962a4c3_122c_11eb_9825_d0577b90b17blevel0_row67\" class=\"row_heading level0 row67\" >estado_US_trabajo</th>\n                        <td id=\"T_f962a4c3_122c_11eb_9825_d0577b90b17brow67_col0\" class=\"data row67 col0\" >object</td>\n                        <td id=\"T_f962a4c3_122c_11eb_9825_d0577b90b17brow67_col1\" class=\"data row67 col1\" >20.716113</td>\n            </tr>\n    </tbody></table>"
     },
     "metadata": {},
     "execution_count": 26
    }
   ],
   "source": [
    "heatMap_data_missing=pd.DataFrame({'tipo':data_raw.dtypes, '% vacios':((data_raw.isna().sum()/1173)*100).values})\n",
    "heatMap_data_missing.style.background_gradient(cmap='Reds')"
   ]
  },
  {
   "source": [
    "Se puede evidenciar que todas las columnas que responden a preguntas sobre trastornos tienen más del 60% de datos faltantes o vacios y debido a que estas enfermedades son diagnosticadas para cada persona ([existen más de 18 tipos de enfermedades mentales](https://psicologiaymente.com/clinica/tipos-de-enfermedades-mentales)), por tanto no es posible llenar los valores faltantes, se decide eliminar dichas columnas"
   ],
   "cell_type": "markdown",
   "metadata": {}
  },
  {
   "cell_type": "code",
   "execution_count": 27,
   "metadata": {},
   "outputs": [],
   "source": [
    "data_raw.drop(['trastorno_psicotico','trastorno_alimentacion','deficit_atencion','trastorno_personalidad','trastorno_obsesivo_compulsivo','trastorno_post_traumatico','sindrome_estres','trastorno_disasocion','trastorno_uso_sustancias','trastorno_adictivo','trastorno_ansiedad','trastorno_humor'],axis=1,inplace=True)"
   ]
  },
  {
   "source": [
    "### Análisis columna género\n",
    "Por otro lado, la variable de `genero` presenta 73 posibles respuestas"
   ],
   "cell_type": "markdown",
   "metadata": {}
  },
  {
   "cell_type": "code",
   "execution_count": 28,
   "metadata": {},
   "outputs": [
    {
     "output_type": "execute_result",
     "data": {
      "text/plain": [
       "73"
      ]
     },
     "metadata": {},
     "execution_count": 28
    }
   ],
   "source": [
    "data_raw[\"genero\"].nunique()"
   ]
  },
  {
   "source": [
    "Primero, se eliminan los valores de genero que son érroneos y los vacios"
   ],
   "cell_type": "markdown",
   "metadata": {}
  },
  {
   "cell_type": "code",
   "execution_count": 29,
   "metadata": {},
   "outputs": [],
   "source": [
    "data_raw = data_raw[data_raw.genero != 'None']\n",
    "data_raw = data_raw[data_raw.genero != 'God King of the Valajar']\n",
    "data_raw = data_raw[data_raw.genero != 'She/her/they/them']\n",
    "data_raw = data_raw[data_raw.genero != 'Contextual']\n",
    "data_raw = data_raw[data_raw.genero != 'SWM']\n",
    "data_raw = data_raw[data_raw.genero != '\\\\-']\n",
    "data_raw = data_raw[data_raw.genero != 'Demiguy']\n",
    "data_raw = data_raw[data_raw.genero != 'none']\n",
    "data_raw = data_raw[data_raw.genero.notna()]"
   ]
  },
  {
   "source": [
    "Luego, se procede a cambiar los nombres por 3 valores M (Masculino), F (Femenino), NB (No binario u otros)"
   ],
   "cell_type": "markdown",
   "metadata": {}
  },
  {
   "cell_type": "code",
   "execution_count": 30,
   "metadata": {},
   "outputs": [],
   "source": [
    "gender_unique=data_raw[\"genero\"].values\n",
    "i=0\n",
    "for gender in gender_unique:  \n",
    "    if 'f' in gender or 'F' in gender:        \n",
    "        gender_unique[i]='F' \n",
    "        \n",
    "    elif 'm' in gender or 'M' in gender:\n",
    "        gender_unique[i]='M'\n",
    "    else:\n",
    "        gender_unique[i]='NB' #Genero no-binario, otro, inconforme o no definido\n",
    "    i=i+1"
   ]
  },
  {
   "cell_type": "code",
   "execution_count": 31,
   "metadata": {},
   "outputs": [],
   "source": [
    "pd.set_option('display.max_rows', None)"
   ]
  },
  {
   "cell_type": "code",
   "execution_count": 32,
   "metadata": {},
   "outputs": [],
   "source": [
    "data_raw[\"genero\"]=gender_unique"
   ]
  },
  {
   "source": [
    "Finalmente se obtienen 3 valores únicos en la variable Género"
   ],
   "cell_type": "markdown",
   "metadata": {}
  },
  {
   "cell_type": "code",
   "execution_count": 33,
   "metadata": {},
   "outputs": [
    {
     "output_type": "execute_result",
     "data": {
      "text/plain": [
       "3"
      ]
     },
     "metadata": {},
     "execution_count": 33
    }
   ],
   "source": [
    "data_raw[\"genero\"].nunique()"
   ]
  },
  {
   "cell_type": "code",
   "execution_count": 34,
   "metadata": {},
   "outputs": [
    {
     "output_type": "execute_result",
     "data": {
      "text/plain": [
       "concimiento_cubrimiento_EM                         10.571081\n",
       "hablar_companeros_EM_conmigo                        0.364520\n",
       "empresa_anterior_tecnologia                        13.608748\n",
       "empresa_anterior_cargo_tecnologia                  13.608748\n",
       "empresa_anterior_cubrimiento_EM                    13.608748\n",
       "empresa_anterior_charla_EM                         13.608748\n",
       "empresa_anterior_recursos_EM                       13.608748\n",
       "empresa_anterior_anonimato                         13.608748\n",
       "empresa_anterior_hablar_salud_mentalYFisica        13.608748\n",
       "empresa_anterior_hablar_jefe_EM                    13.608748\n",
       "empresa_anterior_hablar_jefe_EM_flag               13.608748\n",
       "empresa_anterior_dispuesto_hablar_companeros_EM    13.608748\n",
       "empresa_anterior_hablar_companeros_EM              13.730255\n",
       "empresa_anterior_hablar_companeros_conmigo         13.851762\n",
       "empresa_anterior_importancia_salud_fisica          13.608748\n",
       "empresa_anterior_importancia_salud_mental          13.608748\n",
       "diagnostico_EM                                     55.407047\n",
       "miedo_hablar_EM                                    21.749696\n",
       "EM_afecta_carrera                                  88.456865\n",
       "estado_US_vivienda                                 29.283111\n",
       "grupo_etnico                                       31.591738\n",
       "estado_US_trabajo                                  29.040097\n",
       "dtype: float64"
      ]
     },
     "metadata": {},
     "execution_count": 34
    }
   ],
   "source": [
    "missing = data_raw.isnull().sum()\n",
    "missing[missing>0]*100/len(data_raw)"
   ]
  },
  {
   "source": [
    "### Imputación\n",
    "La imputación se realiza cuando los datos nulos son menos del 30%, las que tengan un mayor porcentaje deben ser eliminadas porque en caso de hacer imputación generaría overfitting en el modelo"
   ],
   "cell_type": "markdown",
   "metadata": {}
  },
  {
   "cell_type": "code",
   "execution_count": 35,
   "metadata": {},
   "outputs": [],
   "source": [
    "data_raw.drop(['EM_afecta_carrera','diagnostico_EM'],axis=1,inplace=True)"
   ]
  },
  {
   "source": [
    "En el caso de las columnas `estado_US_vivienda` y `estado_US_trabajo` donde solo se responden preguntas acerca de ** 1 de los 49 paises ** en las respuestas de la encuesta y para las cuales, los valores faltantes no pueden ser imputados, por eso se decidio eliminar dichas columnas"
   ],
   "cell_type": "markdown",
   "metadata": {}
  },
  {
   "cell_type": "code",
   "execution_count": 36,
   "metadata": {},
   "outputs": [],
   "source": [
    "data_raw.drop(['estado_US_vivienda','estado_US_trabajo'],axis=1,inplace=True)"
   ]
  },
  {
   "cell_type": "code",
   "execution_count": 37,
   "metadata": {},
   "outputs": [],
   "source": [
    "#Se realiza la imputación en las variables categoricas con moda y en las numericas con moda, utilizando la función fillna\n",
    "data_raw['concimiento_cubrimiento_EM'].fillna(data_raw['concimiento_cubrimiento_EM'].mode()[0], inplace=True)\n",
    "data_raw['hablar_companeros_EM_conmigo'].fillna(data_raw['hablar_companeros_EM_conmigo'].mode()[0], inplace=True)\n",
    "data_raw['empresa_anterior_tecnologia'].fillna(data_raw['empresa_anterior_tecnologia'].mode()[0], inplace=True)\n",
    "data_raw['empresa_anterior_cargo_tecnologia'].fillna(data_raw['empresa_anterior_cargo_tecnologia'].mode()[0], inplace=True)\n",
    "data_raw['empresa_anterior_cubrimiento_EM'].fillna(data_raw['empresa_anterior_cubrimiento_EM'].mode()[0], inplace=True)\n",
    "data_raw['empresa_anterior_charla_EM'].fillna(data_raw['empresa_anterior_charla_EM'].mode()[0], inplace=True)\n",
    "data_raw['empresa_anterior_recursos_EM'].fillna(data_raw['empresa_anterior_recursos_EM'].mode()[0], inplace=True)\n",
    "data_raw['empresa_anterior_anonimato'].fillna(data_raw['empresa_anterior_anonimato'].mode()[0], inplace=True)\n",
    "data_raw['empresa_anterior_hablar_salud_mentalYFisica'].fillna(data_raw['empresa_anterior_hablar_salud_mentalYFisica'].mode()[0], inplace=True)\n",
    "data_raw['empresa_anterior_hablar_jefe_EM'].fillna(data_raw['empresa_anterior_hablar_jefe_EM'].mode()[0], inplace=True)\n",
    "data_raw['empresa_anterior_hablar_jefe_EM_flag'].fillna(data_raw['empresa_anterior_hablar_jefe_EM_flag'].mode()[0], inplace=True)\n",
    "data_raw['empresa_anterior_dispuesto_hablar_companeros_EM'].fillna(data_raw['empresa_anterior_dispuesto_hablar_companeros_EM'].mode()[0], inplace=True)\n",
    "data_raw['empresa_anterior_hablar_companeros_conmigo'].fillna(data_raw['empresa_anterior_hablar_companeros_conmigo'].mode()[0], inplace=True)\n",
    "data_raw['empresa_anterior_importancia_salud_fisica'].fillna(data_raw['empresa_anterior_importancia_salud_fisica'].mode()[0], inplace=True)\n",
    "data_raw['empresa_anterior_importancia_salud_mental'].fillna(data_raw['empresa_anterior_importancia_salud_mental'].mode()[0], inplace=True)\n",
    "data_raw['miedo_hablar_EM'].fillna(data_raw['miedo_hablar_EM'].mode()[0], inplace=True)\n",
    "data_raw['grupo_etnico'].fillna(data_raw['grupo_etnico'].mode()[0], inplace=True)\n",
    "data_raw['empresa_anterior_hablar_companeros_EM'].fillna(data_raw['empresa_anterior_hablar_companeros_EM'].mode()[0], inplace=True)"
   ]
  },
  {
   "cell_type": "code",
   "execution_count": 39,
   "metadata": {},
   "outputs": [],
   "source": [
    "#Se reinician los indices, porque al eliminar filas y columnas los indices pueden moverse o cambiarse\n",
    "data_raw.reset_index(inplace=True, drop=True)"
   ]
  },
  {
   "cell_type": "code",
   "execution_count": 40,
   "metadata": {},
   "outputs": [
    {
     "output_type": "stream",
     "name": "stdout",
     "text": [
      "Total missing values in the dataset = 0\n"
     ]
    }
   ],
   "source": [
    "# Valores faltantes en el dataset\n",
    "print(f\"Valores faltantes/vacios en el dataset = {data_raw.isnull().sum().sum()}\")"
   ]
  },
  {
   "source": [
    "## Outliers"
   ],
   "cell_type": "markdown",
   "metadata": {}
  },
  {
   "cell_type": "code",
   "execution_count": 41,
   "metadata": {},
   "outputs": [
    {
     "output_type": "execute_result",
     "data": {
      "text/plain": [
       "       independiente/emprendedor  compania_tecnologia  habla_jefe_EM_flag  \\\n",
       "count                      823.0           823.000000          823.000000   \n",
       "mean                         0.0             0.743621            0.321993   \n",
       "std                          0.0             0.436899            0.467524   \n",
       "min                          0.0             0.000000            0.000000   \n",
       "25%                          0.0             0.000000            0.000000   \n",
       "50%                          0.0             1.000000            0.000000   \n",
       "75%                          0.0             1.000000            1.000000   \n",
       "max                          0.0             1.000000            1.000000   \n",
       "\n",
       "       hablar_companeros_EM  hablar_companeros_EM_conmigo  \\\n",
       "count            823.000000                    823.000000   \n",
       "mean               0.424058                      0.465371   \n",
       "std                0.494500                      0.499103   \n",
       "min                0.000000                      0.000000   \n",
       "25%                0.000000                      0.000000   \n",
       "50%                0.000000                      0.000000   \n",
       "75%                1.000000                      1.000000   \n",
       "max                1.000000                      1.000000   \n",
       "\n",
       "       importacia_salud_fisica  importancia_salud_mental  \\\n",
       "count               823.000000                823.000000   \n",
       "mean                  6.208991                  4.876063   \n",
       "std                   2.298326                  2.461222   \n",
       "min                   0.000000                  0.000000   \n",
       "25%                   5.000000                  3.000000   \n",
       "50%                   7.000000                  5.000000   \n",
       "75%                   8.000000                  7.000000   \n",
       "max                  10.000000                 10.000000   \n",
       "\n",
       "       trabajado_otras_empresa  empresa_anterior_tecnologia  \\\n",
       "count               823.000000                   823.000000   \n",
       "mean                  0.863913                     0.737546   \n",
       "std                   0.343090                     0.440236   \n",
       "min                   0.000000                     0.000000   \n",
       "25%                   1.000000                     0.000000   \n",
       "50%                   1.000000                     1.000000   \n",
       "75%                   1.000000                     1.000000   \n",
       "max                   1.000000                     1.000000   \n",
       "\n",
       "       empresa_anterior_hablar_jefe_EM_flag  ...  \\\n",
       "count                            823.000000  ...   \n",
       "mean                               0.190765  ...   \n",
       "std                                0.393144  ...   \n",
       "min                                0.000000  ...   \n",
       "25%                                0.000000  ...   \n",
       "50%                                0.000000  ...   \n",
       "75%                                0.000000  ...   \n",
       "max                                1.000000  ...   \n",
       "\n",
       "       empresa_anterior_hablar_companeros_conmigo  \\\n",
       "count                                  823.000000   \n",
       "mean                                     0.252734   \n",
       "std                                      0.434844   \n",
       "min                                      0.000000   \n",
       "25%                                      0.000000   \n",
       "50%                                      0.000000   \n",
       "75%                                      1.000000   \n",
       "max                                      1.000000   \n",
       "\n",
       "       empresa_anterior_importancia_salud_fisica  \\\n",
       "count                                 823.000000   \n",
       "mean                                    5.397327   \n",
       "std                                     2.283729   \n",
       "min                                     0.000000   \n",
       "25%                                     5.000000   \n",
       "50%                                     5.000000   \n",
       "75%                                     7.000000   \n",
       "max                                    10.000000   \n",
       "\n",
       "       empresa_anterior_importancia_salud_mental  tratamiento_EM  \\\n",
       "count                                 823.000000      823.000000   \n",
       "mean                                    3.759417        0.611179   \n",
       "std                                     2.355396        0.487779   \n",
       "min                                     0.000000        0.000000   \n",
       "25%                                     2.000000        0.000000   \n",
       "50%                                     4.000000        1.000000   \n",
       "75%                                     5.000000        1.000000   \n",
       "max                                    10.000000        1.000000   \n",
       "\n",
       "       hablar_amigos_familia_EM  identificado_EM_trabajo  \\\n",
       "count                823.000000               823.000000   \n",
       "mean                   6.528554                 0.116646   \n",
       "std                    2.739963                 0.321194   \n",
       "min                    0.000000                 0.000000   \n",
       "25%                    5.000000                 0.000000   \n",
       "50%                    7.000000                 0.000000   \n",
       "75%                    9.000000                 0.000000   \n",
       "max                   10.000000                 1.000000   \n",
       "\n",
       "       reaccion_companeros_EM  apoyo_industria_tecnologia_EM  \\\n",
       "count              823.000000                     823.000000   \n",
       "mean                 5.348724                       2.539490   \n",
       "std                  2.230871                       0.919157   \n",
       "min                  0.000000                       1.000000   \n",
       "25%                  4.000000                       2.000000   \n",
       "50%                  5.000000                       3.000000   \n",
       "75%                  7.000000                       3.000000   \n",
       "max                 10.000000                       5.000000   \n",
       "\n",
       "       dispuesto_contar_experiencia        edad  \n",
       "count                    823.000000  823.000000  \n",
       "mean                       0.360875   34.928311  \n",
       "std                        0.480546    8.012974  \n",
       "min                        0.000000   19.000000  \n",
       "25%                        0.000000   29.000000  \n",
       "50%                        0.000000   34.000000  \n",
       "75%                        1.000000   40.000000  \n",
       "max                        1.000000   66.000000  \n",
       "\n",
       "[8 rows x 21 columns]"
      ],
      "text/html": "<div>\n<style scoped>\n    .dataframe tbody tr th:only-of-type {\n        vertical-align: middle;\n    }\n\n    .dataframe tbody tr th {\n        vertical-align: top;\n    }\n\n    .dataframe thead th {\n        text-align: right;\n    }\n</style>\n<table border=\"1\" class=\"dataframe\">\n  <thead>\n    <tr style=\"text-align: right;\">\n      <th></th>\n      <th>independiente/emprendedor</th>\n      <th>compania_tecnologia</th>\n      <th>habla_jefe_EM_flag</th>\n      <th>hablar_companeros_EM</th>\n      <th>hablar_companeros_EM_conmigo</th>\n      <th>importacia_salud_fisica</th>\n      <th>importancia_salud_mental</th>\n      <th>trabajado_otras_empresa</th>\n      <th>empresa_anterior_tecnologia</th>\n      <th>empresa_anterior_hablar_jefe_EM_flag</th>\n      <th>...</th>\n      <th>empresa_anterior_hablar_companeros_conmigo</th>\n      <th>empresa_anterior_importancia_salud_fisica</th>\n      <th>empresa_anterior_importancia_salud_mental</th>\n      <th>tratamiento_EM</th>\n      <th>hablar_amigos_familia_EM</th>\n      <th>identificado_EM_trabajo</th>\n      <th>reaccion_companeros_EM</th>\n      <th>apoyo_industria_tecnologia_EM</th>\n      <th>dispuesto_contar_experiencia</th>\n      <th>edad</th>\n    </tr>\n  </thead>\n  <tbody>\n    <tr>\n      <th>count</th>\n      <td>823.0</td>\n      <td>823.000000</td>\n      <td>823.000000</td>\n      <td>823.000000</td>\n      <td>823.000000</td>\n      <td>823.000000</td>\n      <td>823.000000</td>\n      <td>823.000000</td>\n      <td>823.000000</td>\n      <td>823.000000</td>\n      <td>...</td>\n      <td>823.000000</td>\n      <td>823.000000</td>\n      <td>823.000000</td>\n      <td>823.000000</td>\n      <td>823.000000</td>\n      <td>823.000000</td>\n      <td>823.000000</td>\n      <td>823.000000</td>\n      <td>823.000000</td>\n      <td>823.000000</td>\n    </tr>\n    <tr>\n      <th>mean</th>\n      <td>0.0</td>\n      <td>0.743621</td>\n      <td>0.321993</td>\n      <td>0.424058</td>\n      <td>0.465371</td>\n      <td>6.208991</td>\n      <td>4.876063</td>\n      <td>0.863913</td>\n      <td>0.737546</td>\n      <td>0.190765</td>\n      <td>...</td>\n      <td>0.252734</td>\n      <td>5.397327</td>\n      <td>3.759417</td>\n      <td>0.611179</td>\n      <td>6.528554</td>\n      <td>0.116646</td>\n      <td>5.348724</td>\n      <td>2.539490</td>\n      <td>0.360875</td>\n      <td>34.928311</td>\n    </tr>\n    <tr>\n      <th>std</th>\n      <td>0.0</td>\n      <td>0.436899</td>\n      <td>0.467524</td>\n      <td>0.494500</td>\n      <td>0.499103</td>\n      <td>2.298326</td>\n      <td>2.461222</td>\n      <td>0.343090</td>\n      <td>0.440236</td>\n      <td>0.393144</td>\n      <td>...</td>\n      <td>0.434844</td>\n      <td>2.283729</td>\n      <td>2.355396</td>\n      <td>0.487779</td>\n      <td>2.739963</td>\n      <td>0.321194</td>\n      <td>2.230871</td>\n      <td>0.919157</td>\n      <td>0.480546</td>\n      <td>8.012974</td>\n    </tr>\n    <tr>\n      <th>min</th>\n      <td>0.0</td>\n      <td>0.000000</td>\n      <td>0.000000</td>\n      <td>0.000000</td>\n      <td>0.000000</td>\n      <td>0.000000</td>\n      <td>0.000000</td>\n      <td>0.000000</td>\n      <td>0.000000</td>\n      <td>0.000000</td>\n      <td>...</td>\n      <td>0.000000</td>\n      <td>0.000000</td>\n      <td>0.000000</td>\n      <td>0.000000</td>\n      <td>0.000000</td>\n      <td>0.000000</td>\n      <td>0.000000</td>\n      <td>1.000000</td>\n      <td>0.000000</td>\n      <td>19.000000</td>\n    </tr>\n    <tr>\n      <th>25%</th>\n      <td>0.0</td>\n      <td>0.000000</td>\n      <td>0.000000</td>\n      <td>0.000000</td>\n      <td>0.000000</td>\n      <td>5.000000</td>\n      <td>3.000000</td>\n      <td>1.000000</td>\n      <td>0.000000</td>\n      <td>0.000000</td>\n      <td>...</td>\n      <td>0.000000</td>\n      <td>5.000000</td>\n      <td>2.000000</td>\n      <td>0.000000</td>\n      <td>5.000000</td>\n      <td>0.000000</td>\n      <td>4.000000</td>\n      <td>2.000000</td>\n      <td>0.000000</td>\n      <td>29.000000</td>\n    </tr>\n    <tr>\n      <th>50%</th>\n      <td>0.0</td>\n      <td>1.000000</td>\n      <td>0.000000</td>\n      <td>0.000000</td>\n      <td>0.000000</td>\n      <td>7.000000</td>\n      <td>5.000000</td>\n      <td>1.000000</td>\n      <td>1.000000</td>\n      <td>0.000000</td>\n      <td>...</td>\n      <td>0.000000</td>\n      <td>5.000000</td>\n      <td>4.000000</td>\n      <td>1.000000</td>\n      <td>7.000000</td>\n      <td>0.000000</td>\n      <td>5.000000</td>\n      <td>3.000000</td>\n      <td>0.000000</td>\n      <td>34.000000</td>\n    </tr>\n    <tr>\n      <th>75%</th>\n      <td>0.0</td>\n      <td>1.000000</td>\n      <td>1.000000</td>\n      <td>1.000000</td>\n      <td>1.000000</td>\n      <td>8.000000</td>\n      <td>7.000000</td>\n      <td>1.000000</td>\n      <td>1.000000</td>\n      <td>0.000000</td>\n      <td>...</td>\n      <td>1.000000</td>\n      <td>7.000000</td>\n      <td>5.000000</td>\n      <td>1.000000</td>\n      <td>9.000000</td>\n      <td>0.000000</td>\n      <td>7.000000</td>\n      <td>3.000000</td>\n      <td>1.000000</td>\n      <td>40.000000</td>\n    </tr>\n    <tr>\n      <th>max</th>\n      <td>0.0</td>\n      <td>1.000000</td>\n      <td>1.000000</td>\n      <td>1.000000</td>\n      <td>1.000000</td>\n      <td>10.000000</td>\n      <td>10.000000</td>\n      <td>1.000000</td>\n      <td>1.000000</td>\n      <td>1.000000</td>\n      <td>...</td>\n      <td>1.000000</td>\n      <td>10.000000</td>\n      <td>10.000000</td>\n      <td>1.000000</td>\n      <td>10.000000</td>\n      <td>1.000000</td>\n      <td>10.000000</td>\n      <td>5.000000</td>\n      <td>1.000000</td>\n      <td>66.000000</td>\n    </tr>\n  </tbody>\n</table>\n<p>8 rows × 21 columns</p>\n</div>"
     },
     "metadata": {},
     "execution_count": 41
    }
   ],
   "source": [
    "#se describen estadisticamente las variables numéricas, verificando así que no existan outliers\n",
    "data_raw.describe()"
   ]
  },
  {
   "source": [
    "Analizando las descripciones estadisticas de las variables numéricas, se puede evidenciar que no existen outliers:\n",
    "- En las variables binarias el valor minimo es 0 y el máximo es 1\n",
    "- En las variables que incluyen una calificación (de 0 a 10) el valor minimo es efectivamente 0 y el máximo es 10\n",
    "- En caso de la variable edad, el minimo es 19 y e maximo es 66, no existen registros de personas menores de edad o demasiado mayores"
   ],
   "cell_type": "markdown",
   "metadata": {}
  },
  {
   "cell_type": "code",
   "execution_count": 46,
   "metadata": {},
   "outputs": [
    {
     "output_type": "execute_result",
     "data": {
      "text/plain": [
       "(823, 52)"
      ]
     },
     "metadata": {},
     "execution_count": 46
    }
   ],
   "source": [
    "data_raw.shape"
   ]
  },
  {
   "cell_type": "code",
   "execution_count": 45,
   "metadata": {},
   "outputs": [],
   "source": [
    "data_raw.to_csv(\"../data/clean/enfermedadesMentales_clean.csv\", index = False)"
   ]
  },
  {
   "source": [
    "## Resultados de los datos limpios\n",
    "\n",
    "** - Inicialemnte ** 1173 filas, 98 columnas\n",
    "\n",
    "** - Después de la limpieza ** 823 filas, 52 columnas"
   ],
   "cell_type": "markdown",
   "metadata": {}
  },
  {
   "source": [
    "# Conclusiones\n",
    "La insdutria tecnologica se caracteriza por su innovación, resiliencia y una cultura que fomente la alta productividad; es un ritmo de juego rápido, está bajo una intensa presión para tener exito y mantenerse a la vanguardia. Debido a esto, los empleados de la insutria tecnologica operan bajo un nivel de estrés alto con horarios anormales, plazos ajustados, múltiples responsabilidades y disponibilidad en cualquier momento del día ([IQmetrix](https://https://www.iqmetrix.com/blog/lets-talk-its-time-to-get-serious-about-mental-illness-in-tech)).\n",
    "\n",
    "De acuerdo con los resultados de [OSMI 2016](https://osmihelp.org/blog/the-osmi-2016-survey-results-are-part-of-data), el 51% de los profesionales que trabajan en tecnología fueron diagnosticados con una enfermedad mental, su verdadero problema radica en lo invisible de una enfermedad mental, se convierte en una batalla privada y es dificil saber cuando las personas necesitan ayuda.\n",
    "\n",
    "A pesar de todo lo anterior, los estigmas a las enfermedades mentales han ido cambiado con el pasar de los años, existen más espacios donde hablar estos temas y mejor cubrimiento para las enfermedades y trastornos mentales en los planes de salud ([Forbes](https://www.forbes.com/sites/markhall/2020/02/04/mental-health-mainstream/#cec59ac5cd5e)), entendendiendo así la importancia de la salud mental tanto en el desempeño del trabajo, como el mejoramiento de la calidad de vida . [En 2018, un estudio](https://www.ncbi.nlm.nih.gov/pmc/articles/PMC5891372/) reveló que el 86% de los empleados que reciben apoyo y atención a las enfermedades mentales por parte de sus empresas, reportan un mejor desempeño y menor ausencia en sus trabajos."
   ],
   "cell_type": "markdown",
   "metadata": {}
  }
 ]
}