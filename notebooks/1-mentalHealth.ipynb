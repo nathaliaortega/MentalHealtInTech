{
 "metadata": {
  "language_info": {
   "codemirror_mode": {
    "name": "ipython",
    "version": 3
   },
   "file_extension": ".py",
   "mimetype": "text/x-python",
   "name": "python",
   "nbconvert_exporter": "python",
   "pygments_lexer": "ipython3",
   "version": "3.8.3-final"
  },
  "orig_nbformat": 2,
  "kernelspec": {
   "name": "Python 3.8.3 64-bit",
   "display_name": "Python 3.8.3 64-bit",
   "metadata": {
    "interpreter": {
     "hash": "bc744bf36f45ff7bd3b0ebafda52b31b6c48c96286efbf90fe3cb91ccc1b4516"
    }
   }
  }
 },
 "nbformat": 4,
 "nbformat_minor": 2,
 "cells": [
  {
   "source": [
    "# Enfermedades mentales en tecnología\n",
    "## Facultad TIC Universidad Pontificia Bolivariana <a class=\"tocSkip\">\n",
    "\n",
    "**Estudiante:** Nathalia Andrea Ortega Gómez\n",
    "\n",
    "**ID:** 000200550\n",
    "\n",
    "**Email:** nathalia.ortega@upb.edu.co\n",
    "\n",
    "**Fecha de Entrega: 22 de Octubre de 2020**"
   ],
   "cell_type": "markdown",
   "metadata": {}
  },
  {
   "source": [
    "## Introducción\n",
    "\n",
    "Cada año, [OSMI](https://osmihelp.org/) realiza una encuesta a gran escala sobre la prevalencia y las actitudes hacia la salud mentall de las personas que trabajan en la industria tecnológica.\n",
    "\n",
    "Las posibles salidas para la predicción son:\n",
    "- Yes (tiene actualmente una enfermedad mental)\n",
    "- No (No tiene una enfermedad mental)\n",
    "- Don't Know (No sabe si tiene una enfermedad mental)\n",
    "\n",
    "## Objetivo principal\n",
    "** Predecir qué empleados tienen más probabilidad de padecer una enfermedad mental. **\n",
    "\n",
    "## Información de los datos\n"
   ],
   "cell_type": "markdown",
   "metadata": {}
  },
  {
   "source": [
    "# Importar librerías"
   ],
   "cell_type": "markdown",
   "metadata": {}
  },
  {
   "cell_type": "code",
   "execution_count": 1,
   "metadata": {},
   "outputs": [
    {
     "output_type": "stream",
     "name": "stdout",
     "text": [
      "Requirement already satisfied: pandas in c:\\users\\natya\\appdata\\local\\programs\\python\\python38\\lib\\site-packages (1.1.2)Note: you may need to restart the kernel to use updated packages.\n",
      "Requirement already satisfied: numpy>=1.15.4 in c:\\users\\natya\\appdata\\local\\programs\\python\\python38\\lib\\site-packages (from pandas) (1.19.2)\n",
      "Requirement already satisfied: pytz>=2017.2 in c:\\users\\natya\\appdata\\local\\programs\\python\\python38\\lib\\site-packages (from pandas) (2020.1)\n",
      "\n",
      "WARNING: You are using pip version 20.1.1; however, version 20.2.3 is available.\n",
      "You should consider upgrading via the 'C:\\Users\\natya\\AppData\\Local\\Programs\\Python\\Python38\\python.exe -m pip install --upgrade pip' command.\n",
      "Requirement already satisfied: python-dateutil>=2.7.3 in c:\\users\\natya\\appdata\\local\\programs\\python\\python38\\lib\\site-packages (from pandas) (2.8.1)\n",
      "Requirement already satisfied: six>=1.5 in c:\\users\\natya\\appdata\\roaming\\python\\python38\\site-packages (from python-dateutil>=2.7.3->pandas) (1.15.0)\n"
     ]
    }
   ],
   "source": [
    "pip install pandas"
   ]
  },
  {
   "cell_type": "code",
   "execution_count": 2,
   "metadata": {},
   "outputs": [
    {
     "output_type": "stream",
     "name": "stdout",
     "text": [
      "Requirement already satisfied: numpy in c:\\users\\natya\\appdata\\local\\programs\\python\\python38\\lib\\site-packages (1.19.2)\n",
      "Note: you may need to restart the kernel to use updated packages.\n",
      "WARNING: You are using pip version 20.1.1; however, version 20.2.3 is available.\n",
      "You should consider upgrading via the 'C:\\Users\\natya\\AppData\\Local\\Programs\\Python\\Python38\\python.exe -m pip install --upgrade pip' command.\n"
     ]
    }
   ],
   "source": [
    "pip install numpy"
   ]
  },
  {
   "cell_type": "code",
   "execution_count": 3,
   "metadata": {},
   "outputs": [
    {
     "output_type": "stream",
     "name": "stdout",
     "text": [
      "Note: you may need to restart the kernel to use updated packages.\n",
      "Requirement already satisfied: matplotlib in c:\\users\\natya\\appdata\\local\\programs\\python\\python38\\lib\\site-packages (3.3.2)\n",
      "Requirement already satisfied: pyparsing!=2.0.4,!=2.1.2,!=2.1.6,>=2.0.3 in c:\\users\\natya\\appdata\\local\\programs\\python\\python38\\lib\\site-packages (from matplotlib) (2.4.7)\n",
      "Requirement already satisfied: kiwisolver>=1.0.1 in c:\\users\\natya\\appdata\\local\\programs\\python\\python38\\lib\\site-packages (from matplotlib) (1.2.0)\n",
      "Requirement already satisfied: python-dateutil>=2.1 in c:\\users\\natya\\appdata\\local\\programs\\python\\python38\\lib\\site-packages (from matplotlib) (2.8.1)\n",
      "WARNING: You are using pip version 20.1.1; however, version 20.2.3 is available.\n",
      "You should consider upgrading via the 'C:\\Users\\natya\\AppData\\Local\\Programs\\Python\\Python38\\python.exe -m pip install --upgrade pip' command.\n",
      "Requirement already satisfied: certifi>=2020.06.20 in c:\\users\\natya\\appdata\\local\\programs\\python\\python38\\lib\\site-packages (from matplotlib) (2020.6.20)\n",
      "Requirement already satisfied: pillow>=6.2.0 in c:\\users\\natya\\appdata\\local\\programs\\python\\python38\\lib\\site-packages (from matplotlib) (8.0.0)\n",
      "Requirement already satisfied: cycler>=0.10 in c:\\users\\natya\\appdata\\local\\programs\\python\\python38\\lib\\site-packages (from matplotlib) (0.10.0)\n",
      "Requirement already satisfied: numpy>=1.15 in c:\\users\\natya\\appdata\\local\\programs\\python\\python38\\lib\\site-packages (from matplotlib) (1.19.2)\n",
      "Requirement already satisfied: six>=1.5 in c:\\users\\natya\\appdata\\roaming\\python\\python38\\site-packages (from python-dateutil>=2.1->matplotlib) (1.15.0)\n"
     ]
    }
   ],
   "source": [
    "pip install matplotlib"
   ]
  },
  {
   "cell_type": "code",
   "execution_count": 4,
   "metadata": {},
   "outputs": [],
   "source": [
    "import pandas as pd\n",
    "import numpy as np"
   ]
  },
  {
   "cell_type": "code",
   "execution_count": 5,
   "metadata": {},
   "outputs": [],
   "source": [
    "import matplotlib.pyplot as pyplot"
   ]
  },
  {
   "source": [
    "# Cargar los datos"
   ],
   "cell_type": "markdown",
   "metadata": {}
  },
  {
   "cell_type": "code",
   "execution_count": 6,
   "metadata": {},
   "outputs": [],
   "source": [
    "data_raw = pd.read_csv(\"../data/raw/enfermedadesMentales2017-2018-clean-columns.csv\")"
   ]
  },
  {
   "source": [
    "# Descripción y limpieza de los datos"
   ],
   "cell_type": "markdown",
   "metadata": {}
  },
  {
   "cell_type": "code",
   "execution_count": 7,
   "metadata": {},
   "outputs": [
    {
     "output_type": "stream",
     "name": "stdout",
     "text": [
      "<class 'pandas.core.frame.DataFrame'>\nRangeIndex: 1173 entries, 0 to 1172\nData columns (total 98 columns):\n #   Column                                                      Non-Null Count  Dtype  \n---  ------                                                      --------------  -----  \n 0   #                                                           1173 non-null   object \n 1   independiente/emprendedor                                   1173 non-null   int64  \n 2   No_empleados                                                1004 non-null   object \n 3   compania_tecnologia                                         1004 non-null   float64\n 4   cargo_tecnologia                                            1004 non-null   float64\n 5   cubrimiento_EM                                              1004 non-null   object \n 6   concimiento_cubrimiento_EM                                  900 non-null    object \n 7   charla_EM                                                   1004 non-null   object \n 8   recursos_EM                                                 1004 non-null   object \n 9   anonimato_EM                                                1004 non-null   object \n 10  dejar_trabajo_EM                                            1004 non-null   object \n 11  hablar_salud_mentalYFisica                                  1004 non-null   object \n 12  hablar_jefe_EM                                              1004 non-null   object \n 13  habla_jefe_EM_flag                                          1004 non-null   float64\n 14  describir_conversacion_jefe                                 268 non-null    object \n 15  hablar_EM_companeros_flag                                   1004 non-null   object \n 16  hablar_companeros_EM                                        1003 non-null   float64\n 17  describir_conversacion_companeros                           332 non-null    object \n 18  hablar_companeros_EM_conmigo                                998 non-null    float64\n 19  describir_conversacion_companeros_conmigo                   354 non-null    object \n 20  importacia_salud_fisica                                     1004 non-null   float64\n 21  importancia_salud_mental                                    1004 non-null   float64\n 22  trabajado_otras_empresa                                     1173 non-null   int64  \n 23  empresa_anterior_tecnologia                                 1030 non-null   float64\n 24  empresa_anterior_cargo_tecnologia                           1030 non-null   object \n 25  empresa_anterior_cubrimiento_EM                             1030 non-null   object \n 26  empresa_anterior_charla_EM                                  1030 non-null   object \n 27  empresa_anterior_recursos_EM                                1030 non-null   object \n 28  empresa_anterior_anonimato                                  1030 non-null   object \n 29  empresa_anterior_hablar_salud_mentalYFisica                 1030 non-null   object \n 30  empresa_anterior_hablar_jefe_EM                             1030 non-null   object \n 31  empresa_anterior_hablar_jefe_EM_flag                        1030 non-null   float64\n 32  empresa_anterior_describir_conversacion_jefe                165 non-null    object \n 33  empresa_anterior_dispuesto_hablar_companeros_EM             1030 non-null   object \n 34  empresa_anterior_hablar_companeros_EM                       1028 non-null   float64\n 35  empresa_anterior_describir_conversacion_companeros          222 non-null    object \n 36  empresa_anterior_hablar_companeros_conmigo                  1024 non-null   float64\n 37  empresa_anterior_describir_conversacion_companeros_conmigo  205 non-null    object \n 38  empresa_anterior_importancia_salud_fisica                   1030 non-null   float64\n 39  empresa_anterior_importancia_salud_mental                   1030 non-null   float64\n 40  tiene_EM                                                    1173 non-null   object \n 41  diagnostico_EM                                              515 non-null    object \n 42  trastorno_ansiedad                                          155 non-null    object \n 43  trastorno_humor                                             136 non-null    object \n 44  trastorno_psicotico                                         0 non-null      float64\n 45  trastorno_alimentacion                                      5 non-null      object \n 46  deficit_atencion                                            42 non-null     object \n 47  trastorno_personalidad                                      21 non-null     object \n 48  trastorno_obsesivo_compulsivo                               27 non-null     object \n 49  trastorno_post_traumatico                                   27 non-null     object \n 50  sindrome_estres                                             26 non-null     object \n 51  trastorno_disasocion                                        6 non-null      object \n 52  trastorno_uso_sustancias                                    10 non-null     object \n 53  trastorno_adictivo                                          13 non-null     object \n 54  trastorno_ansiedad.1                                        327 non-null    object \n 55  trastorno_humor.1                                           377 non-null    object \n 56  trastorno_psicotico.1                                       13 non-null     object \n 57  trastorno_alimentacion.1                                    32 non-null     object \n 58  deficit_atencion.1                                          128 non-null    object \n 59  trastorno_personalidad.1                                    24 non-null     object \n 60  trastorno_obsesivo_compulsivo.1                             41 non-null     object \n 61  trastorno_post_traumatico.1                                 78 non-null     object \n 62  sindrome_estres.1                                           13 non-null     object \n 63  trastorno_disasocion.1                                      8 non-null      object \n 64  trastorno_uso_sustancias.1                                  27 non-null     object \n 65  trastorno_adictivo.1                                        18 non-null     object \n 66  Otro                                                        19 non-null     object \n 67  tratamiento_EM                                              1173 non-null   int64  \n 68  EM_familiar                                                 1173 non-null   object \n 69  EM_interfiere_trabajo_buen_tratamiento                      1173 non-null   object \n 70  EM_interfiere_trabajo_mal_tratamiento                       1173 non-null   object \n 71  miedo_hablar_EM                                             916 non-null    object \n 72  hablar_amigos_familia_EM                                    1173 non-null   int64  \n 73  entrevista_trabajo_hablar_EF                                1173 non-null   object \n 74  entrevista_trabajo_hablar_EM                                1173 non-null   object \n 75  identificado_EM_trabajo                                     1171 non-null   float64\n 76  EM_afecta_carrera                                           135 non-null    float64\n 77  EM_afectado_carrera                                         42 non-null     float64\n 78  reaccion_companeros_EM                                      1171 non-null   float64\n 79  no_apoyo_EM                                                 1171 non-null   object \n 80  describir_no_apoyo_EM                                       248 non-null    object \n 81  apoyo_EM                                                    1171 non-null   object \n 82  describir_apoyo_EM                                          0 non-null      float64\n 83  apoyo_industria_tecnologia_EM                               1171 non-null   float64\n 84  describir_apoyo_industria_tecnologia_EM                     789 non-null    object \n 85  otros_comentarios                                           281 non-null    object \n 86  dispuesto_contar_experiencia                                1171 non-null   float64\n 87  edad                                                        1171 non-null   float64\n 88  genero                                                      1157 non-null   object \n 89  pais_vivienda                                               1171 non-null   object \n 90  estado_US_vivienda                                          808 non-null    object \n 91  grupo_etnico                                                784 non-null    object \n 92  Other.1                                                     24 non-null     object \n 93  pais_trabajo                                                1171 non-null   object \n 94  estado_US_trabajo                                           817 non-null    object \n 95  Start Date (UTC)                                            1173 non-null   object \n 96  Submit Date (UTC)                                           1173 non-null   object \n 97  Network ID                                                  1173 non-null   object \ndtypes: float64(22), int64(4), object(72)\nmemory usage: 898.2+ KB\n"
     ]
    }
   ],
   "source": [
    "data_raw.info()"
   ]
  },
  {
   "source": [
    "# Conclusiones\n",
    "La insdutria tecnologica se caracteriza por su innovación, resiliencia y una cultura que fomente la alta productividad; es un ritmo de juego rápido, está bajo una intensa presión para tener exito y mantenerse a la vanguardia. Debido a esto, los empleados de la insutria tecnologica operan bajo un nivel de estrés alto con horarios anormales, plazos ajustados, múltiples responsabilidades y disponibilidad en cualquier momento del día ([IQmetrix](https://https://www.iqmetrix.com/blog/lets-talk-its-time-to-get-serious-about-mental-illness-in-tech)).\n",
    "\n",
    "De acuerdo con los resultados de [OSMI 2016](https://osmihelp.org/blog/the-osmi-2016-survey-results-are-part-of-data), el 51% de los profesionales que trabajan en tecnología fueron diagnosticados con una enfermedad mental, su verdadero problema radica en lo invisible de una enfermedad mental, se convierte en una batalla privada y es dificil saber cuando las personas necesitan ayuda.\n",
    "\n",
    "A pesar de todo lo anterior, los estigmas a las enfermedades mentales han ido cambiado con el pasar de los años, existen más espacios donde hablar estos temas y mejor cubrimiento para las enfermedades y trastornos mentales en los planes de salud ([Forbes](https://www.forbes.com/sites/markhall/2020/02/04/mental-health-mainstream/#cec59ac5cd5e)), entendendiendo así la importancia de la salud mental tanto en el desempeño del trabajo, como el mejoramiento de la calidad de vida . [En 2018, un estudio](https://www.ncbi.nlm.nih.gov/pmc/articles/PMC5891372/) reveló que el 86% de los empleados que reciben apoyo y atención a las enfermedades mentales por parte de sus empresas, reportan un mejor desempeño y menor ausencia en sus trabajos."
   ],
   "cell_type": "markdown",
   "metadata": {}
  }
 ]
}