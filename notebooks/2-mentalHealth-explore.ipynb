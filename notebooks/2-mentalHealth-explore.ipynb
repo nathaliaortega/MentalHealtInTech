{
 "metadata": {
  "language_info": {
   "codemirror_mode": {
    "name": "ipython",
    "version": 3
   },
   "file_extension": ".py",
   "mimetype": "text/x-python",
   "name": "python",
   "nbconvert_exporter": "python",
   "pygments_lexer": "ipython3",
   "version": "3.8.3-final"
  },
  "orig_nbformat": 2,
  "kernelspec": {
   "name": "Python 3.8.3 64-bit",
   "display_name": "Python 3.8.3 64-bit",
   "metadata": {
    "interpreter": {
     "hash": "bc744bf36f45ff7bd3b0ebafda52b31b6c48c96286efbf90fe3cb91ccc1b4516"
    }
   }
  }
 },
 "nbformat": 4,
 "nbformat_minor": 2,
 "cells": [
  {
   "source": [
    "# Enfermedades mentales en tecnología\n",
    "## Facultad TIC Universidad Pontificia Bolivariana <a class=\"tocSkip\">\n",
    "\n",
    "**Estudiante:** Nathalia Andrea Ortega Gómez\n",
    "\n",
    "**ID:** 000200550\n",
    "\n",
    "**Email:** nathalia.ortega@upb.edu.co\n",
    "\n",
    "**Fecha de Entrega: 22 de Octubre de 2020**"
   ],
   "cell_type": "markdown",
   "metadata": {}
  },
  {
   "source": [
    "## Introducción\n",
    "\n",
    "Cada año, [OSMI](https://osmihelp.org/) (open sourcing mental illness) realiza una encuesta a gran escala sobre la prevalencia y las actitudes hacia la salud mentall de las personas que trabajan en la industria tecnológica.\n",
    "\n",
    "Las posibles salidas para la predicción son:\n",
    "- Yes (tiene actualmente una enfermedad mental)\n",
    "- No (No tiene una enfermedad mental)\n",
    "\n",
    "## Objetivo principal\n",
    "** Predecir qué empleados tienen más probabilidad de padecer una enfermedad mental. **\n",
    "\n",
    "## Información de los datos\n",
    "El dataset original contiene muchos datos faltantes, redundantes y ruidosos como es de esperarse en los datos del mundo real.\n",
    "\n",
    "El dataset original, contenía como encabezados las preguntas de la encuesta, las cuales fueron transformadas a nombres más pequeños y discientes. A pesar de que, existen columnas con su mayoría de registros vacíos.\n",
    "\n",
    "## dataset\n",
    "Se unieron dos datsets de la misma encuesta ([las respuestas para el 2017](https://www.kaggle.com/osmihelp/osmi-mental-health-in-tech-survey-2017) y las [respuestas para el 2018](https://www.kaggle.com/osmihelp/osmi-mental-health-in-tech-survey-2018)) teniendo en cuenta que ambas contienen las mismas preguntas y que cada una cuenta con más de 500 registros."
   ],
   "cell_type": "markdown",
   "metadata": {}
  },
  {
   "source": [
    "# Importar librerías"
   ],
   "cell_type": "markdown",
   "metadata": {}
  },
  {
   "cell_type": "code",
   "execution_count": 16,
   "metadata": {},
   "outputs": [
    {
     "output_type": "stream",
     "name": "stdout",
     "text": [
      "Requirement already satisfied: pandas in c:\\users\\natya\\appdata\\local\\programs\\python\\python38\\lib\\site-packages (1.1.2)\n",
      "Requirement already satisfied: pytz>=2017.2 in c:\\users\\natya\\appdata\\local\\programs\\python\\python38\\lib\\site-packages (from pandas) (2020.1)\n",
      "Requirement already satisfied: python-dateutil>=2.7.3 in c:\\users\\natya\\appdata\\local\\programs\\python\\python38\\lib\\site-packages (from pandas) (2.8.1)\n",
      "Requirement already satisfied: numpy>=1.15.4 in c:\\users\\natya\\appdata\\local\\programs\\python\\python38\\lib\\site-packages (from pandas) (1.19.2)\n",
      "Requirement already satisfied: six>=1.5 in c:\\users\\natya\\appdata\\roaming\\python\\python38\\site-packages (from python-dateutil>=2.7.3->pandas) (1.15.0)\n",
      "Note: you may need to restart the kernel to use updated packages.\n",
      "WARNING: You are using pip version 20.1.1; however, version 20.2.3 is available.\n",
      "You should consider upgrading via the 'C:\\Users\\natya\\AppData\\Local\\Programs\\Python\\Python38\\python.exe -m pip install --upgrade pip' command.\n"
     ]
    }
   ],
   "source": [
    "pip install pandas"
   ]
  },
  {
   "cell_type": "code",
   "execution_count": 17,
   "metadata": {},
   "outputs": [
    {
     "output_type": "stream",
     "name": "stdout",
     "text": [
      "Requirement already satisfied: numpy in c:\\users\\natya\\appdata\\local\\programs\\python\\python38\\lib\\site-packages (1.19.2)Note: you may need to restart the kernel to use updated packages.\n",
      "\n",
      "WARNING: You are using pip version 20.1.1; however, version 20.2.3 is available.\n",
      "You should consider upgrading via the 'C:\\Users\\natya\\AppData\\Local\\Programs\\Python\\Python38\\python.exe -m pip install --upgrade pip' command.\n"
     ]
    }
   ],
   "source": [
    "pip install numpy"
   ]
  },
  {
   "cell_type": "code",
   "execution_count": 18,
   "metadata": {},
   "outputs": [
    {
     "output_type": "stream",
     "name": "stdout",
     "text": [
      "Requirement already satisfied: matplotlib in c:\\users\\natya\\appdata\\local\\programs\\python\\python38\\lib\\site-packages (3.3.2)Note: you may need to restart the kernel to use updated packages.\n",
      "WARNING: You are using pip version 20.1.1; however, version 20.2.3 is available.\n",
      "You should consider upgrading via the 'C:\\Users\\natya\\AppData\\Local\\Programs\\Python\\Python38\\python.exe -m pip install --upgrade pip' command.\n",
      "\n",
      "Requirement already satisfied: certifi>=2020.06.20 in c:\\users\\natya\\appdata\\local\\programs\\python\\python38\\lib\\site-packages (from matplotlib) (2020.6.20)\n",
      "Requirement already satisfied: kiwisolver>=1.0.1 in c:\\users\\natya\\appdata\\local\\programs\\python\\python38\\lib\\site-packages (from matplotlib) (1.2.0)\n",
      "Requirement already satisfied: pillow>=6.2.0 in c:\\users\\natya\\appdata\\local\\programs\\python\\python38\\lib\\site-packages (from matplotlib) (8.0.0)\n",
      "Requirement already satisfied: cycler>=0.10 in c:\\users\\natya\\appdata\\local\\programs\\python\\python38\\lib\\site-packages (from matplotlib) (0.10.0)\n",
      "Requirement already satisfied: pyparsing!=2.0.4,!=2.1.2,!=2.1.6,>=2.0.3 in c:\\users\\natya\\appdata\\local\\programs\\python\\python38\\lib\\site-packages (from matplotlib) (2.4.7)\n",
      "Requirement already satisfied: numpy>=1.15 in c:\\users\\natya\\appdata\\local\\programs\\python\\python38\\lib\\site-packages (from matplotlib) (1.19.2)\n",
      "Requirement already satisfied: python-dateutil>=2.1 in c:\\users\\natya\\appdata\\local\\programs\\python\\python38\\lib\\site-packages (from matplotlib) (2.8.1)\n",
      "Requirement already satisfied: six in c:\\users\\natya\\appdata\\roaming\\python\\python38\\site-packages (from cycler>=0.10->matplotlib) (1.15.0)\n"
     ]
    }
   ],
   "source": [
    "pip install matplotlib"
   ]
  },
  {
   "cell_type": "code",
   "execution_count": 19,
   "metadata": {},
   "outputs": [
    {
     "output_type": "stream",
     "name": "stdout",
     "text": [
      "Requirement already satisfied: seaborn in c:\\users\\natya\\appdata\\local\\programs\\python\\python38\\lib\\site-packages (0.11.0)\n",
      "Requirement already satisfied: pandas>=0.23 in c:\\users\\natya\\appdata\\local\\programs\\python\\python38\\lib\\site-packages (from seaborn) (1.1.2)\n",
      "Requirement already satisfied: matplotlib>=2.2 in c:\\users\\natya\\appdata\\local\\programs\\python\\python38\\lib\\site-packages (from seaborn) (3.3.2)\n",
      "Requirement already satisfied: numpy>=1.15 in c:\\users\\natya\\appdata\\local\\programs\\python\\python38\\lib\\site-packages (from seaborn) (1.19.2)\n",
      "Requirement already satisfied: scipy>=1.0 in c:\\users\\natya\\appdata\\local\\programs\\python\\python38\\lib\\site-packages (from seaborn) (1.5.2)\n",
      "Requirement already satisfied: python-dateutil>=2.7.3 in c:\\users\\natya\\appdata\\local\\programs\\python\\python38\\lib\\site-packages (from pandas>=0.23->seaborn) (2.8.1)\n",
      "Requirement already satisfied: pytz>=2017.2 in c:\\users\\natya\\appdata\\local\\programs\\python\\python38\\lib\\site-packages (from pandas>=0.23->seaborn) (2020.1)\n",
      "Requirement already satisfied: certifi>=2020.06.20 in c:\\users\\natya\\appdata\\local\\programs\\python\\python38\\lib\\site-packages (from matplotlib>=2.2->seaborn) (2020.6.20)\n",
      "Requirement already satisfied: pyparsing!=2.0.4,!=2.1.2,!=2.1.6,>=2.0.3 in c:\\users\\natya\\appdata\\local\\programs\\python\\python38\\lib\\site-packages (from matplotlib>=2.2->seaborn) (2.4.7)\n",
      "Requirement already satisfied: pillow>=6.2.0 in c:\\users\\natya\\appdata\\local\\programs\\python\\python38\\lib\\site-packages (from matplotlib>=2.2->seaborn) (8.0.0)\n",
      "Requirement already satisfied: kiwisolver>=1.0.1 in c:\\users\\natya\\appdata\\local\\programs\\python\\python38\\lib\\site-packages (from matplotlib>=2.2->seaborn) (1.2.0)\n",
      "Requirement already satisfied: cycler>=0.10 in c:\\users\\natya\\appdata\\local\\programs\\python\\python38\\lib\\site-packages (from matplotlib>=2.2->seaborn) (0.10.0)\n",
      "Requirement already satisfied: six>=1.5 in c:\\users\\natya\\appdata\\roaming\\python\\python38\\site-packages (from python-dateutil>=2.7.3->pandas>=0.23->seaborn) (1.15.0)\n",
      "Note: you may need to restart the kernel to use updated packages.\n",
      "WARNING: You are using pip version 20.1.1; however, version 20.2.3 is available.\n",
      "You should consider upgrading via the 'C:\\Users\\natya\\AppData\\Local\\Programs\\Python\\Python38\\python.exe -m pip install --upgrade pip' command.\n"
     ]
    }
   ],
   "source": [
    "pip install seaborn"
   ]
  },
  {
   "cell_type": "code",
   "execution_count": 20,
   "metadata": {},
   "outputs": [
    {
     "output_type": "stream",
     "name": "stdout",
     "text": [
      "Requirement already satisfied: googletrans in c:\\users\\natya\\appdata\\local\\programs\\python\\python38\\lib\\site-packages (3.0.0)\n",
      "Requirement already satisfied: httpx==0.13.3 in c:\\users\\natya\\appdata\\local\\programs\\python\\python38\\lib\\site-packages (from googletrans) (0.13.3)\n",
      "Requirement already satisfied: certifi in c:\\users\\natya\\appdata\\local\\programs\\python\\python38\\lib\\site-packages (from httpx==0.13.3->googletrans) (2020.6.20)\n",
      "Requirement already satisfied: sniffio in c:\\users\\natya\\appdata\\local\\programs\\python\\python38\\lib\\site-packages (from httpx==0.13.3->googletrans) (1.2.0)\n",
      "Requirement already satisfied: chardet==3.* in c:\\users\\natya\\appdata\\local\\programs\\python\\python38\\lib\\site-packages (from httpx==0.13.3->googletrans) (3.0.4)\n",
      "Requirement already satisfied: httpcore==0.9.* in c:\\users\\natya\\appdata\\local\\programs\\python\\python38\\lib\\site-packages (from httpx==0.13.3->googletrans) (0.9.1)\n",
      "Requirement already satisfied: rfc3986<2,>=1.3 in c:\\users\\natya\\appdata\\local\\programs\\python\\python38\\lib\\site-packages (from httpx==0.13.3->googletrans) (1.4.0)\n",
      "Requirement already satisfied: hstspreload in c:\\users\\natya\\appdata\\local\\programs\\python\\python38\\lib\\site-packages (from httpx==0.13.3->googletrans) (2020.10.6)\n",
      "Requirement already satisfied: idna==2.* in c:\\users\\natya\\appdata\\local\\programs\\python\\python38\\lib\\site-packages (from httpx==0.13.3->googletrans) (2.10)Note: you may need to restart the kernel to use updated packages.\n",
      "\n",
      "Requirement already satisfied: h2==3.* in c:\\users\\natya\\appdata\\local\\programs\\python\\python38\\lib\\site-packages (from httpcore==0.9.*->httpx==0.13.3->googletrans) (3.2.0)\n",
      "Requirement already satisfied: h11<0.10,>=0.8 in c:\\users\\natya\\appdata\\local\\programs\\python\\python38\\lib\\site-packages (from httpcore==0.9.*->httpx==0.13.3->googletrans) (0.9.0)\n",
      "Requirement already satisfied: hpack<4,>=3.0 in c:\\users\\natya\\appdata\\local\\programs\\python\\python38\\lib\\site-packages (from h2==3.*->httpcore==0.9.*->httpx==0.13.3->googletrans) (3.0.0)\n",
      "WARNING: You are using pip version 20.1.1; however, version 20.2.3 is available.\n",
      "You should consider upgrading via the 'C:\\Users\\natya\\AppData\\Local\\Programs\\Python\\Python38\\python.exe -m pip install --upgrade pip' command.\n",
      "Requirement already satisfied: hyperframe<6,>=5.2.0 in c:\\users\\natya\\appdata\\local\\programs\\python\\python38\\lib\\site-packages (from h2==3.*->httpcore==0.9.*->httpx==0.13.3->googletrans) (5.2.0)\n"
     ]
    }
   ],
   "source": [
    "pip install googletrans"
   ]
  },
  {
   "cell_type": "code",
   "execution_count": 21,
   "metadata": {},
   "outputs": [],
   "source": [
    "import pandas as pd\n",
    "import numpy as np\n",
    "import seaborn as sns\n",
    "import csv\n",
    "from googletrans import Translator\n",
    "%matplotlib inline"
   ]
  },
  {
   "source": [
    "# Cargar los datos"
   ],
   "cell_type": "markdown",
   "metadata": {}
  },
  {
   "cell_type": "code",
   "execution_count": 22,
   "metadata": {},
   "outputs": [],
   "source": [
    "mentalHealth_df = pd.read_csv(\"../data/clean/enfermedadesMentales_clean.csv\")"
   ]
  },
  {
   "cell_type": "code",
   "execution_count": 23,
   "metadata": {},
   "outputs": [
    {
     "output_type": "stream",
     "name": "stdout",
     "text": [
      "<class 'pandas.core.frame.DataFrame'>\nRangeIndex: 823 entries, 0 to 822\nData columns (total 52 columns):\n #   Column                                           Non-Null Count  Dtype  \n---  ------                                           --------------  -----  \n 0   independiente/emprendedor                        823 non-null    int64  \n 1   No_empleados                                     823 non-null    object \n 2   compania_tecnologia                              823 non-null    float64\n 3   cubrimiento_EM                                   823 non-null    object \n 4   concimiento_cubrimiento_EM                       823 non-null    object \n 5   charla_EM                                        823 non-null    object \n 6   recursos_EM                                      823 non-null    object \n 7   anonimato_EM                                     823 non-null    object \n 8   dejar_trabajo_EM                                 823 non-null    object \n 9   hablar_salud_mentalYFisica                       823 non-null    object \n 10  hablar_jefe_EM                                   823 non-null    object \n 11  habla_jefe_EM_flag                               823 non-null    float64\n 12  hablar_EM_companeros_flag                        823 non-null    object \n 13  hablar_companeros_EM                             823 non-null    float64\n 14  hablar_companeros_EM_conmigo                     823 non-null    float64\n 15  importacia_salud_fisica                          823 non-null    float64\n 16  importancia_salud_mental                         823 non-null    float64\n 17  trabajado_otras_empresa                          823 non-null    int64  \n 18  empresa_anterior_tecnologia                      823 non-null    float64\n 19  empresa_anterior_cargo_tecnologia                823 non-null    object \n 20  empresa_anterior_cubrimiento_EM                  823 non-null    object \n 21  empresa_anterior_charla_EM                       823 non-null    object \n 22  empresa_anterior_recursos_EM                     823 non-null    object \n 23  empresa_anterior_anonimato                       823 non-null    object \n 24  empresa_anterior_hablar_salud_mentalYFisica      823 non-null    object \n 25  empresa_anterior_hablar_jefe_EM                  823 non-null    object \n 26  empresa_anterior_hablar_jefe_EM_flag             823 non-null    float64\n 27  empresa_anterior_dispuesto_hablar_companeros_EM  823 non-null    object \n 28  empresa_anterior_hablar_companeros_EM            823 non-null    float64\n 29  empresa_anterior_hablar_companeros_conmigo       823 non-null    float64\n 30  empresa_anterior_importancia_salud_fisica        823 non-null    float64\n 31  empresa_anterior_importancia_salud_mental        823 non-null    float64\n 32  tiene_EM                                         823 non-null    object \n 33  tratamiento_EM                                   823 non-null    int64  \n 34  EM_familiar                                      823 non-null    object \n 35  EM_interfiere_trabajo_buen_tratamiento           823 non-null    object \n 36  EM_interfiere_trabajo_mal_tratamiento            823 non-null    object \n 37  miedo_hablar_EM                                  823 non-null    object \n 38  hablar_amigos_familia_EM                         823 non-null    int64  \n 39  entrevista_trabajo_hablar_EF                     823 non-null    object \n 40  entrevista_trabajo_hablar_EM                     823 non-null    object \n 41  identificado_EM_trabajo                          823 non-null    float64\n 42  reaccion_companeros_EM                           823 non-null    float64\n 43  no_apoyo_EM                                      823 non-null    object \n 44  apoyo_EM                                         823 non-null    object \n 45  apoyo_industria_tecnologia_EM                    823 non-null    float64\n 46  dispuesto_contar_experiencia                     823 non-null    float64\n 47  edad                                             823 non-null    float64\n 48  genero                                           823 non-null    object \n 49  pais_vivienda                                    823 non-null    object \n 50  grupo_etnico                                     823 non-null    object \n 51  pais_trabajo                                     823 non-null    object \ndtypes: float64(17), int64(4), object(31)\nmemory usage: 334.5+ KB\n"
     ]
    }
   ],
   "source": [
    "mentalHealth_df.info()"
   ]
  }
 ]
}